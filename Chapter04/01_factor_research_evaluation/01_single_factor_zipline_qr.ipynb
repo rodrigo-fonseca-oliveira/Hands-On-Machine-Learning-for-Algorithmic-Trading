{
 "cells": [
  {
   "attachments": {},
   "cell_type": "markdown",
   "metadata": {},
   "source": [
    "## Setup"
   ]
  },
  {
   "cell_type": "code",
   "execution_count": 1,
   "metadata": {
    "ExecuteTime": {
     "end_time": "2018-10-30T21:44:42.172127Z",
     "start_time": "2018-10-30T21:44:42.159418Z"
    }
   },
   "outputs": [],
   "source": [
    "import re\n",
    "import warnings\n",
    "import seaborn as sns\n",
    "import matplotlib.pyplot as plt\n",
    "from alphalens.utils import get_clean_factor_and_forward_returns\n",
    "from alphalens.performance import *\n",
    "from alphalens.plotting import *\n",
    "from alphalens.tears import *"
   ]
  },
  {
   "cell_type": "code",
   "execution_count": 2,
   "metadata": {
    "ExecuteTime": {
     "end_time": "2018-10-30T21:44:42.408107Z",
     "start_time": "2018-10-30T21:44:42.399809Z"
    }
   },
   "outputs": [],
   "source": [
    "warnings.filterwarnings('ignore')\n",
    "%matplotlib inline\n",
    "plt.style.use('fivethirtyeight')"
   ]
  },
  {
   "attachments": {},
   "cell_type": "markdown",
   "metadata": {},
   "source": [
    "### Version conflict"
   ]
  },
  {
   "attachments": {},
   "cell_type": "markdown",
   "metadata": {},
   "source": [
    "At the time of writing, `zipline` required `pandas<=0.22` so you may need to run `pip install -U zipline` to temporarily downgrade `pandas` or set up a separate environment."
   ]
  },
  {
   "attachments": {},
   "cell_type": "markdown",
   "metadata": {},
   "source": [
    "## Zipline AlphaFactor Test"
   ]
  },
  {
   "attachments": {},
   "cell_type": "markdown",
   "metadata": {},
   "source": [
    "We are first going to illustrate the zipline alpha factor research workflow in an offline environment. In particular, we will develop and test a simple mean-reversion factor that measures how much recent performance has deviated from the historical average. \n",
    "\n",
    "Short-term reversal is a common strategy that takes advantage of the weakly predictive pattern that stock price increases are likely to mean-revert back down over horizons from less than a minute to one month."
   ]
  },
  {
   "attachments": {},
   "cell_type": "markdown",
   "metadata": {},
   "source": [
    "To this end, the factor computes the z-score for the last monthly return relative to the rolling monthly returns over the last year. At this point, we will not place any orders to simply illustrate the implementation of a CustomFactor and record the results during the simulation.\n",
    "\n",
    "After some basic settings, `MeanReversion` subclasses `CustomFactor` and defines a `compute()` method. It creates default inputs of monthly returns over an also default year-long window so that the monthly_return variable will have 252 rows and one column for each security in the Quandl dataset on a given day.\n",
    "\n",
    "The `compute_factors()` method creates a `MeanReversion` factor instance and creates long, short, and ranking pipeline columns. The former two contain Boolean values that could be used to place orders, and the latter reflects that overall ranking to evaluate the overall factor performance. Furthermore, it uses the built-in `AverageDollarVolume` factor to limit the computation to more liquid stocks"
   ]
  },
  {
   "attachments": {},
   "cell_type": "markdown",
   "metadata": {},
   "source": [
    "The result would allow us to place long and short orders. We will see in the next chapter how to build a portfolio by choosing a rebalancing period and adjusting portfolio holdings as new signals arrive."
   ]
  },
  {
   "attachments": {},
   "cell_type": "markdown",
   "metadata": {},
   "source": [
    "- The `initialize()` method registers the compute_factors() pipeline, and the before_trading_start() method ensures the pipeline runs on a daily basis. \n",
    "- The `record()` function adds the pipeline's ranking column as well as the current asset prices to the performance DataFrame returned by the `run_algorithm()` function"
   ]
  },
  {
   "attachments": {},
   "cell_type": "markdown",
   "metadata": {},
   "source": [
    "We will use the factor and pricing data stored in the performance DataFrame to evaluate the factor performance for various holding periods in the next section, but first, we'll take a look at how to create more complex signals by combining several alpha factors from a diverse set of data sources on the Quantopian platform."
   ]
  },
  {
   "attachments": {},
   "cell_type": "markdown",
   "metadata": {},
   "source": [
    "Run using jupyter notebook extension"
   ]
  },
  {
   "cell_type": "code",
   "execution_count": null,
   "metadata": {
    "ExecuteTime": {
     "end_time": "2018-10-30T21:44:57.213473Z",
     "start_time": "2018-10-30T21:44:57.201320Z"
    }
   },
   "outputs": [],
   "source": [
    "# %load_ext zipline"
   ]
  },
  {
   "cell_type": "code",
   "execution_count": 9,
   "metadata": {
    "ExecuteTime": {
     "end_time": "2018-10-30T21:45:15.973681Z",
     "start_time": "2018-10-30T21:44:57.402572Z"
    }
   },
   "outputs": [],
   "source": [
    "# %%zipline --start 2015-1-1 --end 2018-1-1 --output single_factor.pickle\n",
    "\n",
    "from zipline.api import (\n",
    "    attach_pipeline,\n",
    "    date_rules,\n",
    "    time_rules,\n",
    "    order_target_percent,\n",
    "    pipeline_output,\n",
    "    record,\n",
    "    schedule_function,\n",
    "    get_open_orders,\n",
    "    # calendars\n",
    ")\n",
    "from zipline.finance import commission, slippage\n",
    "from zipline.pipeline import Pipeline, CustomFactor\n",
    "from zipline.pipeline.factors import Returns, AverageDollarVolume\n",
    "import numpy as np\n",
    "import pandas as pd\n",
    "\n",
    "MONTH = 21\n",
    "YEAR = 12 * MONTH\n",
    "N_LONGS = N_SHORTS = 25\n",
    "VOL_SCREEN = 1000\n",
    "\n",
    "\n",
    "class MeanReversion(CustomFactor):\n",
    "    \"\"\"Compute ratio of latest monthly return to 12m average,\n",
    "       normalized by std dev of monthly returns\"\"\"\n",
    "    inputs = [Returns(window_length=MONTH)]\n",
    "    window_length = YEAR\n",
    "\n",
    "    def compute(self, today, assets, out, monthly_returns):\n",
    "        df = pd.DataFrame(monthly_returns)\n",
    "        out[:] = df.iloc[-1].sub(df.mean()).div(df.std())\n",
    "\n",
    "\n",
    "def compute_factors():\n",
    "    \"\"\"Create factor pipeline incl. mean reversion,\n",
    "        filtered by 30d Dollar Volume; capture factor ranks\"\"\"\n",
    "    mean_reversion = MeanReversion()\n",
    "    dollar_volume = AverageDollarVolume(window_length=30)\n",
    "    return Pipeline(columns={'longs': mean_reversion.bottom(N_LONGS),\n",
    "                             'shorts': mean_reversion.top(N_SHORTS),\n",
    "                             'ranking': mean_reversion.rank(ascending=False)},\n",
    "                    screen=dollar_volume.top(VOL_SCREEN))\n",
    "\n",
    "\n",
    "def exec_trades(data, assets, target_percent):\n",
    "    \"\"\"Place orders for assets using target portfolio percentage\"\"\"\n",
    "    for asset in assets:\n",
    "        if data.can_trade(asset) and not get_open_orders(asset):\n",
    "            order_target_percent(asset, target_percent)\n",
    "\n",
    "\n",
    "def rebalance(context, data):\n",
    "    \"\"\"Compute long, short and obsolete holdings; place trade orders\"\"\"\n",
    "    factor_data = context.factor_data\n",
    "    record(factor_data=factor_data.ranking)\n",
    "\n",
    "    assets = factor_data.index\n",
    "    record(prices=data.current(assets, 'price'))\n",
    "\n",
    "    longs = assets[factor_data.longs]\n",
    "    shorts = assets[factor_data.shorts]\n",
    "    divest = set(context.portfolio.positions.keys()) - set(longs.union(shorts))\n",
    "\n",
    "    exec_trades(data, assets=divest, target_percent=0)\n",
    "    exec_trades(data, assets=longs, target_percent=1 / N_LONGS)\n",
    "    exec_trades(data, assets=shorts, target_percent=-1 / N_SHORTS)\n",
    "\n",
    "\n",
    "def initialize(context):\n",
    "    \"\"\"Setup: register pipeline, schedule rebalancing,\n",
    "        and set trading params\"\"\"\n",
    "    attach_pipeline(compute_factors(), 'factor_pipeline')\n",
    "    schedule_function(rebalance,\n",
    "                      date_rules.week_start(),\n",
    "                      time_rules.market_open())\n",
    "                    #   ,\n",
    "    #                   calendar=calendars.US_EQUITIES)\n",
    "    context.set_commission(commission.PerShare(cost=.01, min_trade_cost=0))\n",
    "    context.set_slippage(slippage.VolumeShareSlippage())\n",
    "\n",
    "\n",
    "def before_trading_start(context, data):\n",
    "    \"\"\"Run factor pipeline\"\"\"\n",
    "    context.factor_data = pipeline_output('factor_pipeline')"
   ]
  },
  {
   "cell_type": "code",
   "execution_count": 7,
   "metadata": {},
   "outputs": [
    {
     "data": {
      "text/plain": [
       "{'status': 'successfully set default bundle'}"
      ]
     },
     "execution_count": 7,
     "metadata": {},
     "output_type": "execute_result"
    }
   ],
   "source": [
    "from quantrocket.zipline import set_default_bundle, list_bundles\n",
    "set_default_bundle(\"usstock-1d-bundle\")"
   ]
  },
  {
   "cell_type": "code",
   "execution_count": 13,
   "metadata": {},
   "outputs": [
    {
     "ename": "AttributeError",
     "evalue": "'function' object has no attribute 'domain'",
     "output_type": "error",
     "traceback": [
      "\u001b[0;31m---------------------------------------------------------------------------\u001b[0m",
      "\u001b[0;31mAttributeError\u001b[0m                            Traceback (most recent call last)",
      "\u001b[1;32m/codeload/Hands-On-Machine-Learning-for-Algorithmic-Trading/Chapter04/01_factor_research_evaluation/01_single_factor_zipline_qr.ipynb Cell 16\u001b[0m in \u001b[0;36m<cell line: 2>\u001b[0;34m()\u001b[0m\n\u001b[1;32m      <a href='vscode-notebook-cell://attached-container%2B7b22636f6e7461696e65724e616d65223a222f7175616e74726f636b65742d6a7570797465722d31227d/codeload/Hands-On-Machine-Learning-for-Algorithmic-Trading/Chapter04/01_factor_research_evaluation/01_single_factor_zipline_qr.ipynb#X32sdnNjb2RlLXJlbW90ZQ%3D%3D?line=0'>1</a>\u001b[0m \u001b[39mfrom\u001b[39;00m \u001b[39mzipline\u001b[39;00m\u001b[39m.\u001b[39;00m\u001b[39mresearch\u001b[39;00m \u001b[39mimport\u001b[39;00m run_pipeline\n\u001b[0;32m----> <a href='vscode-notebook-cell://attached-container%2B7b22636f6e7461696e65724e616d65223a222f7175616e74726f636b65742d6a7570797465722d31227d/codeload/Hands-On-Machine-Learning-for-Algorithmic-Trading/Chapter04/01_factor_research_evaluation/01_single_factor_zipline_qr.ipynb#X32sdnNjb2RlLXJlbW90ZQ%3D%3D?line=1'>2</a>\u001b[0m factors \u001b[39m=\u001b[39m run_pipeline(compute_factors, start_date\u001b[39m=\u001b[39;49m\u001b[39m\"\u001b[39;49m\u001b[39m2021-01-01\u001b[39;49m\u001b[39m\"\u001b[39;49m, end_date\u001b[39m=\u001b[39;49m\u001b[39m\"\u001b[39;49m\u001b[39m2023-05-12\u001b[39;49m\u001b[39m\"\u001b[39;49m)\n\u001b[1;32m      <a href='vscode-notebook-cell://attached-container%2B7b22636f6e7461696e65724e616d65223a222f7175616e74726f636b65742d6a7570797465722d31227d/codeload/Hands-On-Machine-Learning-for-Algorithmic-Trading/Chapter04/01_factor_research_evaluation/01_single_factor_zipline_qr.ipynb#X32sdnNjb2RlLXJlbW90ZQ%3D%3D?line=2'>3</a>\u001b[0m factors\u001b[39m.\u001b[39mtail()\n",
      "File \u001b[0;32m/opt/conda/lib/python3.9/site-packages/zipline/research/pipeline.py:91\u001b[0m, in \u001b[0;36mrun_pipeline\u001b[0;34m(pipeline, start_date, end_date, bundle)\u001b[0m\n\u001b[1;32m     34\u001b[0m \u001b[39mdef\u001b[39;00m \u001b[39mrun_pipeline\u001b[39m(\n\u001b[1;32m     35\u001b[0m     pipeline: Pipeline,\n\u001b[1;32m     36\u001b[0m     start_date: \u001b[39mstr\u001b[39m,\n\u001b[1;32m     37\u001b[0m     end_date: \u001b[39mstr\u001b[39m \u001b[39m=\u001b[39m \u001b[39mNone\u001b[39;00m,\n\u001b[1;32m     38\u001b[0m     bundle: \u001b[39mstr\u001b[39m \u001b[39m=\u001b[39m \u001b[39mNone\u001b[39;00m\n\u001b[1;32m     39\u001b[0m     ) \u001b[39m-\u001b[39m\u001b[39m>\u001b[39m pd\u001b[39m.\u001b[39mDataFrame:\n\u001b[1;32m     40\u001b[0m \u001b[39m    \u001b[39m\u001b[39m\"\"\"\u001b[39;00m\n\u001b[1;32m     41\u001b[0m \u001b[39m    Compute values for pipeline from start_date to end_date, using the specified\u001b[39;00m\n\u001b[1;32m     42\u001b[0m \u001b[39m    bundle or the default bundle.\u001b[39;00m\n\u001b[0;32m   (...)\u001b[0m\n\u001b[1;32m     89\u001b[0m \u001b[39m        factor = run_pipeline(pipeline, '2018-01-01', '2019-02-01', bundle=\"usstock-1min\")\u001b[39;00m\n\u001b[1;32m     90\u001b[0m \u001b[39m    \"\"\"\u001b[39;00m\n\u001b[0;32m---> 91\u001b[0m     \u001b[39mreturn\u001b[39;00m _run_pipeline(\n\u001b[1;32m     92\u001b[0m         pipeline,\n\u001b[1;32m     93\u001b[0m         start_date\u001b[39m=\u001b[39;49mstart_date,\n\u001b[1;32m     94\u001b[0m         end_date\u001b[39m=\u001b[39;49mend_date,\n\u001b[1;32m     95\u001b[0m         bundle\u001b[39m=\u001b[39;49mbundle)\n",
      "File \u001b[0;32m/opt/conda/lib/python3.9/site-packages/zipline/research/pipeline.py:231\u001b[0m, in \u001b[0;36m_run_pipeline\u001b[0;34m(pipeline, start_date, end_date, bundle, mask)\u001b[0m\n\u001b[1;32m    223\u001b[0m     kwargs[\u001b[39m\"\u001b[39m\u001b[39mpopulate_initial_workspace\u001b[39m\u001b[39m\"\u001b[39m] \u001b[39m=\u001b[39m populate_initial_workspace\n\u001b[1;32m    225\u001b[0m engine \u001b[39m=\u001b[39m SimplePipelineEngine(\n\u001b[1;32m    226\u001b[0m     pipeline_loader,\n\u001b[1;32m    227\u001b[0m     asset_finder,\n\u001b[1;32m    228\u001b[0m     calendar_domain,\n\u001b[1;32m    229\u001b[0m     \u001b[39m*\u001b[39m\u001b[39m*\u001b[39mkwargs)\n\u001b[0;32m--> 231\u001b[0m \u001b[39mreturn\u001b[39;00m engine\u001b[39m.\u001b[39;49mrun_pipeline(pipeline, start_date, end_date)\n",
      "File \u001b[0;32m/opt/conda/lib/python3.9/site-packages/zipline/pipeline/engine.py:389\u001b[0m, in \u001b[0;36mSimplePipelineEngine.run_pipeline\u001b[0;34m(self, pipeline, start_date, end_date, hooks)\u001b[0m\n\u001b[1;32m    387\u001b[0m hooks \u001b[39m=\u001b[39m \u001b[39mself\u001b[39m\u001b[39m.\u001b[39m_resolve_hooks(hooks)\n\u001b[1;32m    388\u001b[0m \u001b[39mwith\u001b[39;00m hooks\u001b[39m.\u001b[39mrunning_pipeline(pipeline, start_date, end_date):\n\u001b[0;32m--> 389\u001b[0m     \u001b[39mreturn\u001b[39;00m \u001b[39mself\u001b[39;49m\u001b[39m.\u001b[39;49m_run_pipeline_impl(\n\u001b[1;32m    390\u001b[0m         pipeline,\n\u001b[1;32m    391\u001b[0m         start_date,\n\u001b[1;32m    392\u001b[0m         end_date,\n\u001b[1;32m    393\u001b[0m         hooks,\n\u001b[1;32m    394\u001b[0m     )\n",
      "File \u001b[0;32m/opt/conda/lib/python3.9/site-packages/zipline/pipeline/engine.py:407\u001b[0m, in \u001b[0;36mSimplePipelineEngine._run_pipeline_impl\u001b[0;34m(self, pipeline, start_date, end_date, hooks)\u001b[0m\n\u001b[1;32m    401\u001b[0m \u001b[39mif\u001b[39;00m end_date \u001b[39m<\u001b[39m start_date:\n\u001b[1;32m    402\u001b[0m     \u001b[39mraise\u001b[39;00m \u001b[39mValueError\u001b[39;00m(\n\u001b[1;32m    403\u001b[0m         \u001b[39m\"\u001b[39m\u001b[39mstart_date must be before or equal to end_date \u001b[39m\u001b[39m\\n\u001b[39;00m\u001b[39m\"\u001b[39m\n\u001b[1;32m    404\u001b[0m         \u001b[39m\"\u001b[39m\u001b[39mstart_date=\u001b[39m\u001b[39m%s\u001b[39;00m\u001b[39m, end_date=\u001b[39m\u001b[39m%s\u001b[39;00m\u001b[39m\"\u001b[39m \u001b[39m%\u001b[39m (start_date, end_date)\n\u001b[1;32m    405\u001b[0m     )\n\u001b[0;32m--> 407\u001b[0m domain \u001b[39m=\u001b[39m \u001b[39mself\u001b[39;49m\u001b[39m.\u001b[39;49mresolve_domain(pipeline)\n\u001b[1;32m    409\u001b[0m plan \u001b[39m=\u001b[39m pipeline\u001b[39m.\u001b[39mto_execution_plan(\n\u001b[1;32m    410\u001b[0m     domain, \u001b[39mself\u001b[39m\u001b[39m.\u001b[39m_root_mask_term, start_date, end_date,\n\u001b[1;32m    411\u001b[0m )\n\u001b[1;32m    412\u001b[0m extra_rows \u001b[39m=\u001b[39m plan\u001b[39m.\u001b[39mextra_rows[\u001b[39mself\u001b[39m\u001b[39m.\u001b[39m_root_mask_term]\n",
      "File \u001b[0;32m/opt/conda/lib/python3.9/site-packages/zipline/pipeline/engine.py:896\u001b[0m, in \u001b[0;36mSimplePipelineEngine.resolve_domain\u001b[0;34m(self, pipeline)\u001b[0m\n\u001b[1;32m    893\u001b[0m \u001b[39mdef\u001b[39;00m \u001b[39mresolve_domain\u001b[39m(\u001b[39mself\u001b[39m, pipeline):\n\u001b[1;32m    894\u001b[0m \u001b[39m    \u001b[39m\u001b[39m\"\"\"Resolve a concrete domain for ``pipeline``.\u001b[39;00m\n\u001b[1;32m    895\u001b[0m \u001b[39m    \"\"\"\u001b[39;00m\n\u001b[0;32m--> 896\u001b[0m     domain \u001b[39m=\u001b[39m pipeline\u001b[39m.\u001b[39;49mdomain(default\u001b[39m=\u001b[39m\u001b[39mself\u001b[39m\u001b[39m.\u001b[39m_default_domain)\n\u001b[1;32m    897\u001b[0m     \u001b[39mif\u001b[39;00m domain \u001b[39mis\u001b[39;00m GENERIC:\n\u001b[1;32m    898\u001b[0m         \u001b[39mraise\u001b[39;00m \u001b[39mValueError\u001b[39;00m(\n\u001b[1;32m    899\u001b[0m             \u001b[39m\"\u001b[39m\u001b[39mUnable to determine domain for Pipeline.\u001b[39m\u001b[39m\\n\u001b[39;00m\u001b[39m\"\u001b[39m\n\u001b[1;32m    900\u001b[0m             \u001b[39m\"\u001b[39m\u001b[39mPass domain=<desired domain> to your Pipeline to set a \u001b[39m\u001b[39m\"\u001b[39m\n\u001b[1;32m    901\u001b[0m             \u001b[39m\"\u001b[39m\u001b[39mdomain.\u001b[39m\u001b[39m\"\u001b[39m\n\u001b[1;32m    902\u001b[0m         )\n",
      "\u001b[0;31mAttributeError\u001b[0m: 'function' object has no attribute 'domain'"
     ]
    }
   ],
   "source": [
    "from zipline.research import run_pipeline\n",
    "factors = run_pipeline(compute_factors, start_date=\"2021-01-01\", end_date=\"2023-05-12\")\n",
    "factors.tail()"
   ]
  },
  {
   "cell_type": "code",
   "execution_count": 10,
   "metadata": {},
   "outputs": [
    {
     "ename": "AttributeError",
     "evalue": "'function' object has no attribute 'columns'",
     "output_type": "error",
     "traceback": [
      "\u001b[0;31m---------------------------------------------------------------------------\u001b[0m",
      "\u001b[0;31mAttributeError\u001b[0m                            Traceback (most recent call last)",
      "\u001b[1;32m/codeload/Hands-On-Machine-Learning-for-Algorithmic-Trading/Chapter04/01_factor_research_evaluation/01_single_factor_zipline_qr.ipynb Cell 16\u001b[0m in \u001b[0;36m<cell line: 3>\u001b[0;34m()\u001b[0m\n\u001b[1;32m      <a href='vscode-notebook-cell://attached-container%2B7b22636f6e7461696e65724e616d65223a222f7175616e74726f636b65742d6a7570797465722d31227d/codeload/Hands-On-Machine-Learning-for-Algorithmic-Trading/Chapter04/01_factor_research_evaluation/01_single_factor_zipline_qr.ipynb#X31sdnNjb2RlLXJlbW90ZQ%3D%3D?line=0'>1</a>\u001b[0m \u001b[39mimport\u001b[39;00m \u001b[39malphalens\u001b[39;00m \u001b[39mas\u001b[39;00m \u001b[39mal\u001b[39;00m\n\u001b[0;32m----> <a href='vscode-notebook-cell://attached-container%2B7b22636f6e7461696e65724e616d65223a222f7175616e74726f636b65742d6a7570797465722d31227d/codeload/Hands-On-Machine-Learning-for-Algorithmic-Trading/Chapter04/01_factor_research_evaluation/01_single_factor_zipline_qr.ipynb#X31sdnNjb2RlLXJlbW90ZQ%3D%3D?line=2'>3</a>\u001b[0m al\u001b[39m.\u001b[39;49mfrom_pipeline(\n\u001b[1;32m      <a href='vscode-notebook-cell://attached-container%2B7b22636f6e7461696e65724e616d65223a222f7175616e74726f636b65742d6a7570797465722d31227d/codeload/Hands-On-Machine-Learning-for-Algorithmic-Trading/Chapter04/01_factor_research_evaluation/01_single_factor_zipline_qr.ipynb#X31sdnNjb2RlLXJlbW90ZQ%3D%3D?line=3'>4</a>\u001b[0m     pipeline, \n\u001b[1;32m      <a href='vscode-notebook-cell://attached-container%2B7b22636f6e7461696e65724e616d65223a222f7175616e74726f636b65742d6a7570797465722d31227d/codeload/Hands-On-Machine-Learning-for-Algorithmic-Trading/Chapter04/01_factor_research_evaluation/01_single_factor_zipline_qr.ipynb#X31sdnNjb2RlLXJlbW90ZQ%3D%3D?line=4'>5</a>\u001b[0m     \u001b[39m# the `factor` argument tells which Pipeline column to use to form the quantiles\u001b[39;49;00m\n\u001b[1;32m      <a href='vscode-notebook-cell://attached-container%2B7b22636f6e7461696e65724e616d65223a222f7175616e74726f636b65742d6a7570797465722d31227d/codeload/Hands-On-Machine-Learning-for-Algorithmic-Trading/Chapter04/01_factor_research_evaluation/01_single_factor_zipline_qr.ipynb#X31sdnNjb2RlLXJlbW90ZQ%3D%3D?line=5'>6</a>\u001b[0m     factor\u001b[39m=\u001b[39;49m\u001b[39m\"\u001b[39;49m\u001b[39mranking\u001b[39;49m\u001b[39m\"\u001b[39;49m,\n\u001b[1;32m      <a href='vscode-notebook-cell://attached-container%2B7b22636f6e7461696e65724e616d65223a222f7175616e74726f636b65742d6a7570797465722d31227d/codeload/Hands-On-Machine-Learning-for-Algorithmic-Trading/Chapter04/01_factor_research_evaluation/01_single_factor_zipline_qr.ipynb#X31sdnNjb2RlLXJlbW90ZQ%3D%3D?line=6'>7</a>\u001b[0m     start_date\u001b[39m=\u001b[39;49m\u001b[39m\"\u001b[39;49m\u001b[39m2021-01-01\u001b[39;49m\u001b[39m\"\u001b[39;49m, \n\u001b[1;32m      <a href='vscode-notebook-cell://attached-container%2B7b22636f6e7461696e65724e616d65223a222f7175616e74726f636b65742d6a7570797465722d31227d/codeload/Hands-On-Machine-Learning-for-Algorithmic-Trading/Chapter04/01_factor_research_evaluation/01_single_factor_zipline_qr.ipynb#X31sdnNjb2RlLXJlbW90ZQ%3D%3D?line=7'>8</a>\u001b[0m     end_date\u001b[39m=\u001b[39;49m\u001b[39m\"\u001b[39;49m\u001b[39m2023-04-12\u001b[39;49m\u001b[39m\"\u001b[39;49m,\n\u001b[1;32m      <a href='vscode-notebook-cell://attached-container%2B7b22636f6e7461696e65724e616d65223a222f7175616e74726f636b65742d6a7570797465722d31227d/codeload/Hands-On-Machine-Learning-for-Algorithmic-Trading/Chapter04/01_factor_research_evaluation/01_single_factor_zipline_qr.ipynb#X31sdnNjb2RlLXJlbW90ZQ%3D%3D?line=8'>9</a>\u001b[0m     \u001b[39m# For a very small sample universe, you might only want 2 quantiles \u001b[39;49;00m\n\u001b[1;32m     <a href='vscode-notebook-cell://attached-container%2B7b22636f6e7461696e65724e616d65223a222f7175616e74726f636b65742d6a7570797465722d31227d/codeload/Hands-On-Machine-Learning-for-Algorithmic-Trading/Chapter04/01_factor_research_evaluation/01_single_factor_zipline_qr.ipynb#X31sdnNjb2RlLXJlbW90ZQ%3D%3D?line=9'>10</a>\u001b[0m     quantiles\u001b[39m=\u001b[39;49m\u001b[39m2\u001b[39;49m\n\u001b[1;32m     <a href='vscode-notebook-cell://attached-container%2B7b22636f6e7461696e65724e616d65223a222f7175616e74726f636b65742d6a7570797465722d31227d/codeload/Hands-On-Machine-Learning-for-Algorithmic-Trading/Chapter04/01_factor_research_evaluation/01_single_factor_zipline_qr.ipynb#X31sdnNjb2RlLXJlbW90ZQ%3D%3D?line=10'>11</a>\u001b[0m )\n",
      "File \u001b[0;32m/opt/conda/lib/python3.9/site-packages/alphalens/pipeline.py:209\u001b[0m, in \u001b[0;36mfrom_pipeline\u001b[0;34m(pipeline, start_date, end_date, bundle, factor, periods, groupby, group_neutral, quantiles, bins, groupby_labels, relative_returns, max_loss, zero_aware, segment)\u001b[0m\n\u001b[1;32m    206\u001b[0m \u001b[39mif\u001b[39;00m \u001b[39mnot\u001b[39;00m start_date \u001b[39mor\u001b[39;00m \u001b[39mnot\u001b[39;00m end_date:\n\u001b[1;32m    207\u001b[0m     \u001b[39mraise\u001b[39;00m \u001b[39mValueError\u001b[39;00m(\u001b[39m\"\u001b[39m\u001b[39mstart_date and end_date are both required\u001b[39m\u001b[39m\"\u001b[39m)\n\u001b[0;32m--> 209\u001b[0m \u001b[39mif\u001b[39;00m factor \u001b[39mnot\u001b[39;00m \u001b[39min\u001b[39;00m pipeline\u001b[39m.\u001b[39;49mcolumns\u001b[39m.\u001b[39mkeys():\n\u001b[1;32m    210\u001b[0m     \u001b[39mraise\u001b[39;00m \u001b[39mValueError\u001b[39;00m(\n\u001b[1;32m    211\u001b[0m         \u001b[39mf\u001b[39m\u001b[39m\"\u001b[39m\u001b[39minvalid factor: pipeline has no column named \u001b[39m\u001b[39m{\u001b[39;00mfactor\u001b[39m}\u001b[39;00m\u001b[39m\"\u001b[39m)\n\u001b[1;32m    213\u001b[0m groupby_cols \u001b[39m=\u001b[39m groupby\n",
      "\u001b[0;31mAttributeError\u001b[0m: 'function' object has no attribute 'columns'"
     ]
    }
   ],
   "source": [
    "import alphalens as al\n",
    "\n",
    "al.from_pipeline(\n",
    "    compute_factors, \n",
    "    # the `factor` argument tells which Pipeline column to use to form the quantiles\n",
    "    factor=\"ranking\",\n",
    "    start_date=\"2021-01-01\", \n",
    "    end_date=\"2023-04-12\",\n",
    "    # For a very small sample universe, you might only want 2 quantiles \n",
    "    quantiles=2\n",
    ")"
   ]
  },
  {
   "cell_type": "code",
   "execution_count": null,
   "metadata": {},
   "outputs": [],
   "source": []
  },
  {
   "cell_type": "code",
   "execution_count": null,
   "metadata": {},
   "outputs": [],
   "source": []
  },
  {
   "cell_type": "code",
   "execution_count": null,
   "metadata": {},
   "outputs": [],
   "source": []
  },
  {
   "cell_type": "code",
   "execution_count": null,
   "metadata": {},
   "outputs": [],
   "source": []
  },
  {
   "cell_type": "code",
   "execution_count": null,
   "metadata": {},
   "outputs": [],
   "source": []
  },
  {
   "cell_type": "code",
   "execution_count": null,
   "metadata": {},
   "outputs": [],
   "source": [
    "from quantrocket.zipline import backtest\n",
    "backtest(\n",
    "    \"sell-gap\", \n",
    "    start_date=\"2017-01-03\", \n",
    "    end_date=\"2023-03-30\", \n",
    "    capital_base=2e5,\n",
    "    filepath_or_buffer=\"sell_gap_backtest_results.csv\", \n",
    "    progress=\"M\")"
   ]
  },
  {
   "cell_type": "code",
   "execution_count": null,
   "metadata": {},
   "outputs": [],
   "source": [
    "from zipline.research import run_pipeline\n",
    "factors = run_pipeline(pipeline, start_date=\"2018-01-01\", end_date=\"2020-01-01\")\n",
    "factors.head()"
   ]
  }
 ],
 "metadata": {
  "kernelspec": {
   "display_name": "base",
   "language": "python",
   "name": "python3"
  },
  "language_info": {
   "codemirror_mode": {
    "name": "ipython",
    "version": 3
   },
   "file_extension": ".py",
   "mimetype": "text/x-python",
   "name": "python",
   "nbconvert_exporter": "python",
   "pygments_lexer": "ipython3",
   "version": "3.9.12"
  },
  "toc": {
   "base_numbering": 1,
   "nav_menu": {},
   "number_sections": true,
   "sideBar": true,
   "skip_h1_title": true,
   "title_cell": "Table of Contents",
   "title_sidebar": "Contents",
   "toc_cell": false,
   "toc_position": {
    "height": "calc(100% - 180px)",
    "left": "10px",
    "top": "150px",
    "width": "512px"
   },
   "toc_section_display": true,
   "toc_window_display": false
  }
 },
 "nbformat": 4,
 "nbformat_minor": 2
}
