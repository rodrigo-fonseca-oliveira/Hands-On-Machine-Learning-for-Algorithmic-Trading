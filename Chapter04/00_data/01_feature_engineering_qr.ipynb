{
 "cells": [
  {
   "cell_type": "markdown",
   "metadata": {},
   "source": [
    "# How to transform data into factors"
   ]
  },
  {
   "cell_type": "markdown",
   "metadata": {},
   "source": [
    "Based on a conceptual understanding of key factor categories, their rationale and popular metrics, a key task is to identify new factors that may better capture the risks embodied by the return drivers laid out previously, or to find new ones. \n",
    "\n",
    "In either case, it will be important to compare the performance of innovative factors to that of known factors to identify incremental signal gains."
   ]
  },
  {
   "cell_type": "markdown",
   "metadata": {},
   "source": [
    "We create the dataset here and store it in our [data](../data) folder to facilitate reuse in later chapters."
   ]
  },
  {
   "cell_type": "markdown",
   "metadata": {},
   "source": [
    "## Imports & Settings"
   ]
  },
  {
   "cell_type": "code",
   "execution_count": 6,
   "metadata": {
    "ExecuteTime": {
     "end_time": "2021-04-15T19:41:03.495850Z",
     "start_time": "2021-04-15T19:41:03.491885Z"
    }
   },
   "outputs": [],
   "source": [
    "import warnings\n",
    "warnings.filterwarnings('ignore')"
   ]
  },
  {
   "cell_type": "code",
   "execution_count": 7,
   "metadata": {
    "ExecuteTime": {
     "end_time": "2021-04-15T19:41:04.376337Z",
     "start_time": "2021-04-15T19:41:03.779408Z"
    }
   },
   "outputs": [],
   "source": [
    "%matplotlib inline\n",
    "\n",
    "from datetime import datetime\n",
    "import pandas as pd\n",
    "import pandas_datareader.data as web\n",
    "from pprint import pprint\n",
    "\n",
    "\n",
    "# replaces pyfinance.ols.PandasRollingOLS (no longer maintained)\n",
    "from statsmodels.regression.rolling import RollingOLS\n",
    "import statsmodels.api as sm\n",
    "\n",
    "import matplotlib.pyplot as plt\n",
    "import seaborn as sns"
   ]
  },
  {
   "cell_type": "code",
   "execution_count": 8,
   "metadata": {
    "ExecuteTime": {
     "end_time": "2021-04-15T19:41:04.513447Z",
     "start_time": "2021-04-15T19:41:04.510049Z"
    }
   },
   "outputs": [],
   "source": [
    "sns.set_style('whitegrid')\n",
    "idx = pd.IndexSlice"
   ]
  },
  {
   "cell_type": "markdown",
   "metadata": {},
   "source": [
    "## Get Data"
   ]
  },
  {
   "cell_type": "markdown",
   "metadata": {},
   "source": [
    "The `assets.h5` store can be generated using the the notebook [create_datasets](../data/create_datasets.ipynb) in the [data](../data) directory in the root directory of this repo for instruction to download the following dataset."
   ]
  },
  {
   "cell_type": "markdown",
   "metadata": {},
   "source": [
    "We load the Quandl stock price datasets covering the US equity markets 2000-18 using `pd.IndexSlice` to perform a slice operation on the `pd.MultiIndex`, select the adjusted close price and unpivot the column to convert the DataFrame to wide format with tickers in the columns and timestamps in the rows:"
   ]
  },
  {
   "cell_type": "markdown",
   "metadata": {},
   "source": [
    "Set data store location:"
   ]
  },
  {
   "cell_type": "code",
   "execution_count": 9,
   "metadata": {
    "ExecuteTime": {
     "end_time": "2021-04-15T19:42:15.894855Z",
     "start_time": "2021-04-15T19:42:15.892460Z"
    }
   },
   "outputs": [],
   "source": [
    "from codeload.moonshot.features_store import (\n",
    "    # add_fundamental_features,\n",
    "    # add_quality_features,\n",
    "    # add_price_and_volume_features,\n",
    "    # add_technical_indicator_features,\n",
    "    add_securities_master_features,\n",
    "    # add_market_features\n",
    ")"
   ]
  },
  {
   "cell_type": "code",
   "execution_count": 10,
   "metadata": {},
   "outputs": [
    {
     "data": {
      "text/html": [
       "<div>\n",
       "<style scoped>\n",
       "    .dataframe tbody tr th:only-of-type {\n",
       "        vertical-align: middle;\n",
       "    }\n",
       "\n",
       "    .dataframe tbody tr th {\n",
       "        vertical-align: top;\n",
       "    }\n",
       "\n",
       "    .dataframe thead th {\n",
       "        text-align: right;\n",
       "    }\n",
       "</style>\n",
       "<table border=\"1\" class=\"dataframe\">\n",
       "  <thead>\n",
       "    <tr style=\"text-align: right;\">\n",
       "      <th>Sid</th>\n",
       "      <th>FIBBG0000018G2</th>\n",
       "      <th>FIBBG000001LS0</th>\n",
       "      <th>FIBBG000001NT5</th>\n",
       "      <th>FIBBG000001NV2</th>\n",
       "      <th>FIBBG000001R98</th>\n",
       "      <th>FIBBG000001RB5</th>\n",
       "      <th>FIBBG000001RC4</th>\n",
       "      <th>FIBBG000001RD3</th>\n",
       "      <th>FIBBG000001RF1</th>\n",
       "      <th>FIBBG000001RG0</th>\n",
       "      <th>...</th>\n",
       "      <th>QI000000256350</th>\n",
       "      <th>QI000000256351</th>\n",
       "      <th>QI000000256352</th>\n",
       "      <th>QI000000257469</th>\n",
       "      <th>QI000000257707</th>\n",
       "      <th>QI000000257713</th>\n",
       "      <th>QI000000258683</th>\n",
       "      <th>QI000000259639</th>\n",
       "      <th>QI000000259966</th>\n",
       "      <th>QI000000259967</th>\n",
       "    </tr>\n",
       "    <tr>\n",
       "      <th>Date</th>\n",
       "      <th></th>\n",
       "      <th></th>\n",
       "      <th></th>\n",
       "      <th></th>\n",
       "      <th></th>\n",
       "      <th></th>\n",
       "      <th></th>\n",
       "      <th></th>\n",
       "      <th></th>\n",
       "      <th></th>\n",
       "      <th></th>\n",
       "      <th></th>\n",
       "      <th></th>\n",
       "      <th></th>\n",
       "      <th></th>\n",
       "      <th></th>\n",
       "      <th></th>\n",
       "      <th></th>\n",
       "      <th></th>\n",
       "      <th></th>\n",
       "      <th></th>\n",
       "    </tr>\n",
       "  </thead>\n",
       "  <tbody>\n",
       "    <tr>\n",
       "      <th>2023-08-01</th>\n",
       "      <td>NaN</td>\n",
       "      <td>25.050</td>\n",
       "      <td>86.9781</td>\n",
       "      <td>86.9593</td>\n",
       "      <td>21.4314</td>\n",
       "      <td>18.3001</td>\n",
       "      <td>16.78</td>\n",
       "      <td>16.89</td>\n",
       "      <td>16.900</td>\n",
       "      <td>16.1300</td>\n",
       "      <td>...</td>\n",
       "      <td>24.5220</td>\n",
       "      <td>26.0391</td>\n",
       "      <td>27.76</td>\n",
       "      <td>0.0436</td>\n",
       "      <td>11.97</td>\n",
       "      <td>1.70</td>\n",
       "      <td>49.8984</td>\n",
       "      <td>NaN</td>\n",
       "      <td>NaN</td>\n",
       "      <td>NaN</td>\n",
       "    </tr>\n",
       "    <tr>\n",
       "      <th>2023-08-02</th>\n",
       "      <td>NaN</td>\n",
       "      <td>25.000</td>\n",
       "      <td>78.0826</td>\n",
       "      <td>87.1176</td>\n",
       "      <td>21.5996</td>\n",
       "      <td>18.5788</td>\n",
       "      <td>16.77</td>\n",
       "      <td>NaN</td>\n",
       "      <td>16.900</td>\n",
       "      <td>16.1916</td>\n",
       "      <td>...</td>\n",
       "      <td>24.4620</td>\n",
       "      <td>25.6300</td>\n",
       "      <td>27.40</td>\n",
       "      <td>NaN</td>\n",
       "      <td>12.43</td>\n",
       "      <td>1.70</td>\n",
       "      <td>49.8884</td>\n",
       "      <td>NaN</td>\n",
       "      <td>NaN</td>\n",
       "      <td>NaN</td>\n",
       "    </tr>\n",
       "    <tr>\n",
       "      <th>2023-08-03</th>\n",
       "      <td>88.851</td>\n",
       "      <td>25.030</td>\n",
       "      <td>NaN</td>\n",
       "      <td>87.1275</td>\n",
       "      <td>21.0300</td>\n",
       "      <td>NaN</td>\n",
       "      <td>16.75</td>\n",
       "      <td>16.80</td>\n",
       "      <td>16.600</td>\n",
       "      <td>NaN</td>\n",
       "      <td>...</td>\n",
       "      <td>24.3671</td>\n",
       "      <td>25.7000</td>\n",
       "      <td>27.37</td>\n",
       "      <td>0.0305</td>\n",
       "      <td>12.11</td>\n",
       "      <td>NaN</td>\n",
       "      <td>49.8685</td>\n",
       "      <td>NaN</td>\n",
       "      <td>NaN</td>\n",
       "      <td>NaN</td>\n",
       "    </tr>\n",
       "    <tr>\n",
       "      <th>2023-08-04</th>\n",
       "      <td>88.693</td>\n",
       "      <td>25.020</td>\n",
       "      <td>NaN</td>\n",
       "      <td>87.1968</td>\n",
       "      <td>21.2000</td>\n",
       "      <td>18.4203</td>\n",
       "      <td>16.60</td>\n",
       "      <td>16.68</td>\n",
       "      <td>16.803</td>\n",
       "      <td>16.1500</td>\n",
       "      <td>...</td>\n",
       "      <td>24.4520</td>\n",
       "      <td>25.5597</td>\n",
       "      <td>27.27</td>\n",
       "      <td>0.0463</td>\n",
       "      <td>11.72</td>\n",
       "      <td>1.55</td>\n",
       "      <td>49.8934</td>\n",
       "      <td>NaN</td>\n",
       "      <td>NaN</td>\n",
       "      <td>NaN</td>\n",
       "    </tr>\n",
       "    <tr>\n",
       "      <th>2023-08-07</th>\n",
       "      <td>NaN</td>\n",
       "      <td>25.025</td>\n",
       "      <td>76.0267</td>\n",
       "      <td>87.3651</td>\n",
       "      <td>21.2000</td>\n",
       "      <td>18.4000</td>\n",
       "      <td>16.76</td>\n",
       "      <td>16.67</td>\n",
       "      <td>NaN</td>\n",
       "      <td>NaN</td>\n",
       "      <td>...</td>\n",
       "      <td>24.4220</td>\n",
       "      <td>25.6000</td>\n",
       "      <td>27.38</td>\n",
       "      <td>0.0453</td>\n",
       "      <td>11.39</td>\n",
       "      <td>NaN</td>\n",
       "      <td>49.8984</td>\n",
       "      <td>NaN</td>\n",
       "      <td>NaN</td>\n",
       "      <td>NaN</td>\n",
       "    </tr>\n",
       "  </tbody>\n",
       "</table>\n",
       "<p>5 rows × 11322 columns</p>\n",
       "</div>"
      ],
      "text/plain": [
       "Sid         FIBBG0000018G2  FIBBG000001LS0  FIBBG000001NT5  FIBBG000001NV2  \\\n",
       "Date                                                                         \n",
       "2023-08-01             NaN          25.050         86.9781         86.9593   \n",
       "2023-08-02             NaN          25.000         78.0826         87.1176   \n",
       "2023-08-03          88.851          25.030             NaN         87.1275   \n",
       "2023-08-04          88.693          25.020             NaN         87.1968   \n",
       "2023-08-07             NaN          25.025         76.0267         87.3651   \n",
       "\n",
       "Sid         FIBBG000001R98  FIBBG000001RB5  FIBBG000001RC4  FIBBG000001RD3  \\\n",
       "Date                                                                         \n",
       "2023-08-01         21.4314         18.3001           16.78           16.89   \n",
       "2023-08-02         21.5996         18.5788           16.77             NaN   \n",
       "2023-08-03         21.0300             NaN           16.75           16.80   \n",
       "2023-08-04         21.2000         18.4203           16.60           16.68   \n",
       "2023-08-07         21.2000         18.4000           16.76           16.67   \n",
       "\n",
       "Sid         FIBBG000001RF1  FIBBG000001RG0  ...  QI000000256350  \\\n",
       "Date                                        ...                   \n",
       "2023-08-01          16.900         16.1300  ...         24.5220   \n",
       "2023-08-02          16.900         16.1916  ...         24.4620   \n",
       "2023-08-03          16.600             NaN  ...         24.3671   \n",
       "2023-08-04          16.803         16.1500  ...         24.4520   \n",
       "2023-08-07             NaN             NaN  ...         24.4220   \n",
       "\n",
       "Sid         QI000000256351  QI000000256352  QI000000257469  QI000000257707  \\\n",
       "Date                                                                         \n",
       "2023-08-01         26.0391           27.76          0.0436           11.97   \n",
       "2023-08-02         25.6300           27.40             NaN           12.43   \n",
       "2023-08-03         25.7000           27.37          0.0305           12.11   \n",
       "2023-08-04         25.5597           27.27          0.0463           11.72   \n",
       "2023-08-07         25.6000           27.38          0.0453           11.39   \n",
       "\n",
       "Sid         QI000000257713  QI000000258683  QI000000259639  QI000000259966  \\\n",
       "Date                                                                         \n",
       "2023-08-01            1.70         49.8984             NaN             NaN   \n",
       "2023-08-02            1.70         49.8884             NaN             NaN   \n",
       "2023-08-03             NaN         49.8685             NaN             NaN   \n",
       "2023-08-04            1.55         49.8934             NaN             NaN   \n",
       "2023-08-07             NaN         49.8984             NaN             NaN   \n",
       "\n",
       "Sid         QI000000259967  \n",
       "Date                        \n",
       "2023-08-01             NaN  \n",
       "2023-08-02             NaN  \n",
       "2023-08-03             NaN  \n",
       "2023-08-04             NaN  \n",
       "2023-08-07             NaN  \n",
       "\n",
       "[5 rows x 11322 columns]"
      ]
     },
     "execution_count": 10,
     "metadata": {},
     "output_type": "execute_result"
    }
   ],
   "source": [
    "from quantrocket import get_prices\n",
    "qr_prices = get_prices(\"usstock-1d\", \n",
    "    start_date=\"2023-08-01\", \n",
    "    end_date=\"2023-09-01\", \n",
    "    # fields=[\"Close\", \"Volume\"]  \n",
    "    fields=[\"Close\"]    \n",
    ")\n",
    "closes = qr_prices.loc[\"Close\"]\n",
    "closes.head()"
   ]
  },
  {
   "cell_type": "code",
   "execution_count": 11,
   "metadata": {},
   "outputs": [],
   "source": [
    "# securities_master_features = add_securities_master_features(qr_prices)\n",
    "# pprint(list(securities_master_features.keys()))"
   ]
  },
  {
   "cell_type": "code",
   "execution_count": 12,
   "metadata": {},
   "outputs": [],
   "source": [
    "# fundamental_features = add_fundamental_features(qr_prices)\n",
    "# pprint(list(fundamental_features.keys()))\n"
   ]
  },
  {
   "cell_type": "code",
   "execution_count": 13,
   "metadata": {},
   "outputs": [],
   "source": [
    "# quality_features = add_quality_features(qr_prices)\n",
    "# pprint(list(quality_features.keys()))\n"
   ]
  },
  {
   "cell_type": "code",
   "execution_count": 14,
   "metadata": {},
   "outputs": [],
   "source": [
    "# price_and_volume_features = add_price_and_volume_features(qr_prices)\n",
    "# pprint(list(price_and_volume_features.keys()))\n"
   ]
  },
  {
   "cell_type": "code",
   "execution_count": 15,
   "metadata": {},
   "outputs": [],
   "source": [
    "# technical_indicator_features = add_technical_indicator_features(qr_prices)\n",
    "# pprint(list(technical_indicator_features.keys()))\n"
   ]
  },
  {
   "cell_type": "code",
   "execution_count": 16,
   "metadata": {},
   "outputs": [],
   "source": [
    "# market_features = add_market_features(qr_prices)\n",
    "# pprint(list(market_features.keys()))\n"
   ]
  },
  {
   "cell_type": "code",
   "execution_count": 17,
   "metadata": {},
   "outputs": [],
   "source": [
    "DATA_STORE = '/codeload/machine-learning-for-trading/data/assets.h5'\n"
   ]
  },
  {
   "cell_type": "code",
   "execution_count": 18,
   "metadata": {
    "ExecuteTime": {
     "end_time": "2021-04-15T19:42:15.908751Z",
     "start_time": "2021-04-15T19:42:15.898676Z"
    }
   },
   "outputs": [],
   "source": [
    "# START = 2000\n",
    "# END = 2018"
   ]
  },
  {
   "cell_type": "code",
   "execution_count": 19,
   "metadata": {
    "ExecuteTime": {
     "end_time": "2021-04-15T19:42:22.923496Z",
     "start_time": "2021-04-15T19:42:15.909916Z"
    }
   },
   "outputs": [
    {
     "name": "stdout",
     "output_type": "stream",
     "text": [
      "<class 'pandas.io.pytables.HDFStore'>\n",
      "File path: /codeload/machine-learning-for-trading/data/assets.h5\n",
      "/engineered_features            frame        (shape->[144733,33])  \n",
      "/qr/usstock-1d                  frame        (shape->[21050,24074])\n",
      "/quandl/wiki/prices             frame        (shape->[15389314,12])\n",
      "/quandl/wiki/stocks             frame        (shape->[1,2])        \n",
      "/sp500/stocks                   frame        (shape->[503,6])      \n",
      "/us_equities/stocks             frame        (shape->[3678,3])     \n"
     ]
    }
   ],
   "source": [
    "with pd.HDFStore(DATA_STORE) as store:\n",
    "    print(store.info())\n",
    "    # prices = (store['quandl/wiki/prices']\n",
    "    #           .loc[idx[str(START):str(END), :], 'adj_close']\n",
    "    #           .unstack('ticker'))\n",
    "    stocks = store['us_equities/stocks'].loc[:, ['marketcap', 'ipoyear', 'sector']]\n",
    "# stocks"
   ]
  },
  {
   "cell_type": "markdown",
   "metadata": {},
   "source": [
    "### Keep data with stock info"
   ]
  },
  {
   "cell_type": "markdown",
   "metadata": {},
   "source": [
    "Remove `stocks` duplicates and align index names for later joining."
   ]
  },
  {
   "cell_type": "code",
   "execution_count": 20,
   "metadata": {},
   "outputs": [],
   "source": [
    "from quantrocket.master import get_securities_reindexed_like\n",
    "securities = get_securities_reindexed_like(closes, fields=[\"Exchange\", \"Symbol\"])"
   ]
  },
  {
   "cell_type": "code",
   "execution_count": 21,
   "metadata": {},
   "outputs": [],
   "source": [
    "prices = closes.copy()\n",
    "symbols = securities.loc[\"Symbol\"]\n",
    "prices.columns = symbols.iloc[0].tolist()\n",
    "prices.columns.name = 'ticker'\n",
    "prices.index.name = 'date'"
   ]
  },
  {
   "cell_type": "code",
   "execution_count": 22,
   "metadata": {},
   "outputs": [],
   "source": [
    "duplicated_columns = prices.columns[prices.columns.duplicated()]\n",
    "prices = prices.drop(columns=duplicated_columns)\n",
    "\n",
    "stocks = stocks[~stocks.index.duplicated()]\n",
    "stocks.index.name = 'ticker'\n",
    "shared = prices.columns.intersection(stocks.index)"
   ]
  },
  {
   "cell_type": "code",
   "execution_count": 23,
   "metadata": {},
   "outputs": [
    {
     "name": "stdout",
     "output_type": "stream",
     "text": [
      "<class 'pandas.core.frame.DataFrame'>\n",
      "Index: 3448 entries, MPU to HSPOW\n",
      "Data columns (total 3 columns):\n",
      " #   Column     Non-Null Count  Dtype  \n",
      "---  ------     --------------  -----  \n",
      " 0   marketcap  3448 non-null   float64\n",
      " 1   ipoyear    3448 non-null   float64\n",
      " 2   sector     3448 non-null   object \n",
      "dtypes: float64(2), object(1)\n",
      "memory usage: 107.8+ KB\n"
     ]
    }
   ],
   "source": [
    "stocks = stocks.loc[shared, :]\n",
    "stocks.info()"
   ]
  },
  {
   "cell_type": "code",
   "execution_count": 24,
   "metadata": {},
   "outputs": [
    {
     "name": "stdout",
     "output_type": "stream",
     "text": [
      "<class 'pandas.core.frame.DataFrame'>\n",
      "DatetimeIndex: 24 entries, 2023-08-01 to 2023-09-01\n",
      "Columns: 3448 entries, MPU to HSPOW\n",
      "dtypes: float64(3448)\n",
      "memory usage: 646.7 KB\n"
     ]
    }
   ],
   "source": [
    "prices = prices.loc[:, shared]\n",
    "\n",
    "prices.info()"
   ]
  },
  {
   "cell_type": "code",
   "execution_count": 25,
   "metadata": {},
   "outputs": [],
   "source": [
    "assert prices.shape[1] == stocks.shape[0]\n"
   ]
  },
  {
   "cell_type": "markdown",
   "metadata": {},
   "source": [
    "Get tickers with both price information and metdata"
   ]
  },
  {
   "cell_type": "code",
   "execution_count": 26,
   "metadata": {},
   "outputs": [
    {
     "data": {
      "text/html": [
       "<div>\n",
       "<style scoped>\n",
       "    .dataframe tbody tr th:only-of-type {\n",
       "        vertical-align: middle;\n",
       "    }\n",
       "\n",
       "    .dataframe tbody tr th {\n",
       "        vertical-align: top;\n",
       "    }\n",
       "\n",
       "    .dataframe thead th {\n",
       "        text-align: right;\n",
       "    }\n",
       "</style>\n",
       "<table border=\"1\" class=\"dataframe\">\n",
       "  <thead>\n",
       "    <tr style=\"text-align: right;\">\n",
       "      <th>ticker</th>\n",
       "      <th>MPU</th>\n",
       "      <th>DMF</th>\n",
       "      <th>AAPL</th>\n",
       "      <th>CET</th>\n",
       "      <th>CNSL</th>\n",
       "      <th>CLM</th>\n",
       "      <th>NATH</th>\n",
       "      <th>CGEN</th>\n",
       "      <th>RCS</th>\n",
       "      <th>CPT</th>\n",
       "      <th>...</th>\n",
       "      <th>AUROW</th>\n",
       "      <th>BYTSW</th>\n",
       "      <th>DBGIW</th>\n",
       "      <th>SLDPW</th>\n",
       "      <th>BEAT</th>\n",
       "      <th>MOBBW</th>\n",
       "      <th>JFBRW</th>\n",
       "      <th>NXLIW</th>\n",
       "      <th>PLTNW</th>\n",
       "      <th>HSPOW</th>\n",
       "    </tr>\n",
       "    <tr>\n",
       "      <th>date</th>\n",
       "      <th></th>\n",
       "      <th></th>\n",
       "      <th></th>\n",
       "      <th></th>\n",
       "      <th></th>\n",
       "      <th></th>\n",
       "      <th></th>\n",
       "      <th></th>\n",
       "      <th></th>\n",
       "      <th></th>\n",
       "      <th></th>\n",
       "      <th></th>\n",
       "      <th></th>\n",
       "      <th></th>\n",
       "      <th></th>\n",
       "      <th></th>\n",
       "      <th></th>\n",
       "      <th></th>\n",
       "      <th></th>\n",
       "      <th></th>\n",
       "      <th></th>\n",
       "    </tr>\n",
       "  </thead>\n",
       "  <tbody>\n",
       "    <tr>\n",
       "      <th>2023-08-01</th>\n",
       "      <td>1.380</td>\n",
       "      <td>6.3388</td>\n",
       "      <td>195.3412</td>\n",
       "      <td>37.1100</td>\n",
       "      <td>3.63</td>\n",
       "      <td>8.4709</td>\n",
       "      <td>79.4373</td>\n",
       "      <td>1.19</td>\n",
       "      <td>5.3208</td>\n",
       "      <td>108.41</td>\n",
       "      <td>...</td>\n",
       "      <td>0.560000</td>\n",
       "      <td>0.221000</td>\n",
       "      <td>NaN</td>\n",
       "      <td>0.470000</td>\n",
       "      <td>3.040</td>\n",
       "      <td>NaN</td>\n",
       "      <td>NaN</td>\n",
       "      <td>NaN</td>\n",
       "      <td>NaN</td>\n",
       "      <td>NaN</td>\n",
       "    </tr>\n",
       "    <tr>\n",
       "      <th>2023-08-02</th>\n",
       "      <td>1.360</td>\n",
       "      <td>6.3189</td>\n",
       "      <td>192.3203</td>\n",
       "      <td>36.6450</td>\n",
       "      <td>3.58</td>\n",
       "      <td>8.3835</td>\n",
       "      <td>80.2120</td>\n",
       "      <td>1.15</td>\n",
       "      <td>5.3699</td>\n",
       "      <td>107.19</td>\n",
       "      <td>...</td>\n",
       "      <td>0.570000</td>\n",
       "      <td>NaN</td>\n",
       "      <td>NaN</td>\n",
       "      <td>0.439599</td>\n",
       "      <td>2.900</td>\n",
       "      <td>0.300000</td>\n",
       "      <td>NaN</td>\n",
       "      <td>NaN</td>\n",
       "      <td>0.0500</td>\n",
       "      <td>0.0648</td>\n",
       "    </tr>\n",
       "    <tr>\n",
       "      <th>2023-08-03</th>\n",
       "      <td>1.370</td>\n",
       "      <td>6.1995</td>\n",
       "      <td>190.9122</td>\n",
       "      <td>36.8300</td>\n",
       "      <td>3.55</td>\n",
       "      <td>8.3738</td>\n",
       "      <td>78.6229</td>\n",
       "      <td>1.12</td>\n",
       "      <td>5.3797</td>\n",
       "      <td>106.49</td>\n",
       "      <td>...</td>\n",
       "      <td>0.540100</td>\n",
       "      <td>0.205100</td>\n",
       "      <td>NaN</td>\n",
       "      <td>0.448400</td>\n",
       "      <td>3.020</td>\n",
       "      <td>NaN</td>\n",
       "      <td>NaN</td>\n",
       "      <td>0.1100</td>\n",
       "      <td>0.0509</td>\n",
       "      <td>NaN</td>\n",
       "    </tr>\n",
       "    <tr>\n",
       "      <th>2023-08-04</th>\n",
       "      <td>1.360</td>\n",
       "      <td>6.2294</td>\n",
       "      <td>181.7446</td>\n",
       "      <td>36.9300</td>\n",
       "      <td>3.58</td>\n",
       "      <td>8.4612</td>\n",
       "      <td>77.5601</td>\n",
       "      <td>1.12</td>\n",
       "      <td>5.5074</td>\n",
       "      <td>108.54</td>\n",
       "      <td>...</td>\n",
       "      <td>0.559899</td>\n",
       "      <td>0.266600</td>\n",
       "      <td>4.55</td>\n",
       "      <td>0.420101</td>\n",
       "      <td>2.880</td>\n",
       "      <td>0.280000</td>\n",
       "      <td>NaN</td>\n",
       "      <td>NaN</td>\n",
       "      <td>0.0400</td>\n",
       "      <td>NaN</td>\n",
       "    </tr>\n",
       "    <tr>\n",
       "      <th>2023-08-07</th>\n",
       "      <td>1.340</td>\n",
       "      <td>6.1796</td>\n",
       "      <td>178.6088</td>\n",
       "      <td>37.0499</td>\n",
       "      <td>3.66</td>\n",
       "      <td>8.4709</td>\n",
       "      <td>78.0965</td>\n",
       "      <td>1.03</td>\n",
       "      <td>5.4877</td>\n",
       "      <td>109.90</td>\n",
       "      <td>...</td>\n",
       "      <td>0.491400</td>\n",
       "      <td>NaN</td>\n",
       "      <td>4.98</td>\n",
       "      <td>0.393500</td>\n",
       "      <td>2.770</td>\n",
       "      <td>0.274899</td>\n",
       "      <td>NaN</td>\n",
       "      <td>NaN</td>\n",
       "      <td>0.0400</td>\n",
       "      <td>NaN</td>\n",
       "    </tr>\n",
       "    <tr>\n",
       "      <th>2023-08-08</th>\n",
       "      <td>1.320</td>\n",
       "      <td>6.1896</td>\n",
       "      <td>179.5575</td>\n",
       "      <td>36.7000</td>\n",
       "      <td>3.90</td>\n",
       "      <td>8.4612</td>\n",
       "      <td>77.6396</td>\n",
       "      <td>1.05</td>\n",
       "      <td>5.4976</td>\n",
       "      <td>108.62</td>\n",
       "      <td>...</td>\n",
       "      <td>0.539999</td>\n",
       "      <td>NaN</td>\n",
       "      <td>NaN</td>\n",
       "      <td>0.390100</td>\n",
       "      <td>2.770</td>\n",
       "      <td>0.275000</td>\n",
       "      <td>NaN</td>\n",
       "      <td>NaN</td>\n",
       "      <td>0.0300</td>\n",
       "      <td>NaN</td>\n",
       "    </tr>\n",
       "    <tr>\n",
       "      <th>2023-08-09</th>\n",
       "      <td>1.340</td>\n",
       "      <td>6.2045</td>\n",
       "      <td>177.9497</td>\n",
       "      <td>36.9200</td>\n",
       "      <td>3.97</td>\n",
       "      <td>8.5098</td>\n",
       "      <td>77.5800</td>\n",
       "      <td>1.05</td>\n",
       "      <td>5.4681</td>\n",
       "      <td>108.64</td>\n",
       "      <td>...</td>\n",
       "      <td>0.539900</td>\n",
       "      <td>NaN</td>\n",
       "      <td>5.04</td>\n",
       "      <td>0.400200</td>\n",
       "      <td>2.630</td>\n",
       "      <td>0.275000</td>\n",
       "      <td>0.0684</td>\n",
       "      <td>NaN</td>\n",
       "      <td>0.0362</td>\n",
       "      <td>NaN</td>\n",
       "    </tr>\n",
       "    <tr>\n",
       "      <th>2023-08-10</th>\n",
       "      <td>1.350</td>\n",
       "      <td>6.1946</td>\n",
       "      <td>177.7300</td>\n",
       "      <td>36.7600</td>\n",
       "      <td>3.88</td>\n",
       "      <td>8.5389</td>\n",
       "      <td>77.3516</td>\n",
       "      <td>1.07</td>\n",
       "      <td>5.3997</td>\n",
       "      <td>107.70</td>\n",
       "      <td>...</td>\n",
       "      <td>0.529899</td>\n",
       "      <td>0.254100</td>\n",
       "      <td>NaN</td>\n",
       "      <td>0.400000</td>\n",
       "      <td>2.640</td>\n",
       "      <td>NaN</td>\n",
       "      <td>NaN</td>\n",
       "      <td>NaN</td>\n",
       "      <td>0.0362</td>\n",
       "      <td>NaN</td>\n",
       "    </tr>\n",
       "    <tr>\n",
       "      <th>2023-08-11</th>\n",
       "      <td>1.330</td>\n",
       "      <td>6.2245</td>\n",
       "      <td>177.7900</td>\n",
       "      <td>36.8600</td>\n",
       "      <td>3.98</td>\n",
       "      <td>8.4806</td>\n",
       "      <td>77.4708</td>\n",
       "      <td>1.11</td>\n",
       "      <td>5.3601</td>\n",
       "      <td>107.86</td>\n",
       "      <td>...</td>\n",
       "      <td>0.560000</td>\n",
       "      <td>NaN</td>\n",
       "      <td>NaN</td>\n",
       "      <td>0.387535</td>\n",
       "      <td>2.575</td>\n",
       "      <td>0.275000</td>\n",
       "      <td>NaN</td>\n",
       "      <td>0.0640</td>\n",
       "      <td>0.0350</td>\n",
       "      <td>NaN</td>\n",
       "    </tr>\n",
       "    <tr>\n",
       "      <th>2023-08-14</th>\n",
       "      <td>1.350</td>\n",
       "      <td>6.2245</td>\n",
       "      <td>179.4600</td>\n",
       "      <td>36.9060</td>\n",
       "      <td>3.86</td>\n",
       "      <td>8.4834</td>\n",
       "      <td>74.6103</td>\n",
       "      <td>1.11</td>\n",
       "      <td>5.3700</td>\n",
       "      <td>106.08</td>\n",
       "      <td>...</td>\n",
       "      <td>0.660000</td>\n",
       "      <td>NaN</td>\n",
       "      <td>NaN</td>\n",
       "      <td>0.370100</td>\n",
       "      <td>2.600</td>\n",
       "      <td>0.270000</td>\n",
       "      <td>NaN</td>\n",
       "      <td>NaN</td>\n",
       "      <td>0.0374</td>\n",
       "      <td>NaN</td>\n",
       "    </tr>\n",
       "    <tr>\n",
       "      <th>2023-08-15</th>\n",
       "      <td>1.310</td>\n",
       "      <td>6.2345</td>\n",
       "      <td>177.4500</td>\n",
       "      <td>36.5000</td>\n",
       "      <td>3.80</td>\n",
       "      <td>8.2863</td>\n",
       "      <td>74.3421</td>\n",
       "      <td>1.04</td>\n",
       "      <td>5.3700</td>\n",
       "      <td>106.02</td>\n",
       "      <td>...</td>\n",
       "      <td>0.570000</td>\n",
       "      <td>0.250000</td>\n",
       "      <td>NaN</td>\n",
       "      <td>0.370100</td>\n",
       "      <td>2.490</td>\n",
       "      <td>NaN</td>\n",
       "      <td>NaN</td>\n",
       "      <td>NaN</td>\n",
       "      <td>0.0438</td>\n",
       "      <td>NaN</td>\n",
       "    </tr>\n",
       "    <tr>\n",
       "      <th>2023-08-16</th>\n",
       "      <td>1.300</td>\n",
       "      <td>6.1946</td>\n",
       "      <td>176.5700</td>\n",
       "      <td>36.1514</td>\n",
       "      <td>3.91</td>\n",
       "      <td>8.2075</td>\n",
       "      <td>74.0044</td>\n",
       "      <td>1.04</td>\n",
       "      <td>5.2808</td>\n",
       "      <td>105.94</td>\n",
       "      <td>...</td>\n",
       "      <td>0.521700</td>\n",
       "      <td>NaN</td>\n",
       "      <td>6.06</td>\n",
       "      <td>0.360000</td>\n",
       "      <td>2.290</td>\n",
       "      <td>NaN</td>\n",
       "      <td>NaN</td>\n",
       "      <td>0.1000</td>\n",
       "      <td>NaN</td>\n",
       "      <td>NaN</td>\n",
       "    </tr>\n",
       "    <tr>\n",
       "      <th>2023-08-17</th>\n",
       "      <td>1.300</td>\n",
       "      <td>6.1946</td>\n",
       "      <td>174.0000</td>\n",
       "      <td>36.0100</td>\n",
       "      <td>3.96</td>\n",
       "      <td>7.8922</td>\n",
       "      <td>73.1900</td>\n",
       "      <td>1.06</td>\n",
       "      <td>5.2313</td>\n",
       "      <td>106.34</td>\n",
       "      <td>...</td>\n",
       "      <td>0.463500</td>\n",
       "      <td>NaN</td>\n",
       "      <td>7.70</td>\n",
       "      <td>0.333000</td>\n",
       "      <td>2.170</td>\n",
       "      <td>0.220200</td>\n",
       "      <td>0.0684</td>\n",
       "      <td>NaN</td>\n",
       "      <td>NaN</td>\n",
       "      <td>NaN</td>\n",
       "    </tr>\n",
       "    <tr>\n",
       "      <th>2023-08-18</th>\n",
       "      <td>1.330</td>\n",
       "      <td>6.1646</td>\n",
       "      <td>174.4900</td>\n",
       "      <td>35.8000</td>\n",
       "      <td>4.05</td>\n",
       "      <td>7.9513</td>\n",
       "      <td>72.5400</td>\n",
       "      <td>1.02</td>\n",
       "      <td>5.2412</td>\n",
       "      <td>106.19</td>\n",
       "      <td>...</td>\n",
       "      <td>0.470300</td>\n",
       "      <td>0.294100</td>\n",
       "      <td>9.00</td>\n",
       "      <td>0.322549</td>\n",
       "      <td>2.230</td>\n",
       "      <td>NaN</td>\n",
       "      <td>NaN</td>\n",
       "      <td>NaN</td>\n",
       "      <td>0.0550</td>\n",
       "      <td>NaN</td>\n",
       "    </tr>\n",
       "    <tr>\n",
       "      <th>2023-08-21</th>\n",
       "      <td>1.330</td>\n",
       "      <td>6.0749</td>\n",
       "      <td>175.8400</td>\n",
       "      <td>35.8050</td>\n",
       "      <td>3.97</td>\n",
       "      <td>8.1582</td>\n",
       "      <td>72.3000</td>\n",
       "      <td>1.02</td>\n",
       "      <td>5.3106</td>\n",
       "      <td>105.12</td>\n",
       "      <td>...</td>\n",
       "      <td>0.484800</td>\n",
       "      <td>NaN</td>\n",
       "      <td>10.45</td>\n",
       "      <td>0.330000</td>\n",
       "      <td>2.240</td>\n",
       "      <td>0.221800</td>\n",
       "      <td>NaN</td>\n",
       "      <td>NaN</td>\n",
       "      <td>0.0368</td>\n",
       "      <td>0.0400</td>\n",
       "    </tr>\n",
       "    <tr>\n",
       "      <th>2023-08-22</th>\n",
       "      <td>1.390</td>\n",
       "      <td>6.1048</td>\n",
       "      <td>177.2300</td>\n",
       "      <td>35.6100</td>\n",
       "      <td>3.84</td>\n",
       "      <td>8.0991</td>\n",
       "      <td>72.3100</td>\n",
       "      <td>1.02</td>\n",
       "      <td>5.4493</td>\n",
       "      <td>105.11</td>\n",
       "      <td>...</td>\n",
       "      <td>0.495000</td>\n",
       "      <td>NaN</td>\n",
       "      <td>10.95</td>\n",
       "      <td>0.303300</td>\n",
       "      <td>2.210</td>\n",
       "      <td>0.220000</td>\n",
       "      <td>0.0684</td>\n",
       "      <td>NaN</td>\n",
       "      <td>0.0500</td>\n",
       "      <td>0.0510</td>\n",
       "    </tr>\n",
       "    <tr>\n",
       "      <th>2023-08-23</th>\n",
       "      <td>1.080</td>\n",
       "      <td>6.1048</td>\n",
       "      <td>181.1200</td>\n",
       "      <td>35.8500</td>\n",
       "      <td>3.91</td>\n",
       "      <td>8.1484</td>\n",
       "      <td>72.7000</td>\n",
       "      <td>1.22</td>\n",
       "      <td>5.4493</td>\n",
       "      <td>106.60</td>\n",
       "      <td>...</td>\n",
       "      <td>0.480000</td>\n",
       "      <td>0.279000</td>\n",
       "      <td>12.00</td>\n",
       "      <td>0.320000</td>\n",
       "      <td>2.170</td>\n",
       "      <td>NaN</td>\n",
       "      <td>NaN</td>\n",
       "      <td>NaN</td>\n",
       "      <td>0.0698</td>\n",
       "      <td>NaN</td>\n",
       "    </tr>\n",
       "    <tr>\n",
       "      <th>2023-08-24</th>\n",
       "      <td>0.980</td>\n",
       "      <td>6.1148</td>\n",
       "      <td>176.3800</td>\n",
       "      <td>35.5000</td>\n",
       "      <td>3.84</td>\n",
       "      <td>7.9907</td>\n",
       "      <td>71.2400</td>\n",
       "      <td>1.18</td>\n",
       "      <td>5.3898</td>\n",
       "      <td>106.62</td>\n",
       "      <td>...</td>\n",
       "      <td>0.410000</td>\n",
       "      <td>NaN</td>\n",
       "      <td>13.15</td>\n",
       "      <td>0.317500</td>\n",
       "      <td>2.150</td>\n",
       "      <td>NaN</td>\n",
       "      <td>0.0684</td>\n",
       "      <td>0.0549</td>\n",
       "      <td>0.0763</td>\n",
       "      <td>NaN</td>\n",
       "    </tr>\n",
       "    <tr>\n",
       "      <th>2023-08-25</th>\n",
       "      <td>0.950</td>\n",
       "      <td>6.0848</td>\n",
       "      <td>178.6100</td>\n",
       "      <td>35.6501</td>\n",
       "      <td>3.78</td>\n",
       "      <td>8.0203</td>\n",
       "      <td>71.7900</td>\n",
       "      <td>1.15</td>\n",
       "      <td>5.3601</td>\n",
       "      <td>107.16</td>\n",
       "      <td>...</td>\n",
       "      <td>0.434100</td>\n",
       "      <td>NaN</td>\n",
       "      <td>13.93</td>\n",
       "      <td>0.339900</td>\n",
       "      <td>1.970</td>\n",
       "      <td>NaN</td>\n",
       "      <td>NaN</td>\n",
       "      <td>NaN</td>\n",
       "      <td>NaN</td>\n",
       "      <td>0.0584</td>\n",
       "    </tr>\n",
       "    <tr>\n",
       "      <th>2023-08-28</th>\n",
       "      <td>0.999</td>\n",
       "      <td>6.1048</td>\n",
       "      <td>180.1900</td>\n",
       "      <td>35.8800</td>\n",
       "      <td>3.91</td>\n",
       "      <td>7.9710</td>\n",
       "      <td>73.6800</td>\n",
       "      <td>1.16</td>\n",
       "      <td>5.4592</td>\n",
       "      <td>107.88</td>\n",
       "      <td>...</td>\n",
       "      <td>0.444100</td>\n",
       "      <td>NaN</td>\n",
       "      <td>NaN</td>\n",
       "      <td>0.330200</td>\n",
       "      <td>1.930</td>\n",
       "      <td>NaN</td>\n",
       "      <td>NaN</td>\n",
       "      <td>NaN</td>\n",
       "      <td>NaN</td>\n",
       "      <td>NaN</td>\n",
       "    </tr>\n",
       "    <tr>\n",
       "      <th>2023-08-29</th>\n",
       "      <td>1.020</td>\n",
       "      <td>6.1247</td>\n",
       "      <td>184.1200</td>\n",
       "      <td>36.0750</td>\n",
       "      <td>3.97</td>\n",
       "      <td>8.0301</td>\n",
       "      <td>74.1500</td>\n",
       "      <td>1.14</td>\n",
       "      <td>5.4889</td>\n",
       "      <td>108.30</td>\n",
       "      <td>...</td>\n",
       "      <td>0.494900</td>\n",
       "      <td>0.280000</td>\n",
       "      <td>13.00</td>\n",
       "      <td>0.314000</td>\n",
       "      <td>2.030</td>\n",
       "      <td>0.221700</td>\n",
       "      <td>NaN</td>\n",
       "      <td>0.0301</td>\n",
       "      <td>0.0763</td>\n",
       "      <td>NaN</td>\n",
       "    </tr>\n",
       "    <tr>\n",
       "      <th>2023-08-30</th>\n",
       "      <td>0.920</td>\n",
       "      <td>6.1547</td>\n",
       "      <td>187.6500</td>\n",
       "      <td>36.0625</td>\n",
       "      <td>3.94</td>\n",
       "      <td>8.0991</td>\n",
       "      <td>72.4100</td>\n",
       "      <td>1.14</td>\n",
       "      <td>5.4889</td>\n",
       "      <td>108.32</td>\n",
       "      <td>...</td>\n",
       "      <td>0.469799</td>\n",
       "      <td>0.250000</td>\n",
       "      <td>17.00</td>\n",
       "      <td>0.330449</td>\n",
       "      <td>2.130</td>\n",
       "      <td>0.230000</td>\n",
       "      <td>NaN</td>\n",
       "      <td>0.0301</td>\n",
       "      <td>0.0381</td>\n",
       "      <td>NaN</td>\n",
       "    </tr>\n",
       "    <tr>\n",
       "      <th>2023-08-31</th>\n",
       "      <td>0.940</td>\n",
       "      <td>6.1148</td>\n",
       "      <td>187.8700</td>\n",
       "      <td>36.0000</td>\n",
       "      <td>3.95</td>\n",
       "      <td>8.1976</td>\n",
       "      <td>72.7100</td>\n",
       "      <td>1.14</td>\n",
       "      <td>5.4295</td>\n",
       "      <td>107.62</td>\n",
       "      <td>...</td>\n",
       "      <td>0.469700</td>\n",
       "      <td>0.279439</td>\n",
       "      <td>14.00</td>\n",
       "      <td>0.297700</td>\n",
       "      <td>2.090</td>\n",
       "      <td>NaN</td>\n",
       "      <td>0.0684</td>\n",
       "      <td>NaN</td>\n",
       "      <td>0.0599</td>\n",
       "      <td>0.0650</td>\n",
       "    </tr>\n",
       "    <tr>\n",
       "      <th>2023-09-01</th>\n",
       "      <td>0.940</td>\n",
       "      <td>6.1397</td>\n",
       "      <td>189.4600</td>\n",
       "      <td>36.8800</td>\n",
       "      <td>3.84</td>\n",
       "      <td>8.2568</td>\n",
       "      <td>73.3300</td>\n",
       "      <td>1.14</td>\n",
       "      <td>5.4592</td>\n",
       "      <td>106.74</td>\n",
       "      <td>...</td>\n",
       "      <td>0.440100</td>\n",
       "      <td>NaN</td>\n",
       "      <td>12.07</td>\n",
       "      <td>0.290000</td>\n",
       "      <td>2.230</td>\n",
       "      <td>NaN</td>\n",
       "      <td>0.0444</td>\n",
       "      <td>0.0200</td>\n",
       "      <td>0.0573</td>\n",
       "      <td>NaN</td>\n",
       "    </tr>\n",
       "  </tbody>\n",
       "</table>\n",
       "<p>24 rows × 3448 columns</p>\n",
       "</div>"
      ],
      "text/plain": [
       "ticker        MPU     DMF      AAPL      CET  CNSL     CLM     NATH  CGEN  \\\n",
       "date                                                                        \n",
       "2023-08-01  1.380  6.3388  195.3412  37.1100  3.63  8.4709  79.4373  1.19   \n",
       "2023-08-02  1.360  6.3189  192.3203  36.6450  3.58  8.3835  80.2120  1.15   \n",
       "2023-08-03  1.370  6.1995  190.9122  36.8300  3.55  8.3738  78.6229  1.12   \n",
       "2023-08-04  1.360  6.2294  181.7446  36.9300  3.58  8.4612  77.5601  1.12   \n",
       "2023-08-07  1.340  6.1796  178.6088  37.0499  3.66  8.4709  78.0965  1.03   \n",
       "2023-08-08  1.320  6.1896  179.5575  36.7000  3.90  8.4612  77.6396  1.05   \n",
       "2023-08-09  1.340  6.2045  177.9497  36.9200  3.97  8.5098  77.5800  1.05   \n",
       "2023-08-10  1.350  6.1946  177.7300  36.7600  3.88  8.5389  77.3516  1.07   \n",
       "2023-08-11  1.330  6.2245  177.7900  36.8600  3.98  8.4806  77.4708  1.11   \n",
       "2023-08-14  1.350  6.2245  179.4600  36.9060  3.86  8.4834  74.6103  1.11   \n",
       "2023-08-15  1.310  6.2345  177.4500  36.5000  3.80  8.2863  74.3421  1.04   \n",
       "2023-08-16  1.300  6.1946  176.5700  36.1514  3.91  8.2075  74.0044  1.04   \n",
       "2023-08-17  1.300  6.1946  174.0000  36.0100  3.96  7.8922  73.1900  1.06   \n",
       "2023-08-18  1.330  6.1646  174.4900  35.8000  4.05  7.9513  72.5400  1.02   \n",
       "2023-08-21  1.330  6.0749  175.8400  35.8050  3.97  8.1582  72.3000  1.02   \n",
       "2023-08-22  1.390  6.1048  177.2300  35.6100  3.84  8.0991  72.3100  1.02   \n",
       "2023-08-23  1.080  6.1048  181.1200  35.8500  3.91  8.1484  72.7000  1.22   \n",
       "2023-08-24  0.980  6.1148  176.3800  35.5000  3.84  7.9907  71.2400  1.18   \n",
       "2023-08-25  0.950  6.0848  178.6100  35.6501  3.78  8.0203  71.7900  1.15   \n",
       "2023-08-28  0.999  6.1048  180.1900  35.8800  3.91  7.9710  73.6800  1.16   \n",
       "2023-08-29  1.020  6.1247  184.1200  36.0750  3.97  8.0301  74.1500  1.14   \n",
       "2023-08-30  0.920  6.1547  187.6500  36.0625  3.94  8.0991  72.4100  1.14   \n",
       "2023-08-31  0.940  6.1148  187.8700  36.0000  3.95  8.1976  72.7100  1.14   \n",
       "2023-09-01  0.940  6.1397  189.4600  36.8800  3.84  8.2568  73.3300  1.14   \n",
       "\n",
       "ticker         RCS     CPT  ...     AUROW     BYTSW  DBGIW     SLDPW   BEAT  \\\n",
       "date                        ...                                               \n",
       "2023-08-01  5.3208  108.41  ...  0.560000  0.221000    NaN  0.470000  3.040   \n",
       "2023-08-02  5.3699  107.19  ...  0.570000       NaN    NaN  0.439599  2.900   \n",
       "2023-08-03  5.3797  106.49  ...  0.540100  0.205100    NaN  0.448400  3.020   \n",
       "2023-08-04  5.5074  108.54  ...  0.559899  0.266600   4.55  0.420101  2.880   \n",
       "2023-08-07  5.4877  109.90  ...  0.491400       NaN   4.98  0.393500  2.770   \n",
       "2023-08-08  5.4976  108.62  ...  0.539999       NaN    NaN  0.390100  2.770   \n",
       "2023-08-09  5.4681  108.64  ...  0.539900       NaN   5.04  0.400200  2.630   \n",
       "2023-08-10  5.3997  107.70  ...  0.529899  0.254100    NaN  0.400000  2.640   \n",
       "2023-08-11  5.3601  107.86  ...  0.560000       NaN    NaN  0.387535  2.575   \n",
       "2023-08-14  5.3700  106.08  ...  0.660000       NaN    NaN  0.370100  2.600   \n",
       "2023-08-15  5.3700  106.02  ...  0.570000  0.250000    NaN  0.370100  2.490   \n",
       "2023-08-16  5.2808  105.94  ...  0.521700       NaN   6.06  0.360000  2.290   \n",
       "2023-08-17  5.2313  106.34  ...  0.463500       NaN   7.70  0.333000  2.170   \n",
       "2023-08-18  5.2412  106.19  ...  0.470300  0.294100   9.00  0.322549  2.230   \n",
       "2023-08-21  5.3106  105.12  ...  0.484800       NaN  10.45  0.330000  2.240   \n",
       "2023-08-22  5.4493  105.11  ...  0.495000       NaN  10.95  0.303300  2.210   \n",
       "2023-08-23  5.4493  106.60  ...  0.480000  0.279000  12.00  0.320000  2.170   \n",
       "2023-08-24  5.3898  106.62  ...  0.410000       NaN  13.15  0.317500  2.150   \n",
       "2023-08-25  5.3601  107.16  ...  0.434100       NaN  13.93  0.339900  1.970   \n",
       "2023-08-28  5.4592  107.88  ...  0.444100       NaN    NaN  0.330200  1.930   \n",
       "2023-08-29  5.4889  108.30  ...  0.494900  0.280000  13.00  0.314000  2.030   \n",
       "2023-08-30  5.4889  108.32  ...  0.469799  0.250000  17.00  0.330449  2.130   \n",
       "2023-08-31  5.4295  107.62  ...  0.469700  0.279439  14.00  0.297700  2.090   \n",
       "2023-09-01  5.4592  106.74  ...  0.440100       NaN  12.07  0.290000  2.230   \n",
       "\n",
       "ticker         MOBBW   JFBRW   NXLIW   PLTNW   HSPOW  \n",
       "date                                                  \n",
       "2023-08-01       NaN     NaN     NaN     NaN     NaN  \n",
       "2023-08-02  0.300000     NaN     NaN  0.0500  0.0648  \n",
       "2023-08-03       NaN     NaN  0.1100  0.0509     NaN  \n",
       "2023-08-04  0.280000     NaN     NaN  0.0400     NaN  \n",
       "2023-08-07  0.274899     NaN     NaN  0.0400     NaN  \n",
       "2023-08-08  0.275000     NaN     NaN  0.0300     NaN  \n",
       "2023-08-09  0.275000  0.0684     NaN  0.0362     NaN  \n",
       "2023-08-10       NaN     NaN     NaN  0.0362     NaN  \n",
       "2023-08-11  0.275000     NaN  0.0640  0.0350     NaN  \n",
       "2023-08-14  0.270000     NaN     NaN  0.0374     NaN  \n",
       "2023-08-15       NaN     NaN     NaN  0.0438     NaN  \n",
       "2023-08-16       NaN     NaN  0.1000     NaN     NaN  \n",
       "2023-08-17  0.220200  0.0684     NaN     NaN     NaN  \n",
       "2023-08-18       NaN     NaN     NaN  0.0550     NaN  \n",
       "2023-08-21  0.221800     NaN     NaN  0.0368  0.0400  \n",
       "2023-08-22  0.220000  0.0684     NaN  0.0500  0.0510  \n",
       "2023-08-23       NaN     NaN     NaN  0.0698     NaN  \n",
       "2023-08-24       NaN  0.0684  0.0549  0.0763     NaN  \n",
       "2023-08-25       NaN     NaN     NaN     NaN  0.0584  \n",
       "2023-08-28       NaN     NaN     NaN     NaN     NaN  \n",
       "2023-08-29  0.221700     NaN  0.0301  0.0763     NaN  \n",
       "2023-08-30  0.230000     NaN  0.0301  0.0381     NaN  \n",
       "2023-08-31       NaN  0.0684     NaN  0.0599  0.0650  \n",
       "2023-09-01       NaN  0.0444  0.0200  0.0573     NaN  \n",
       "\n",
       "[24 rows x 3448 columns]"
      ]
     },
     "execution_count": 26,
     "metadata": {},
     "output_type": "execute_result"
    }
   ],
   "source": [
    "prices"
   ]
  },
  {
   "cell_type": "markdown",
   "metadata": {},
   "source": [
    "## Create monthly return series"
   ]
  },
  {
   "cell_type": "markdown",
   "metadata": {},
   "source": [
    "To reduce training time and experiment with strategies for longer time horizons, we convert the business-daily data to month-end frequency using the available adjusted close price:"
   ]
  },
  {
   "cell_type": "code",
   "execution_count": null,
   "metadata": {
    "ExecuteTime": {
     "end_time": "2021-04-15T19:42:23.170928Z",
     "start_time": "2021-04-15T19:42:23.141153Z"
    }
   },
   "outputs": [],
   "source": [
    "monthly_prices = prices.resample('M').last()"
   ]
  },
  {
   "cell_type": "markdown",
   "metadata": {},
   "source": [
    "To capture time series dynamics that reflect, for example, momentum patterns, we compute historical returns using the method `.pct_change(n_periods)`, that is, returns over various monthly periods as identified by lags.\n",
    "\n",
    "We then convert the wide result back to long format with the `.stack()` method, use `.pipe()` to apply the `.clip()` method to the resulting `DataFrame`, and winsorize returns at the [1%, 99%] levels; that is, we cap outliers at these percentiles.\n",
    "\n",
    "Finally, we normalize returns using the geometric average. After using `.swaplevel()` to change the order of the `MultiIndex` levels, we obtain compounded monthly returns for six periods ranging from 1 to 12 months:"
   ]
  },
  {
   "cell_type": "code",
   "execution_count": null,
   "metadata": {},
   "outputs": [],
   "source": [
    "monthly_prices"
   ]
  },
  {
   "cell_type": "code",
   "execution_count": null,
   "metadata": {},
   "outputs": [],
   "source": [
    "monthly_prices.info()"
   ]
  },
  {
   "cell_type": "code",
   "execution_count": 28,
   "metadata": {
    "ExecuteTime": {
     "end_time": "2021-04-15T19:42:27.496502Z",
     "start_time": "2021-04-15T19:42:23.276017Z"
    }
   },
   "outputs": [
    {
     "name": "stdout",
     "output_type": "stream",
     "text": [
      "<class 'pandas.core.frame.DataFrame'>\n",
      "MultiIndex: 40567 entries, ('MPU', Timestamp('2023-08-17 00:00:00')) to ('HSPOW', Timestamp('2023-09-01 00:00:00'))\n",
      "Data columns (total 6 columns):\n",
      " #   Column      Non-Null Count  Dtype  \n",
      "---  ------      --------------  -----  \n",
      " 0   return_1m   40567 non-null  float64\n",
      " 1   return_2m   40567 non-null  float64\n",
      " 2   return_3m   40567 non-null  float64\n",
      " 3   return_6m   40567 non-null  float64\n",
      " 4   return_9m   40567 non-null  float64\n",
      " 5   return_12m  40567 non-null  float64\n",
      "dtypes: float64(6)\n",
      "memory usage: 2.1+ MB\n"
     ]
    }
   ],
   "source": [
    "outlier_cutoff = 0.01\n",
    "data = pd.DataFrame()\n",
    "lags = [1, 2, 3, 6, 9, 12]\n",
    "for lag in lags:\n",
    "    data[f'return_{lag}m'] = (prices\n",
    "                           .pct_change(lag)\n",
    "                           .stack()\n",
    "                           .pipe(lambda x: x.clip(lower=x.quantile(outlier_cutoff),\n",
    "                                                  upper=x.quantile(1-outlier_cutoff)))\n",
    "                           .add(1)\n",
    "                           .pow(1/lag)\n",
    "                           .sub(1)\n",
    "                           )\n",
    "data = data.swaplevel().dropna()\n",
    "data.info()"
   ]
  },
  {
   "cell_type": "markdown",
   "metadata": {},
   "source": [
    "## Drop stocks with less than 10 yrs of returns"
   ]
  },
  {
   "cell_type": "code",
   "execution_count": null,
   "metadata": {
    "ExecuteTime": {
     "end_time": "2021-04-15T19:42:32.693861Z",
     "start_time": "2021-04-15T19:42:27.497409Z"
    }
   },
   "outputs": [],
   "source": [
    "min_obs = 100\n",
    "nobs = data.groupby(level='ticker').size()\n",
    "keep = nobs[nobs>min_obs].index\n",
    "\n",
    "data = data.loc[idx[keep,:], :]\n",
    "data.info()"
   ]
  },
  {
   "cell_type": "code",
   "execution_count": null,
   "metadata": {
    "ExecuteTime": {
     "end_time": "2021-04-15T19:42:32.759315Z",
     "start_time": "2021-04-15T19:42:32.695113Z"
    }
   },
   "outputs": [],
   "source": [
    "data.describe()"
   ]
  },
  {
   "cell_type": "code",
   "execution_count": null,
   "metadata": {
    "ExecuteTime": {
     "end_time": "2021-04-15T19:42:33.428516Z",
     "start_time": "2021-04-15T19:42:32.760414Z"
    }
   },
   "outputs": [],
   "source": [
    "# cmap = sns.diverging_palette(10, 220, as_cmap=True)\n",
    "sns.clustermap(data.corr('spearman'), annot=True, center=0, cmap='Blues');"
   ]
  },
  {
   "cell_type": "markdown",
   "metadata": {},
   "source": [
    "We are left with 1,670 tickers."
   ]
  },
  {
   "cell_type": "code",
   "execution_count": null,
   "metadata": {
    "ExecuteTime": {
     "end_time": "2021-04-15T19:42:33.464342Z",
     "start_time": "2021-04-15T19:42:33.429978Z"
    }
   },
   "outputs": [],
   "source": [
    "data.index.get_level_values('ticker').nunique()"
   ]
  },
  {
   "cell_type": "markdown",
   "metadata": {},
   "source": [
    "## Rolling Factor Betas"
   ]
  },
  {
   "cell_type": "markdown",
   "metadata": {},
   "source": [
    "We will introduce the Fama—French data to estimate the exposure of assets to common risk factors using linear regression in [Chapter 9, Time Series Models](../09_time_series_models)."
   ]
  },
  {
   "cell_type": "markdown",
   "metadata": {},
   "source": [
    "The five Fama—French factors, namely market risk, size, value, operating profitability, and investment have been shown empirically to explain asset returns and are commonly used to assess the risk/return profile of portfolios. Hence, it is natural to include past factor exposures as financial features in models that aim to predict future returns."
   ]
  },
  {
   "cell_type": "markdown",
   "metadata": {},
   "source": [
    "We can access the historical factor returns using the `pandas-datareader` and estimate historical exposures using the `RollingOLS` rolling linear regression functionality in the `statsmodels` library as follows:"
   ]
  },
  {
   "cell_type": "markdown",
   "metadata": {},
   "source": [
    "Use Fama-French research factors to estimate the factor exposures of the stock in the dataset to the 5 factors market risk, size, value, operating profitability and investment."
   ]
  },
  {
   "cell_type": "code",
   "execution_count": null,
   "metadata": {
    "ExecuteTime": {
     "end_time": "2021-04-15T19:42:33.769036Z",
     "start_time": "2021-04-15T19:42:33.465722Z"
    },
    "scrolled": false
   },
   "outputs": [],
   "source": [
    "factors = ['Mkt-RF', 'SMB', 'HML', 'RMW', 'CMA']\n",
    "factor_data = web.DataReader('F-F_Research_Data_5_Factors_2x3', 'famafrench', start='2000')[0].drop('RF', axis=1)\n",
    "factor_data.index = factor_data.index.to_timestamp()\n",
    "factor_data = factor_data.resample('M').last().div(100)\n",
    "factor_data.index.name = 'date'\n",
    "factor_data.info()"
   ]
  },
  {
   "cell_type": "code",
   "execution_count": null,
   "metadata": {},
   "outputs": [],
   "source": [
    "data"
   ]
  },
  {
   "cell_type": "code",
   "execution_count": null,
   "metadata": {
    "ExecuteTime": {
     "end_time": "2021-04-15T19:42:33.816362Z",
     "start_time": "2021-04-15T19:42:33.769871Z"
    },
    "scrolled": true
   },
   "outputs": [],
   "source": [
    "factor_data = factor_data.join(data['return_1m']).sort_index()\n",
    "factor_data.info()"
   ]
  },
  {
   "cell_type": "code",
   "execution_count": null,
   "metadata": {
    "ExecuteTime": {
     "end_time": "2021-04-15T19:42:45.008104Z",
     "start_time": "2021-04-15T19:42:33.817495Z"
    }
   },
   "outputs": [],
   "source": [
    "T = 24\n",
    "betas = (factor_data.groupby(level='ticker',\n",
    "                             group_keys=False)\n",
    "         .apply(lambda x: RollingOLS(endog=x.return_1m,\n",
    "                                     exog=sm.add_constant(x.drop('return_1m', axis=1)),\n",
    "                                     window=min(T, x.shape[0]-1))\n",
    "                .fit(params_only=True)\n",
    "                .params\n",
    "                .drop('const', axis=1)))"
   ]
  },
  {
   "cell_type": "code",
   "execution_count": null,
   "metadata": {
    "ExecuteTime": {
     "end_time": "2021-04-15T19:42:45.092905Z",
     "start_time": "2021-04-15T19:42:45.009169Z"
    }
   },
   "outputs": [],
   "source": [
    "betas.describe().join(betas.sum(1).describe().to_frame('total'))"
   ]
  },
  {
   "cell_type": "code",
   "execution_count": null,
   "metadata": {
    "ExecuteTime": {
     "end_time": "2021-04-15T19:42:45.366245Z",
     "start_time": "2021-04-15T19:42:45.093829Z"
    }
   },
   "outputs": [],
   "source": [
    "cmap = sns.diverging_palette(10, 220, as_cmap=True)\n",
    "sns.clustermap(betas.corr(), annot=True, cmap=cmap, center=0);"
   ]
  },
  {
   "cell_type": "code",
   "execution_count": null,
   "metadata": {
    "ExecuteTime": {
     "end_time": "2021-04-15T19:42:45.456467Z",
     "start_time": "2021-04-15T19:42:45.367374Z"
    },
    "scrolled": true
   },
   "outputs": [],
   "source": [
    "data = (data\n",
    "        .join(betas\n",
    "              .groupby(level='ticker')\n",
    "              .shift()))\n",
    "data.info()"
   ]
  },
  {
   "cell_type": "markdown",
   "metadata": {},
   "source": [
    "### Impute mean for missing factor betas"
   ]
  },
  {
   "cell_type": "code",
   "execution_count": null,
   "metadata": {
    "ExecuteTime": {
     "end_time": "2021-04-15T19:42:47.627665Z",
     "start_time": "2021-04-15T19:42:45.458880Z"
    }
   },
   "outputs": [],
   "source": [
    "data.loc[:, factors] = data.groupby('ticker')[factors].apply(lambda x: x.fillna(x.mean()))\n",
    "data.info()"
   ]
  },
  {
   "cell_type": "markdown",
   "metadata": {},
   "source": [
    "## Momentum factors"
   ]
  },
  {
   "cell_type": "markdown",
   "metadata": {},
   "source": [
    "We can use these results to compute momentum factors based on the difference between returns over longer periods and the most recent monthly return, as well as for the difference between 3 and 12 month returns as follows:"
   ]
  },
  {
   "cell_type": "code",
   "execution_count": null,
   "metadata": {
    "ExecuteTime": {
     "end_time": "2021-04-15T19:42:47.637631Z",
     "start_time": "2021-04-15T19:42:47.628920Z"
    }
   },
   "outputs": [],
   "source": [
    "for lag in [2,3,6,9,12]:\n",
    "    data[f'momentum_{lag}'] = data[f'return_{lag}m'].sub(data.return_1m)\n",
    "data[f'momentum_3_12'] = data[f'return_12m'].sub(data.return_3m)"
   ]
  },
  {
   "cell_type": "markdown",
   "metadata": {},
   "source": [
    "## Date Indicators"
   ]
  },
  {
   "cell_type": "code",
   "execution_count": null,
   "metadata": {
    "ExecuteTime": {
     "end_time": "2021-04-15T19:42:47.684155Z",
     "start_time": "2021-04-15T19:42:47.638459Z"
    }
   },
   "outputs": [],
   "source": [
    "dates = data.index.get_level_values('date')\n",
    "data['year'] = dates.year\n",
    "data['month'] = dates.month"
   ]
  },
  {
   "cell_type": "markdown",
   "metadata": {},
   "source": [
    "## Lagged returns"
   ]
  },
  {
   "cell_type": "markdown",
   "metadata": {},
   "source": [
    "To use lagged values as input variables or features associated with the current observations, we use the .shift() method to move historical returns up to the current period:"
   ]
  },
  {
   "cell_type": "code",
   "execution_count": null,
   "metadata": {
    "ExecuteTime": {
     "end_time": "2021-04-15T19:42:47.833744Z",
     "start_time": "2021-04-15T19:42:47.685024Z"
    }
   },
   "outputs": [],
   "source": [
    "for t in range(1, 7):\n",
    "    data[f'return_1m_t-{t}'] = data.groupby(level='ticker').return_1m.shift(t)\n",
    "data.info()"
   ]
  },
  {
   "cell_type": "markdown",
   "metadata": {},
   "source": [
    "## Target: Holding Period Returns"
   ]
  },
  {
   "cell_type": "markdown",
   "metadata": {},
   "source": [
    "Similarly, to compute returns for various holding periods, we use the normalized period returns computed previously and shift them back to align them with the current financial features"
   ]
  },
  {
   "cell_type": "code",
   "execution_count": null,
   "metadata": {
    "ExecuteTime": {
     "end_time": "2021-04-15T19:42:47.945813Z",
     "start_time": "2021-04-15T19:42:47.834603Z"
    }
   },
   "outputs": [],
   "source": [
    "for t in [1,2,3,6,12]:\n",
    "    data[f'target_{t}m'] = data.groupby(level='ticker')[f'return_{t}m'].shift(-t)"
   ]
  },
  {
   "cell_type": "code",
   "execution_count": null,
   "metadata": {
    "ExecuteTime": {
     "end_time": "2021-04-15T19:42:48.020064Z",
     "start_time": "2021-04-15T19:42:47.946666Z"
    }
   },
   "outputs": [],
   "source": [
    "cols = ['target_1m',\n",
    "        'target_2m',\n",
    "        'target_3m', \n",
    "        'return_1m',\n",
    "        'return_2m',\n",
    "        'return_3m',\n",
    "        'return_1m_t-1',\n",
    "        'return_1m_t-2',\n",
    "        'return_1m_t-3']\n",
    "\n",
    "data[cols].dropna().sort_index().head(10)"
   ]
  },
  {
   "cell_type": "code",
   "execution_count": null,
   "metadata": {
    "ExecuteTime": {
     "end_time": "2021-04-15T19:42:48.040307Z",
     "start_time": "2021-04-15T19:42:48.020850Z"
    }
   },
   "outputs": [],
   "source": [
    "data.info()"
   ]
  },
  {
   "cell_type": "markdown",
   "metadata": {},
   "source": [
    "## Create age proxy"
   ]
  },
  {
   "cell_type": "markdown",
   "metadata": {},
   "source": [
    "We use quintiles of IPO year as a proxy for company age."
   ]
  },
  {
   "cell_type": "code",
   "execution_count": null,
   "metadata": {
    "ExecuteTime": {
     "end_time": "2021-04-15T19:42:48.061542Z",
     "start_time": "2021-04-15T19:42:48.041100Z"
    }
   },
   "outputs": [],
   "source": [
    "data = (data\n",
    "        .join(pd.qcut(stocks.ipoyear, q=5, labels=list(range(1, 6)))\n",
    "              .astype(float)\n",
    "              .fillna(0)\n",
    "              .astype(int)\n",
    "              .to_frame('age')))\n",
    "data.age = data.age.fillna(-1)"
   ]
  },
  {
   "cell_type": "markdown",
   "metadata": {},
   "source": [
    "## Create dynamic size proxy"
   ]
  },
  {
   "cell_type": "markdown",
   "metadata": {},
   "source": [
    "We use the marketcap information from the NASDAQ ticker info to create a size proxy."
   ]
  },
  {
   "cell_type": "code",
   "execution_count": null,
   "metadata": {
    "ExecuteTime": {
     "end_time": "2021-04-15T19:42:48.067917Z",
     "start_time": "2021-04-15T19:42:48.062397Z"
    }
   },
   "outputs": [],
   "source": [
    "stocks.info()"
   ]
  },
  {
   "cell_type": "markdown",
   "metadata": {},
   "source": [
    "Market cap information is tied to currrent prices. We create an adjustment factor to have the values reflect lower historical prices for each individual stock:"
   ]
  },
  {
   "cell_type": "code",
   "execution_count": null,
   "metadata": {
    "ExecuteTime": {
     "end_time": "2021-04-15T19:42:48.144287Z",
     "start_time": "2021-04-15T19:42:48.068650Z"
    }
   },
   "outputs": [],
   "source": [
    "size_factor = (monthly_prices\n",
    "               .loc[data.index.get_level_values('date').unique(),\n",
    "                    data.index.get_level_values('ticker').unique()]\n",
    "               .sort_index(ascending=False)\n",
    "               .pct_change()\n",
    "               .fillna(0)\n",
    "               .add(1)\n",
    "               .cumprod())\n",
    "size_factor.info()"
   ]
  },
  {
   "cell_type": "code",
   "execution_count": null,
   "metadata": {
    "ExecuteTime": {
     "end_time": "2021-04-15T19:42:48.153203Z",
     "start_time": "2021-04-15T19:42:48.145309Z"
    }
   },
   "outputs": [],
   "source": [
    "msize = (size_factor\n",
    "         .mul(stocks\n",
    "              .loc[size_factor.columns, 'marketcap'])).dropna(axis=1, how='all')"
   ]
  },
  {
   "cell_type": "markdown",
   "metadata": {},
   "source": [
    "### Create Size indicator as deciles per period"
   ]
  },
  {
   "cell_type": "markdown",
   "metadata": {},
   "source": [
    "Compute size deciles per month:"
   ]
  },
  {
   "cell_type": "code",
   "execution_count": null,
   "metadata": {
    "ExecuteTime": {
     "end_time": "2021-04-15T19:42:49.795031Z",
     "start_time": "2021-04-15T19:42:48.154005Z"
    }
   },
   "outputs": [],
   "source": [
    "data['msize'] = (msize\n",
    "                 .apply(lambda x: pd.qcut(x, q=10, labels=list(range(1, 11)))\n",
    "                        .astype(int), axis=1)\n",
    "                 .stack()\n",
    "                 .swaplevel())\n",
    "data.msize = data.msize.fillna(-1)"
   ]
  },
  {
   "cell_type": "markdown",
   "metadata": {},
   "source": [
    "## Combine data"
   ]
  },
  {
   "cell_type": "code",
   "execution_count": null,
   "metadata": {
    "ExecuteTime": {
     "end_time": "2021-04-15T19:42:49.832155Z",
     "start_time": "2021-04-15T19:42:49.795874Z"
    }
   },
   "outputs": [],
   "source": [
    "data = data.join(stocks[['sector']])\n",
    "data.sector = data.sector.fillna('Unknown')"
   ]
  },
  {
   "cell_type": "code",
   "execution_count": null,
   "metadata": {
    "ExecuteTime": {
     "end_time": "2021-04-15T19:42:49.863430Z",
     "start_time": "2021-04-15T19:42:49.833060Z"
    },
    "scrolled": false
   },
   "outputs": [],
   "source": [
    "data.info()"
   ]
  },
  {
   "cell_type": "markdown",
   "metadata": {},
   "source": [
    "## Store data"
   ]
  },
  {
   "cell_type": "markdown",
   "metadata": {},
   "source": [
    "We will use the data again in several later chapters, starting in [Chapter 7 on Linear Models](../07_linear_models)."
   ]
  },
  {
   "cell_type": "code",
   "execution_count": null,
   "metadata": {
    "ExecuteTime": {
     "end_time": "2021-04-15T19:42:50.165429Z",
     "start_time": "2021-04-15T19:42:49.864236Z"
    },
    "scrolled": false
   },
   "outputs": [],
   "source": [
    "with pd.HDFStore(DATA_STORE) as store:\n",
    "    store.put('engineered_features', data.sort_index())\n",
    "    print(store.info())"
   ]
  },
  {
   "cell_type": "markdown",
   "metadata": {},
   "source": [
    "## Create Dummy variables"
   ]
  },
  {
   "cell_type": "markdown",
   "metadata": {},
   "source": [
    "For most models, we need to encode categorical variables as 'dummies' (one-hot encoding):"
   ]
  },
  {
   "cell_type": "code",
   "execution_count": null,
   "metadata": {
    "ExecuteTime": {
     "end_time": "2021-04-15T19:42:50.404583Z",
     "start_time": "2021-04-15T19:42:50.166383Z"
    },
    "scrolled": false
   },
   "outputs": [],
   "source": [
    "dummy_data = pd.get_dummies(data,\n",
    "                            columns=['year','month', 'msize', 'age',  'sector'],\n",
    "                            prefix=['year','month', 'msize', 'age', ''],\n",
    "                            prefix_sep=['_', '_', '_', '_', ''])\n",
    "dummy_data = dummy_data.rename(columns={c:c.replace('.0', '') for c in dummy_data.columns})\n",
    "dummy_data.info()"
   ]
  }
 ],
 "metadata": {
  "kernelspec": {
   "display_name": "Python 3",
   "language": "python",
   "name": "python3"
  },
  "language_info": {
   "codemirror_mode": {
    "name": "ipython",
    "version": 3
   },
   "file_extension": ".py",
   "mimetype": "text/x-python",
   "name": "python",
   "nbconvert_exporter": "python",
   "pygments_lexer": "ipython3",
   "version": "3.9.12"
  },
  "toc": {
   "base_numbering": 1,
   "nav_menu": {},
   "number_sections": true,
   "sideBar": true,
   "skip_h1_title": true,
   "title_cell": "Table of Contents",
   "title_sidebar": "Contents",
   "toc_cell": false,
   "toc_position": {
    "height": "calc(100% - 180px)",
    "left": "10px",
    "top": "150px",
    "width": "230.355px"
   },
   "toc_section_display": true,
   "toc_window_display": true
  }
 },
 "nbformat": 4,
 "nbformat_minor": 2
}
