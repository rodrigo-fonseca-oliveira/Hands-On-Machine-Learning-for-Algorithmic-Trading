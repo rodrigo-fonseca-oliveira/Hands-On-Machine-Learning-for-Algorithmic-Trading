{
 "cells": [
  {
   "cell_type": "markdown",
   "metadata": {},
   "source": [
    "# Alpha Factor Library"
   ]
  },
  {
   "cell_type": "markdown",
   "metadata": {},
   "source": [
    "This notebook contains a mumber of alpha factor candidates that we can use as features in ML models on the Quantopian platform."
   ]
  },
  {
   "cell_type": "code",
   "execution_count": 1,
   "metadata": {
    "tags": []
   },
   "outputs": [],
   "source": [
    "import pandas as pd\n",
    "import numpy as np\n",
    "from time import time\n",
    "# import talib\n",
    "import re\n",
    "from statsmodels.api import OLS\n",
    "from sklearn.metrics import mean_squared_error\n",
    "from scipy.stats import spearmanr\n",
    "from sklearn.linear_model import LinearRegression, Ridge, RidgeCV, Lasso, LassoCV, LogisticRegression\n",
    "from sklearn.preprocessing import StandardScaler\n",
    "\n",
    "from zipline.research import run_pipeline\n",
    "from zipline.pipeline import Pipeline, factors, filters, classifiers, EquityPricing\n",
    "# from zipline.pipeline.data.builtin import USEquityPricing\n",
    "from zipline.pipeline.factors import (Latest, \n",
    "                                         Returns, \n",
    "                                         AverageDollarVolume, \n",
    "                                         SimpleMovingAverage,\n",
    "                                         EWMA,\n",
    "                                         BollingerBands,\n",
    "                                         CustomFactor,\n",
    "                                        #  MarketCap,\n",
    "                                        SimpleBeta)\n",
    "from zipline.pipeline.filters import StaticAssets #QTradableStocksUS, \n",
    "# from zipline.pipeline.data.quandl import fred_usdontd156n as libor\n",
    "from empyrical import max_drawdown, sortino_ratio\n",
    "\n",
    "\n",
    "\n",
    "import seaborn as sns\n",
    "import matplotlib.pyplot as plt\n",
    "\n",
    "\n",
    "###\n",
    "import talib\n",
    "###"
   ]
  },
  {
   "cell_type": "markdown",
   "metadata": {},
   "source": [
    "## Data Sources"
   ]
  },
  {
   "cell_type": "code",
   "execution_count": 2,
   "metadata": {
    "tags": []
   },
   "outputs": [],
   "source": [
    "# ################\n",
    "# # Fundamentals #\n",
    "# ################\n",
    "\n",
    "# # Morningstar fundamentals (2002 - Ongoing)\n",
    "# # https://www.quantopian.com/help/fundamentals\n",
    "# from quantopian.pipeline.data import Fundamentals\n",
    "from zipline.research import sid\n",
    "from zipline.pipeline import sharadar\n",
    "art_fundamentals = sharadar.Fundamentals.slice('ART', period_offset=0)\n",
    "\n",
    "\n",
    "# #####################\n",
    "# # Analyst Estimates #\n",
    "# #####################\n",
    "\n",
    "# # Earnings Surprises - Zacks (27 May 2006 - Ongoing)\n",
    "# # https://www.quantopian.com/data/zacks/earnings_surprises\n",
    "# from quantopian.pipeline.data.zacks import EarningsSurprises\n",
    "# from quantopian.pipeline.factors.zacks import BusinessDaysSinceEarningsSurprisesAnnouncement\n",
    "\n",
    "# ##########\n",
    "# # Events #\n",
    "# ##########\n",
    "\n",
    "# # Buyback Announcements - EventVestor (01 Jun 2007 - Ongoing)\n",
    "# # https://www.quantopian.com/data/eventvestor/buyback_auth\n",
    "# from quantopian.pipeline.data.eventvestor import BuybackAuthorizations\n",
    "# from quantopian.pipeline.factors.eventvestor import BusinessDaysSinceBuybackAuth\n",
    "\n",
    "# # CEO Changes - EventVestor (01 Jan 2007 - Ongoing)\n",
    "# # https://www.quantopian.com/data/eventvestor/ceo_change\n",
    "# from quantopian.pipeline.data.eventvestor import CEOChangeAnnouncements\n",
    "\n",
    "# # Dividends - EventVestor (01 Jan 2007 - Ongoing)\n",
    "# # https://www.quantopian.com/data/eventvestor/dividends\n",
    "# from quantopian.pipeline.data.eventvestor import (\n",
    "#     DividendsByExDate,\n",
    "#     DividendsByPayDate,\n",
    "#     DividendsByAnnouncementDate,\n",
    "# )\n",
    "# from quantopian.pipeline.factors.eventvestor import (\n",
    "#     BusinessDaysSincePreviousExDate,\n",
    "#     BusinessDaysUntilNextExDate,\n",
    "#     BusinessDaysSinceDividendAnnouncement,\n",
    "# )\n",
    "\n",
    "# # Earnings Calendar - EventVestor (01 Jan 2007 - Ongoing)\n",
    "# # https://www.quantopian.com/data/eventvestor/earnings_calendar\n",
    "# from quantopian.pipeline.data.eventvestor import EarningsCalendar\n",
    "# from quantopian.pipeline.factors.eventvestor import (\n",
    "#     BusinessDaysUntilNextEarnings,\n",
    "#     BusinessDaysSincePreviousEarnings\n",
    "# )\n",
    "\n",
    "# # 13D Filings - EventVestor (01 Jan 2007 - Ongoing)\n",
    "# # https://www.quantopian.com/data/eventvestor/_13d_filings\n",
    "# from quantopian.pipeline.data.eventvestor import _13DFilings\n",
    "# from quantopian.pipeline.factors.eventvestor import BusinessDaysSince13DFilingsDate\n",
    "\n",
    "# #############\n",
    "# # Sentiment #\n",
    "# #############\n",
    "\n",
    "# # News Sentiment - Sentdex Sentiment Analysis (15 Oct 2012 - Ongoing)\n",
    "# # https://www.quantopian.com/data/sentdex/sentiment\n",
    "# from quantopian.pipeline.data.sentdex import sentiment"
   ]
  },
  {
   "cell_type": "markdown",
   "metadata": {},
   "source": [
    "### Setup"
   ]
  },
  {
   "cell_type": "code",
   "execution_count": 3,
   "metadata": {
    "tags": []
   },
   "outputs": [],
   "source": [
    "# trading days per period\n",
    "MONTH = 21\n",
    "YEAR = 12 * MONTH"
   ]
  },
  {
   "cell_type": "code",
   "execution_count": 4,
   "metadata": {
    "tags": []
   },
   "outputs": [],
   "source": [
    "START = '2023-07-20'\n",
    "END = '2023-09-20'"
   ]
  },
  {
   "cell_type": "markdown",
   "metadata": {},
   "source": [
    "#### Universe"
   ]
  },
  {
   "cell_type": "code",
   "execution_count": 5,
   "metadata": {
    "tags": []
   },
   "outputs": [],
   "source": [
    "from zipline.pipeline import Pipeline, EquityPricing, master\n",
    "from zipline.pipeline.factors import SimpleMovingAverage\n",
    "from zipline.research import run_pipeline\n",
    "\n",
    "from codeload.pipeline_tutorial.tradable_stocks import TradableStocksUS"
   ]
  },
  {
   "cell_type": "code",
   "execution_count": 6,
   "metadata": {
    "tags": []
   },
   "outputs": [],
   "source": [
    "# UNIVERSE = StaticAssets(symbols(['MSFT', 'AAPL']))\n",
    "# UNIVERSE = Q100US()\n",
    "UNIVERSE = TradableStocksUS(True) #& sharadar.SP500.in_sp500.latest"
   ]
  },
  {
   "cell_type": "code",
   "execution_count": 7,
   "metadata": {
    "tags": []
   },
   "outputs": [],
   "source": [
    "# def Q100US():\n",
    "#     universe = tradable_stocks_us_universe\n",
    "#     return filters.make_us_equity_universe(\n",
    "#         target_size=100,\n",
    "#         rankby=factors.AverageDollarVolume(window_length=200),\n",
    "#         mask=tradable_stocks_us_universe,\n",
    "#         groupby=classifiers.fundamentals.Sector(),\n",
    "#         max_group_weight=0.3,\n",
    "#         smoothing_func=lambda f: f.downsample('month_start'),\n",
    "#     )"
   ]
  },
  {
   "cell_type": "code",
   "execution_count": 8,
   "metadata": {
    "tags": []
   },
   "outputs": [],
   "source": [
    "def make_pipeline():\n",
    "    \n",
    "    \n",
    "    # in_sp500 = sharadar.SP500.in_sp500.latest\n",
    "    universe = UNIVERSE \n",
    "    \n",
    "    \n",
    "    # 10-day close price average.\n",
    "    mean_10 = SimpleMovingAverage(inputs=EquityPricing.close, window_length=10, mask=universe)\n",
    "\n",
    "    # 30-day close price average.\n",
    "    mean_30 = SimpleMovingAverage(inputs=EquityPricing.close, window_length=30, mask=universe)\n",
    "\n",
    "    # Percent difference factor.\n",
    "    percent_difference = (mean_10 - mean_30) / mean_30\n",
    "        \n",
    "    return Pipeline(\n",
    "        columns={\n",
    "            'percent_difference': percent_difference,\n",
    "            'sector': master.SecuritiesMaster.usstock_Sector.latest\n",
    "        },\n",
    "        screen=universe\n",
    "    )"
   ]
  },
  {
   "cell_type": "code",
   "execution_count": 9,
   "metadata": {
    "tags": []
   },
   "outputs": [
    {
     "data": {
      "text/html": [
       "<div>\n",
       "<style scoped>\n",
       "    .dataframe tbody tr th:only-of-type {\n",
       "        vertical-align: middle;\n",
       "    }\n",
       "\n",
       "    .dataframe tbody tr th {\n",
       "        vertical-align: top;\n",
       "    }\n",
       "\n",
       "    .dataframe thead th {\n",
       "        text-align: right;\n",
       "    }\n",
       "</style>\n",
       "<table border=\"1\" class=\"dataframe\">\n",
       "  <thead>\n",
       "    <tr style=\"text-align: right;\">\n",
       "      <th></th>\n",
       "      <th></th>\n",
       "      <th>percent_difference</th>\n",
       "      <th>sector</th>\n",
       "    </tr>\n",
       "    <tr>\n",
       "      <th>date</th>\n",
       "      <th>asset</th>\n",
       "      <th></th>\n",
       "      <th></th>\n",
       "    </tr>\n",
       "  </thead>\n",
       "  <tbody>\n",
       "    <tr>\n",
       "      <th rowspan=\"11\" valign=\"top\">2015-05-05 00:00:00+00:00</th>\n",
       "      <th>Equity(FIBBG000C2V3D6 [A])</th>\n",
       "      <td>0.000209</td>\n",
       "      <td>Technology</td>\n",
       "    </tr>\n",
       "    <tr>\n",
       "      <th>Equity(FIBBG005P7Q881 [AAL])</th>\n",
       "      <td>0.008126</td>\n",
       "      <td>Industrials</td>\n",
       "    </tr>\n",
       "    <tr>\n",
       "      <th>Equity(FIBBG000D9V7T4 [PRG])</th>\n",
       "      <td>0.095343</td>\n",
       "      <td>Industrials</td>\n",
       "    </tr>\n",
       "    <tr>\n",
       "      <th>Equity(FIBBG000C2LZP3 [AAON])</th>\n",
       "      <td>0.016510</td>\n",
       "      <td>Materials</td>\n",
       "    </tr>\n",
       "    <tr>\n",
       "      <th>Equity(FIBBG000F7RCJ1 [AAP])</th>\n",
       "      <td>-0.010067</td>\n",
       "      <td>Consumer Discretionary</td>\n",
       "    </tr>\n",
       "    <tr>\n",
       "      <th>...</th>\n",
       "      <td>...</td>\n",
       "      <td>...</td>\n",
       "    </tr>\n",
       "    <tr>\n",
       "      <th>Equity(FIBBG0064MY238 [ZOES])</th>\n",
       "      <td>-0.006636</td>\n",
       "      <td>Consumer Discretionary</td>\n",
       "    </tr>\n",
       "    <tr>\n",
       "      <th>Equity(FIBBG003LFL2G1 [ZSPH])</th>\n",
       "      <td>-0.032424</td>\n",
       "      <td>Health Care</td>\n",
       "    </tr>\n",
       "    <tr>\n",
       "      <th>Equity(FIBBG0039320N9 [ZTS])</th>\n",
       "      <td>-0.006146</td>\n",
       "      <td>Health Care</td>\n",
       "    </tr>\n",
       "    <tr>\n",
       "      <th>Equity(FIBBG001Z7M393 [ZU])</th>\n",
       "      <td>-0.043705</td>\n",
       "      <td>Consumer Discretionary</td>\n",
       "    </tr>\n",
       "    <tr>\n",
       "      <th>Equity(FIBBG000PYX812 [ZUMZ])</th>\n",
       "      <td>-0.082763</td>\n",
       "      <td>Consumer Discretionary</td>\n",
       "    </tr>\n",
       "  </tbody>\n",
       "</table>\n",
       "<p>1984 rows × 2 columns</p>\n",
       "</div>"
      ],
      "text/plain": [
       "                                                         percent_difference  \\\n",
       "date                      asset                                               \n",
       "2015-05-05 00:00:00+00:00 Equity(FIBBG000C2V3D6 [A])               0.000209   \n",
       "                          Equity(FIBBG005P7Q881 [AAL])             0.008126   \n",
       "                          Equity(FIBBG000D9V7T4 [PRG])             0.095343   \n",
       "                          Equity(FIBBG000C2LZP3 [AAON])            0.016510   \n",
       "                          Equity(FIBBG000F7RCJ1 [AAP])            -0.010067   \n",
       "...                                                                     ...   \n",
       "                          Equity(FIBBG0064MY238 [ZOES])           -0.006636   \n",
       "                          Equity(FIBBG003LFL2G1 [ZSPH])           -0.032424   \n",
       "                          Equity(FIBBG0039320N9 [ZTS])            -0.006146   \n",
       "                          Equity(FIBBG001Z7M393 [ZU])             -0.043705   \n",
       "                          Equity(FIBBG000PYX812 [ZUMZ])           -0.082763   \n",
       "\n",
       "                                                                         sector  \n",
       "date                      asset                                                  \n",
       "2015-05-05 00:00:00+00:00 Equity(FIBBG000C2V3D6 [A])                 Technology  \n",
       "                          Equity(FIBBG005P7Q881 [AAL])              Industrials  \n",
       "                          Equity(FIBBG000D9V7T4 [PRG])              Industrials  \n",
       "                          Equity(FIBBG000C2LZP3 [AAON])               Materials  \n",
       "                          Equity(FIBBG000F7RCJ1 [AAP])   Consumer Discretionary  \n",
       "...                                                                         ...  \n",
       "                          Equity(FIBBG0064MY238 [ZOES])  Consumer Discretionary  \n",
       "                          Equity(FIBBG003LFL2G1 [ZSPH])             Health Care  \n",
       "                          Equity(FIBBG0039320N9 [ZTS])              Health Care  \n",
       "                          Equity(FIBBG001Z7M393 [ZU])    Consumer Discretionary  \n",
       "                          Equity(FIBBG000PYX812 [ZUMZ])  Consumer Discretionary  \n",
       "\n",
       "[1984 rows x 2 columns]"
      ]
     },
     "execution_count": 9,
     "metadata": {},
     "output_type": "execute_result"
    }
   ],
   "source": [
    "result = run_pipeline(make_pipeline(), start_date='2015-05-05', end_date='2015-05-05')\n",
    "result"
   ]
  },
  {
   "cell_type": "code",
   "execution_count": 10,
   "metadata": {
    "tags": []
   },
   "outputs": [],
   "source": [
    "# class AnnualizedData(CustomFactor):\n",
    "#     # Get the sum of the last 4 reported values\n",
    "#     window_length = 260\n",
    "\n",
    "#     def compute(self, today, assets, out, asof_date, values):\n",
    "#         for asset in range(len(assets)):\n",
    "#             # unique asof dates indicate availability of new figures\n",
    "#             _, filing_dates = np.unique(asof_date[:, asset], return_index=True)\n",
    "#             quarterly_values = values[filing_dates[-4:], asset]\n",
    "#             # ignore annual windows with <4 quarterly data points\n",
    "#             if len(~np.isnan(quarterly_values)) != 4:    \n",
    "#                 out[asset] = np.nan\n",
    "#             else:\n",
    "#                 out[asset] = np.sum(quarterly_values)"
   ]
  },
  {
   "cell_type": "code",
   "execution_count": 11,
   "metadata": {
    "collapsed": true,
    "jupyter": {
     "outputs_hidden": true
    },
    "tags": []
   },
   "outputs": [],
   "source": [
    "# class AnnualAvg(CustomFactor):\n",
    "#     window_length = 252\n",
    "    \n",
    "#     def compute(self, today, assets, out, values):\n",
    "#         out[:] = (values[0] + values[-1])/2"
   ]
  },
  {
   "cell_type": "code",
   "execution_count": 12,
   "metadata": {
    "tags": []
   },
   "outputs": [],
   "source": [
    "def factor_pipeline(factors):\n",
    "    start = time()\n",
    "    pipe = Pipeline({k: v(mask=UNIVERSE).rank() for k, v in factors.items()},\n",
    "                    screen=UNIVERSE)\n",
    "    result = run_pipeline(pipe, start_date=START, end_date=END)\n",
    "    return result, time() - start"
   ]
  },
  {
   "cell_type": "markdown",
   "metadata": {},
   "source": [
    "### Value Factors"
   ]
  },
  {
   "cell_type": "code",
   "execution_count": 13,
   "metadata": {
    "tags": []
   },
   "outputs": [],
   "source": [
    "class ValueFactors:\n",
    "    \"\"\"Definitions of factors for cross-sectional trading algorithms\"\"\"\n",
    "    \n",
    "    @staticmethod\n",
    "    def PriceToSalesTTM(**kwargs):\n",
    "        \"\"\"Last closing price divided by sales per share\"\"\"    \n",
    "        return art_fundamentals.PS.latest\n",
    "        # return Fundamentals.ps_ratio.latest\n",
    "\n",
    "    @staticmethod\n",
    "    def PriceToEarningsTTM(**kwargs):\n",
    "        \"\"\"Closing price divided by earnings per share (EPS)\"\"\"\n",
    "        return art_fundamentals.PE.latest\n",
    "        # return Fundamentals.pe_ratio.latest\n",
    " \n",
    "    @staticmethod\n",
    "    def PriceToDilutedEarningsTTM(mask):\n",
    "        \"\"\"Closing price divided by diluted EPS\"\"\"\n",
    "        last_close = EquityPricing.close.latest\n",
    "        diluted_eps = art_fundamentals.EPSDIL.latest        \n",
    "        # diluted_eps = AnnualizedData(inputs = [Fundamentals.diluted_eps_earnings_reports_asof_date,\n",
    "        #                                        Fundamentals.diluted_eps_earnings_reports],\n",
    "        #                              mask=mask)  \n",
    "        output = last_close / diluted_eps\n",
    "        # if mask is not None:\n",
    "        #     output = output.where(mask)      \n",
    "        return output\n",
    "\n",
    "    # @staticmethod\n",
    "    # def PriceToForwardEarnings(**kwargs):\n",
    "    #     \"\"\"Price to Forward Earnings\"\"\"\n",
    "    #     return sharadar.Fundamentals.slice(dimension=\"ART\").???.latest\n",
    "    \n",
    "    @staticmethod\n",
    "    def DividendYield(**kwargs):\n",
    "        \"\"\"Dividends per share divided by closing price\"\"\"\n",
    "        # return Fundamentals.trailing_dividend_yield.latest\n",
    "        return art_fundamentals.DIVYIELD.latest\n",
    "\n",
    "    @staticmethod\n",
    "    def PriceToFCF(mask):\n",
    "        \"\"\"Price to Free Cash Flow\"\"\"\n",
    "        # last_close = EquityPricing.close.latest\n",
    "        # fcf_share = AnnualizedData(inputs = [Fundamentals.fcf_per_share_asof_date,\n",
    "        #                                      Fundamentals.fcf_per_share],\n",
    "        #                            mask=mask)\n",
    "        # return last_close / fcf_share\n",
    "        return art_fundamentals.FCFPS.latest\n",
    "        \n",
    "\n",
    "    @staticmethod\n",
    "    def PriceToOperatingCashflow(mask):\n",
    "        \"\"\"Last Close divided by Operating Cash Flows\"\"\"\n",
    "        last_close = EquityPricing.close.latest\n",
    "        # cfo_per_share = AnnualizedData(inputs = [Fundamentals.cfo_per_share_asof_date,\n",
    "        #                                          Fundamentals.cfo_per_share],\n",
    "        #                                mask=mask)        \n",
    "        cfo_per_share = art_fundamentals.NCFO.latest\n",
    "        return last_close / cfo_per_share\n",
    "\n",
    "    @staticmethod\n",
    "    def PriceToBook(mask):\n",
    "        \"\"\"Closing price divided by book value\"\"\"\n",
    "        # last_close = EquityPricing.close.latest\n",
    "        # book_value_per_share = AnnualizedData(inputs = [Fundamentals.book_value_per_share_asof_date,\n",
    "        #                                       Fundamentals.book_value_per_share],\n",
    "        #                                      mask=mask)        \n",
    "        # return last_close / book_value_per_share\n",
    "        return art_fundamentals.PB.latest \n",
    "\n",
    "\n",
    "    @staticmethod\n",
    "    def EVToFCF(mask):\n",
    "        # \"\"\"Enterprise Value divided by Free Cash Flows\"\"\"\n",
    "        # fcf = AnnualizedData(inputs = [Fundamentals.free_cash_flow_asof_date,\n",
    "        #                                Fundamentals.free_cash_flow],\n",
    "        #                      mask=mask)\n",
    "        # return Fundamentals.enterprise_value.latest / fcf\n",
    "        ev = art_fundamentals.EV.latest \n",
    "        fcf = art_fundamentals.FCF.latest \n",
    "        return ev / fcf\n",
    "\n",
    "    @staticmethod\n",
    "    def EVToEBITDA(mask):\n",
    "        \"\"\"Enterprise Value to Earnings Before Interest, Taxes, Deprecation and Amortization (EBITDA)\"\"\"\n",
    "#         ebitda = AnnualizedData(inputs = [Fundamentals.ebitda_asof_date,\n",
    "#                                           Fundamentals.ebitda],\n",
    "#                                 mask=mask)\n",
    "\n",
    "#         return Fundamentals.enterprise_value.latest / ebitda\n",
    "        return art_fundamentals.EVEBITDA.latest \n",
    "\n",
    "    @staticmethod\n",
    "    def EBITDAYield(mask):\n",
    "        \"\"\"EBITDA divided by latest close\"\"\"\n",
    "        # ebitda = AnnualizedData(inputs = [Fundamentals.ebitda_asof_date,\n",
    "        #                                   Fundamentals.ebitda],\n",
    "        #                         mask=mask)\n",
    "        ebitda = art_fundamentals.EBITDA.latest  \n",
    "        return EquityPricing.close.latest / ebitda"
   ]
  },
  {
   "cell_type": "code",
   "execution_count": 14,
   "metadata": {
    "tags": []
   },
   "outputs": [],
   "source": [
    "VALUE_FACTORS = {\n",
    "    'DividendYield'            : ValueFactors.DividendYield,\n",
    "    'EBITDAYield'              : ValueFactors.EBITDAYield,\n",
    "    'EVToEBITDA'               : ValueFactors.EVToEBITDA,\n",
    "    'EVToFCF'                  : ValueFactors.EVToFCF,\n",
    "    'PriceToBook'              : ValueFactors.PriceToBook,\n",
    "    'PriceToDilutedEarningsTTM': ValueFactors.PriceToDilutedEarningsTTM,\n",
    "    'PriceToFCF'               : ValueFactors.PriceToFCF,\n",
    "    # 'PriceToForwardEarnings'   : ValueFactors.PriceToForwardEarnings,\n",
    "    'PriceToOperatingCashflow' : ValueFactors.PriceToOperatingCashflow,\n",
    "    'PriceToEarningsTTM'       : ValueFactors.PriceToEarningsTTM,\n",
    "    'PriceToSalesTTM'          : ValueFactors.PriceToSalesTTM,\n",
    "}"
   ]
  },
  {
   "cell_type": "code",
   "execution_count": 15,
   "metadata": {
    "tags": []
   },
   "outputs": [
    {
     "name": "stdout",
     "output_type": "stream",
     "text": [
      "Pipeline run time 45.75 secs\n",
      "<class 'pandas.core.frame.DataFrame'>\n",
      "MultiIndex: 92424 entries, (Timestamp('2023-07-20 00:00:00+0000', tz='UTC', freq='C'), Equity(FIBBG000C2V3D6 [A])) to (Timestamp('2023-09-20 00:00:00+0000', tz='UTC', freq='C'), Equity(FIBBG01BPHNXZ3 [BAM]))\n",
      "Data columns (total 10 columns):\n",
      " #   Column                     Non-Null Count  Dtype  \n",
      "---  ------                     --------------  -----  \n",
      " 0   DividendYield              92424 non-null  float64\n",
      " 1   EBITDAYield                92380 non-null  float64\n",
      " 2   EVToEBITDA                 92380 non-null  float64\n",
      " 3   EVToFCF                    92380 non-null  float64\n",
      " 4   PriceToBook                92424 non-null  float64\n",
      " 5   PriceToDilutedEarningsTTM  92280 non-null  float64\n",
      " 6   PriceToFCF                 92380 non-null  float64\n",
      " 7   PriceToOperatingCashflow   92380 non-null  float64\n",
      " 8   PriceToEarningsTTM         92424 non-null  float64\n",
      " 9   PriceToSalesTTM            90908 non-null  float64\n",
      "dtypes: float64(10)\n",
      "memory usage: 7.4+ MB\n"
     ]
    }
   ],
   "source": [
    "value_result, t = factor_pipeline(VALUE_FACTORS)\n",
    "print('Pipeline run time {:.2f} secs'.format(t))\n",
    "value_result.info()"
   ]
  },
  {
   "cell_type": "markdown",
   "metadata": {},
   "source": [
    "### Momentum"
   ]
  },
  {
   "cell_type": "code",
   "execution_count": 16,
   "metadata": {
    "tags": []
   },
   "outputs": [],
   "source": [
    "from zipline.pipeline.factors import RSI, RollingLinearRegressionOfReturns\n",
    "\n",
    "\n",
    "class MomentumFactors:\n",
    "    \"\"\"Custom Momentum Factors\"\"\"\n",
    "    class PercentAboveLow(CustomFactor):\n",
    "        \"\"\"Percentage of current close above low \n",
    "        in lookback window of window_length days\n",
    "        \"\"\"\n",
    "        inputs = [EquityPricing.close]\n",
    "        window_length = 252\n",
    "\n",
    "        def compute(self, today, assets, out, close):\n",
    "            out[:] = close[-1] / np.min(close, axis=0) - 1\n",
    "\n",
    "    class PercentBelowHigh(CustomFactor):\n",
    "        \"\"\"Percentage of current close below high \n",
    "        in lookback window of window_length days\n",
    "        \"\"\"\n",
    "        \n",
    "        inputs = [EquityPricing.close]\n",
    "        window_length = 252\n",
    "            \n",
    "        def compute(self, today, assets, out, close):\n",
    "            out[:] = close[-1] / np.max(close, axis=0) - 1\n",
    "\n",
    "    @staticmethod\n",
    "    def make_dx(timeperiod=14):\n",
    "        class DX(CustomFactor):\n",
    "            \"\"\"Directional Movement Index\"\"\"\n",
    "            inputs = [EquityPricing.high, \n",
    "                      EquityPricing.low, \n",
    "                      EquityPricing.close]\n",
    "            window_length = timeperiod + 1\n",
    "            \n",
    "            def compute(self, today, assets, out, high, low, close):\n",
    "                out[:] = [talib.DX(high[:, i], \n",
    "                                   low[:, i], \n",
    "                                   close[:, i], \n",
    "                                   timeperiod=timeperiod)[-1] \n",
    "                          for i in range(len(assets))]\n",
    "        return DX  \n",
    "\n",
    "    @staticmethod\n",
    "    def make_mfi(timeperiod=14):\n",
    "        class MFI(CustomFactor):\n",
    "            \"\"\"Money Flow Index\"\"\"\n",
    "            inputs = [EquityPricing.high, \n",
    "                      EquityPricing.low, \n",
    "                      EquityPricing.close,\n",
    "                      EquityPricing.volume]\n",
    "            window_length = timeperiod + 1\n",
    "            \n",
    "            def compute(self, today, assets, out, high, low, close, vol):\n",
    "                out[:] = [talib.MFI(high[:, i], \n",
    "                                    low[:, i], \n",
    "                                    close[:, i],\n",
    "                                    vol[:, i],\n",
    "                                    timeperiod=timeperiod)[-1] \n",
    "                          for i in range(len(assets))]\n",
    "        return MFI           \n",
    "\n",
    "    @staticmethod\n",
    "    def make_oscillator(fastperiod=12, slowperiod=26, matype=0):\n",
    "        class PPO(CustomFactor):\n",
    "            \"\"\"12/26-Day Percent Price Oscillator\"\"\"\n",
    "            inputs = [EquityPricing.close]\n",
    "            window_length = slowperiod\n",
    "\n",
    "            def compute(self, today, assets, out, close_prices):\n",
    "                out[:] = [talib.PPO(close,\n",
    "                                    fastperiod=fastperiod,\n",
    "                                    slowperiod=slowperiod, \n",
    "                                    matype=matype)[-1]\n",
    "                         for close in close_prices.T]\n",
    "        return PPO\n",
    "\n",
    "    # @staticmethod\n",
    "    # def make_stochastic_oscillator(fastk_period=5, slowk_period=3, slowd_period=3, \n",
    "    #                                slowk_matype=0, slowd_matype=0):                \n",
    "    #     class StochasticOscillator(CustomFactor):\n",
    "    #         \"\"\"20-day Stochastic Oscillator \"\"\"\n",
    "    #         inputs = [EquityPricing.high, \n",
    "    #                   EquityPricing.low, \n",
    "    #                   EquityPricing.close]\n",
    "    #         outputs = ['slowk', 'slowd']\n",
    "    #         window_length = fastk_period * 2\n",
    "            \n",
    "    #         def compute(self, today, assets, out, high, low, close):\n",
    "    #             slowk, slowd = [talib.STOCH(high[:, i],\n",
    "    #                                         low[:, i],\n",
    "    #                                         close[:, i], \n",
    "    #                                         fastk_period=fastk_period,\n",
    "    #                                         slowk_period=slowk_period, \n",
    "    #                                         slowk_matype=slowk_matype, \n",
    "    #                                         slowd_period=slowd_period, \n",
    "    #                                         slowd_matype=slowd_matype)[-1] \n",
    "    #                             for i in range(len(assets))]\n",
    "\n",
    "    #             out.slowk[:], out.slowd[:] = slowk[-1], slowd[-1]\n",
    "    #     return StochasticOscillator\n",
    "    \n",
    "    @staticmethod\n",
    "    def make_trendline(timeperiod=252):                \n",
    "        class Trendline(CustomFactor):\n",
    "            inputs = [EquityPricing.close]\n",
    "            \"\"\"52-Week Trendline\"\"\"\n",
    "            window_length = timeperiod\n",
    "\n",
    "            def compute(self, today, assets, out, close_prices):\n",
    "                out[:] = [talib.LINEARREG_SLOPE(close, \n",
    "                                   timeperiod=timeperiod)[-1] \n",
    "                          for close in close_prices.T]\n",
    "        return Trendline"
   ]
  },
  {
   "cell_type": "code",
   "execution_count": 17,
   "metadata": {},
   "outputs": [],
   "source": [
    "MOMENTUM_FACTORS = {\n",
    "    'Percent Above Low'            : MomentumFactors.PercentAboveLow,\n",
    "    'Percent Below High'           : MomentumFactors.PercentBelowHigh,\n",
    "    'Directional Movement Index'   : MomentumFactors.make_dx(),\n",
    "    'RSI'                          : RSI,\n",
    "    'Price Oscillator'             : MomentumFactors.make_oscillator(),\n",
    "    # 'make_stochastic_oscillator'   : MomentumFactors.make_stochastic_oscillator(),\n",
    "    'Money Flow Index'             : MomentumFactors.make_mfi(),\n",
    "    'Trendline'                    : MomentumFactors.make_trendline()\n",
    "}"
   ]
  },
  {
   "cell_type": "code",
   "execution_count": 18,
   "metadata": {},
   "outputs": [
    {
     "name": "stdout",
     "output_type": "stream",
     "text": [
      "Pipeline run time 44.62 secs\n",
      "<class 'pandas.core.frame.DataFrame'>\n",
      "MultiIndex: 92424 entries, (Timestamp('2023-07-20 00:00:00+0000', tz='UTC', freq='C'), Equity(FIBBG000C2V3D6 [A])) to (Timestamp('2023-09-20 00:00:00+0000', tz='UTC', freq='C'), Equity(FIBBG01BPHNXZ3 [BAM]))\n",
      "Data columns (total 7 columns):\n",
      " #   Column                      Non-Null Count  Dtype  \n",
      "---  ------                      --------------  -----  \n",
      " 0   Percent Above Low           91911 non-null  float64\n",
      " 1   Percent Below High          91911 non-null  float64\n",
      " 2   Directional Movement Index  92424 non-null  float64\n",
      " 3   RSI                         92424 non-null  float64\n",
      " 4   Price Oscillator            92424 non-null  float64\n",
      " 5   Money Flow Index            92424 non-null  float64\n",
      " 6   Trendline                   91911 non-null  float64\n",
      "dtypes: float64(7)\n",
      "memory usage: 5.3+ MB\n"
     ]
    }
   ],
   "source": [
    "momentum_result, t = factor_pipeline(MOMENTUM_FACTORS)\n",
    "print('Pipeline run time {:.2f} secs'.format(t))\n",
    "momentum_result.info()"
   ]
  },
  {
   "cell_type": "markdown",
   "metadata": {},
   "source": [
    "### Efficiency"
   ]
  },
  {
   "cell_type": "code",
   "execution_count": 19,
   "metadata": {},
   "outputs": [],
   "source": [
    "class EfficiencyFactors:\n",
    "\n",
    "    @staticmethod\n",
    "    def CapexToAssets(mask):\n",
    "        \"\"\"Capital Expenditure divided by Total Assets\"\"\"\n",
    "        # capex = AnnualizedData(inputs = [Fundamentals.capital_expenditure_asof_date,\n",
    "        #                                  Fundamentals.capital_expenditure],\n",
    "        #                              mask=mask)   \n",
    "        # assets = Fundamentals.total_assets.latest\n",
    "        # return - capex / assets\n",
    "        return art_fundamentals.CAPEX.latest / art_fundamentals.ASSETS.latest\n",
    "\n",
    "    @staticmethod\n",
    "    def CapexToSales(mask):\n",
    "        \"\"\"Capital Expenditure divided by Total Revenue\"\"\"\n",
    "        # capex = AnnualizedData(inputs = [Fundamentals.capital_expenditure_asof_date,\n",
    "        #                                  Fundamentals.capital_expenditure],\n",
    "        #                              mask=mask)   \n",
    "        # revenue = AnnualizedData(inputs = [Fundamentals.total_revenue_asof_date,\n",
    "        #                                  Fundamentals.total_revenue],\n",
    "        #                              mask=mask)         \n",
    "        # return - capex / revenue\n",
    "        return art_fundamentals.CAPEX.latest / art_fundamentals.REVENUE.latest\n",
    "  \n",
    "    @staticmethod\n",
    "    def CapexToFCF(mask):\n",
    "        \"\"\"Capital Expenditure divided by Free Cash Flows\"\"\"\n",
    "        # capex = AnnualizedData(inputs = [Fundamentals.capital_expenditure_asof_date,\n",
    "        #                                  Fundamentals.capital_expenditure],\n",
    "        #                              mask=mask)   \n",
    "        # free_cash_flow = AnnualizedData(inputs = [Fundamentals.free_cash_flow_asof_date,\n",
    "        #                                  Fundamentals.free_cash_flow],\n",
    "        #                              mask=mask)         \n",
    "        # return - capex / free_cash_flow\n",
    "        return art_fundamentals.CAPEX.latest / art_fundamentals.FCF.latest\n",
    "\n",
    "    @staticmethod\n",
    "    def EBITToAssets(mask):\n",
    "        \"\"\"Earnings Before Interest and Taxes (EBIT) divided by Total Assets\"\"\"\n",
    "        # ebit = AnnualizedData(inputs = [Fundamentals.ebit_asof_date,\n",
    "        #                                  Fundamentals.ebit],\n",
    "        #                              mask=mask)   \n",
    "        # assets = Fundamentals.total_assets.latest\n",
    "        # return ebit / assets\n",
    "        return art_fundamentals.EBIT.latest / art_fundamentals.ASSETS.latest\n",
    "    \n",
    "    @staticmethod\n",
    "    def CFOToAssets(mask):\n",
    "        \"\"\"Operating Cash Flows divided by Total Assets\"\"\"\n",
    "        # cfo = AnnualizedData(inputs = [Fundamentals.operating_cash_flow_asof_date,\n",
    "        #                                  Fundamentals.operating_cash_flow],\n",
    "        #                              mask=mask)   \n",
    "        # assets = Fundamentals.total_assets.latest\n",
    "        # return cfo / assets \n",
    "        return art_fundamentals.NCFO.latest / art_fundamentals.ASSETS.latest\n",
    "    \n",
    "    @staticmethod\n",
    "    def RetainedEarningsToAssets(mask):\n",
    "        \"\"\"Retained Earnings divided by Total Assets\"\"\"\n",
    "        # retained_earnings = AnnualizedData(inputs = [Fundamentals.retained_earnings_asof_date,\n",
    "        #                                  Fundamentals.retained_earnings],\n",
    "        #                              mask=mask)   \n",
    "        # assets = Fundamentals.total_assets.latest\n",
    "        # return retained_earnings / assets\n",
    "        return art_fundamentals.RETEARN.latest / art_fundamentals.ASSETS.latest"
   ]
  },
  {
   "cell_type": "code",
   "execution_count": 20,
   "metadata": {},
   "outputs": [],
   "source": [
    "EFFICIENCY_FACTORS = {\n",
    "    'CFO To Assets' :EfficiencyFactors.CFOToAssets,\n",
    "    'Capex To Assets' :EfficiencyFactors.CapexToAssets,\n",
    "    'Capex To FCF' :EfficiencyFactors.CapexToFCF,\n",
    "    'Capex To Sales' :EfficiencyFactors.CapexToSales,\n",
    "    'EBIT To Assets' :EfficiencyFactors.EBITToAssets,\n",
    "    'Retained Earnings To Assets' :EfficiencyFactors.RetainedEarningsToAssets\n",
    "    }"
   ]
  },
  {
   "cell_type": "code",
   "execution_count": 21,
   "metadata": {},
   "outputs": [
    {
     "name": "stdout",
     "output_type": "stream",
     "text": [
      "Pipeline run time 38.30 secs\n",
      "<class 'pandas.core.frame.DataFrame'>\n",
      "MultiIndex: 92424 entries, (Timestamp('2023-07-20 00:00:00+0000', tz='UTC', freq='C'), Equity(FIBBG000C2V3D6 [A])) to (Timestamp('2023-09-20 00:00:00+0000', tz='UTC', freq='C'), Equity(FIBBG01BPHNXZ3 [BAM]))\n",
      "Data columns (total 6 columns):\n",
      " #   Column                       Non-Null Count  Dtype  \n",
      "---  ------                       --------------  -----  \n",
      " 0   CFO To Assets                92380 non-null  float64\n",
      " 1   Capex To Assets              92380 non-null  float64\n",
      " 2   Capex To FCF                 92380 non-null  float64\n",
      " 3   Capex To Sales               92193 non-null  float64\n",
      " 4   EBIT To Assets               92424 non-null  float64\n",
      " 5   Retained Earnings To Assets  91368 non-null  float64\n",
      "dtypes: float64(6)\n",
      "memory usage: 4.6+ MB\n"
     ]
    }
   ],
   "source": [
    "efficiency_result, t = factor_pipeline(EFFICIENCY_FACTORS)\n",
    "print('Pipeline run time {:.2f} secs'.format(t))\n",
    "efficiency_result.info()"
   ]
  },
  {
   "cell_type": "markdown",
   "metadata": {},
   "source": [
    "### Risk"
   ]
  },
  {
   "cell_type": "code",
   "execution_count": 22,
   "metadata": {},
   "outputs": [],
   "source": [
    "class RiskFactors:\n",
    "\n",
    "    @staticmethod\n",
    "    def LogMarketCap(mask):\n",
    "        \"\"\"Log of Market Capitalization log(Close Price * Shares Outstanding)\"\"\"\n",
    "        # return np.log(MarketCap(mask=mask))\n",
    "        return np.log(art_fundamentals.MARKETCAP.latest)\n",
    " \n",
    "    class DownsideRisk(CustomFactor):\n",
    "        \"\"\"Mean returns divided by std of 1yr daily losses (Sortino Ratio)\"\"\"\n",
    "        inputs = [EquityPricing.close]\n",
    "        window_length = 252\n",
    "\n",
    "        def compute(self, today, assets, out, close):\n",
    "            ret = pd.DataFrame(close).pct_change()\n",
    "            out[:] = ret.mean().div(ret.where(ret<0).std())\n",
    "\n",
    "    @staticmethod\n",
    "    def MarketBeta(**kwargs):\n",
    "        \"\"\"Slope of 1-yr regression of price returns against index returns\"\"\"\n",
    "        spy_sid = sid('FIBBG000BDTBL9')\n",
    "        return SimpleBeta(target=spy_sid, regression_length=252) \n",
    "\n",
    "    # class DownsideBeta(CustomFactor):\n",
    "    #     \"\"\"Slope of 1yr regression of returns on negative index returns\"\"\"\n",
    "    #     inputs = EquityPricing.close]\n",
    "    #     window_length = 252\n",
    "\n",
    "    #     def compute(self, today, assets, out, close):\n",
    "    #         t = len(close)\n",
    "    #         assets = pd.DataFrame(close).pct_change()\n",
    "            \n",
    "    #         start_date = (today - pd.DateOffset(years=1)).strftime('%Y-%m-%d')\n",
    "    #         spy = get_pricing('SPY', \n",
    "    #                           start_date=start_date, \n",
    "    #                           end_date=today.strftime('%Y-%m-%d')).reset_index(drop=True)\n",
    "    #         spy_neg_ret = (spy\n",
    "    #                        .close_price\n",
    "    #                        .iloc[-t:]\n",
    "    #                        .pct_change()\n",
    "    #                        .pipe(lambda x: x.where(x<0)))\n",
    "    \n",
    "    #         out[:] = assets.apply(lambda x: x.cov(spy_neg_ret)).div(spy_neg_ret.var())         \n",
    "\n",
    "    class Vol3M(CustomFactor):\n",
    "        \"\"\"3-month Volatility: Standard deviation of returns over 3 months\"\"\"\n",
    "\n",
    "        inputs = [EquityPricing.close]\n",
    "        window_length = 63\n",
    "\n",
    "        def compute(self, today, assets, out, close):\n",
    "            out[:] = np.log1p(pd.DataFrame(close).pct_change()).std()"
   ]
  },
  {
   "cell_type": "code",
   "execution_count": 23,
   "metadata": {},
   "outputs": [],
   "source": [
    "RISK_FACTORS = {\n",
    "    'Log Market Cap' : RiskFactors.LogMarketCap,\n",
    "    'Downside Risk'  : RiskFactors.DownsideRisk,\n",
    "    'Index Beta'     : RiskFactors.MarketBeta,\n",
    "#     'Downside Beta'  : RiskFactors.DownsideBeta,    \n",
    "    'Volatility 3M'  : RiskFactors.Vol3M,    \n",
    "}"
   ]
  },
  {
   "cell_type": "code",
   "execution_count": 24,
   "metadata": {},
   "outputs": [
    {
     "name": "stderr",
     "output_type": "stream",
     "text": [
      "/opt/conda/lib/python3.9/site-packages/zipline/pipeline/factors/statistical.py:683: RuntimeWarning: invalid value encountered in true_divide\n",
      "  np.divide(covariances, independent_variances, out=out)\n"
     ]
    },
    {
     "name": "stdout",
     "output_type": "stream",
     "text": [
      "Pipeline run time 54.38 secs\n",
      "<class 'pandas.core.frame.DataFrame'>\n",
      "MultiIndex: 92424 entries, (Timestamp('2023-07-20 00:00:00+0000', tz='UTC', freq='C'), Equity(FIBBG000C2V3D6 [A])) to (Timestamp('2023-09-20 00:00:00+0000', tz='UTC', freq='C'), Equity(FIBBG01BPHNXZ3 [BAM]))\n",
      "Data columns (total 4 columns):\n",
      " #   Column          Non-Null Count  Dtype  \n",
      "---  ------          --------------  -----  \n",
      " 0   Log Market Cap  92424 non-null  float64\n",
      " 1   Downside Risk   92424 non-null  float64\n",
      " 2   Index Beta      92424 non-null  float64\n",
      " 3   Volatility 3M   92424 non-null  float64\n",
      "dtypes: float64(4)\n",
      "memory usage: 3.2+ MB\n"
     ]
    }
   ],
   "source": [
    "risk_result, t = factor_pipeline(RISK_FACTORS)\n",
    "print('Pipeline run time {:.2f} secs'.format(t))\n",
    "risk_result.info()"
   ]
  },
  {
   "cell_type": "markdown",
   "metadata": {},
   "source": [
    "### Growth"
   ]
  },
  {
   "cell_type": "code",
   "execution_count": 25,
   "metadata": {},
   "outputs": [],
   "source": [
    "def growth_pipeline():\n",
    "    # revenue = AnnualizedData(inputs = [Fundamentals.total_revenue_asof_date,\n",
    "    #                                    Fundamentals.total_revenue],\n",
    "    #                          mask=UNIVERSE)\n",
    "    # eps = AnnualizedData(inputs = [Fundamentals.diluted_eps_earnings_reports_asof_date,\n",
    "    #                                    Fundamentals.diluted_eps_earnings_reports],\n",
    "    #                          mask=UNIVERSE)    \n",
    "\n",
    "    revenue = art_fundamentals.REVENUE.latest\n",
    "    eps = art_fundamentals.EPS.latest\n",
    "\n",
    "    return Pipeline({'Sales': revenue,\n",
    "                     'EPS': eps,\n",
    "                     'Total Assets': art_fundamentals.ASSETS.latest,\n",
    "                     'Net Debt': art_fundamentals.DEBT.latest - art_fundamentals.CASHNEQ.latest,},\n",
    "                    screen=UNIVERSE)"
   ]
  },
  {
   "cell_type": "code",
   "execution_count": 26,
   "metadata": {},
   "outputs": [
    {
     "name": "stdout",
     "output_type": "stream",
     "text": [
      "Pipeline run time 37.31 secs\n",
      "<class 'pandas.core.frame.DataFrame'>\n",
      "MultiIndex: 92424 entries, (Timestamp('2023-07-20 00:00:00+0000', tz='UTC', freq='C'), Equity(FIBBG000C2V3D6 [A])) to (Timestamp('2023-09-20 00:00:00+0000', tz='UTC', freq='C'), Equity(FIBBG01BPHNXZ3 [BAM]))\n",
      "Data columns (total 12 columns):\n",
      " #   Column                   Non-Null Count  Dtype  \n",
      "---  ------                   --------------  -----  \n",
      " 0   Sales                    92424 non-null  float64\n",
      " 1   EPS                      92324 non-null  float64\n",
      " 2   Total Assets             92424 non-null  float64\n",
      " 3   Net Debt                 92424 non-null  float64\n",
      " 4   Sales Growth 3M          92349 non-null  float64\n",
      " 5   Sales Growth 12M         92155 non-null  float64\n",
      " 6   EPS Growth 3M            92361 non-null  float64\n",
      " 7   EPS Growth 12M           92172 non-null  float64\n",
      " 8   Total Assets Growth 3M   92361 non-null  float64\n",
      " 9   Total Assets Growth 12M  92172 non-null  float64\n",
      " 10  Net Debt Growth 3M       92361 non-null  float64\n",
      " 11  Net Debt Growth 12M      92172 non-null  float64\n",
      "dtypes: float64(12)\n",
      "memory usage: 8.8+ MB\n"
     ]
    }
   ],
   "source": [
    "start_timer = time()\n",
    "growth_result = run_pipeline(growth_pipeline(), start_date=START, end_date=END)\n",
    "\n",
    "for col in growth_result.columns:\n",
    "    for month in [3, 12]:\n",
    "        new_col = col + ' Growth {}M'.format(month)\n",
    "        kwargs = {new_col: growth_result[col].pct_change(month*MONTH).groupby(level=1).rank()}        \n",
    "        growth_result = growth_result.assign(**kwargs)\n",
    "print('Pipeline run time {:.2f} secs'.format(time() - start_timer))\n",
    "growth_result.info()"
   ]
  },
  {
   "cell_type": "markdown",
   "metadata": {},
   "source": [
    "### Quality"
   ]
  },
  {
   "cell_type": "code",
   "execution_count": 27,
   "metadata": {},
   "outputs": [],
   "source": [
    "class QualityFactors:\n",
    "    \n",
    "    @staticmethod\n",
    "    def AssetTurnover(mask):\n",
    "        \"\"\"Sales divided by average of year beginning and year end assets\"\"\"\n",
    "\n",
    "        # assets = AnnualAvg(inputs=[Fundamentals.total_assets],\n",
    "        #                    mask=mask)\n",
    "        # sales = AnnualizedData([Fundamentals.total_revenue_asof_date,\n",
    "        #                         Fundamentals.total_revenue], mask=mask)\n",
    "        # return sales / assets\n",
    "        return art_fundamentals.REVENUE.latest / art_fundamentals.ASSETS.latest\n",
    "  \n",
    "    @staticmethod\n",
    "    def CurrentRatio(mask):\n",
    "        \"\"\"Total current assets divided by total current liabilities\"\"\"\n",
    "\n",
    "        # assets = Fundamentals.current_assets.latest\n",
    "        # liabilities = Fundamentals.current_liabilities.latest\n",
    "        # return assets / liabilities\n",
    "        return art_fundamentals.CURRENTRATIO.latest\n",
    "    \n",
    "    @staticmethod\n",
    "    def AssetToEquityRatio(mask):\n",
    "        \"\"\"Total current assets divided by common equity\"\"\"\n",
    "\n",
    "        # assets = Fundamentals.current_assets.latest\n",
    "        # equity = Fundamentals.common_stock.latest\n",
    "        # return assets / equity   \n",
    "        return art_fundamentals.ASSETTURNOVER.latest \n",
    "\n",
    "    \n",
    "    @staticmethod\n",
    "    def InterestCoverage(mask):\n",
    "        \"\"\"EBIT divided by interest expense\"\"\"\n",
    "\n",
    "        # ebit = AnnualizedData(inputs = [Fundamentals.ebit_asof_date,\n",
    "        #                                 Fundamentals.ebit], mask=mask)  \n",
    "        \n",
    "        # interest_expense = AnnualizedData(inputs = [Fundamentals.interest_expense_asof_date,\n",
    "        #                                 Fundamentals.interest_expense], mask=mask)\n",
    "        # return ebit / interest_expense\n",
    "        return art_fundamentals.EBIT.latest / art_fundamentals.INTEXP.latest\n",
    "\n",
    "    @staticmethod\n",
    "    def DebtToAssetRatio(mask):\n",
    "        \"\"\"Total Debts divided by Total Assets\"\"\"\n",
    "\n",
    "        # debt = Fundamentals.total_debt.latest\n",
    "        # assets = Fundamentals.total_assets.latest\n",
    "        # return debt / assets\n",
    "        return art_fundamentals.DEBT.latest / art_fundamentals.ASSETS.latest\n",
    "    \n",
    "    @staticmethod\n",
    "    def DebtToEquityRatio(mask):\n",
    "        \"\"\"Total Debts divided by Common Stock Equity\"\"\"\n",
    "\n",
    "        # debt = Fundamentals.total_debt.latest\n",
    "        # equity = Fundamentals.common_stock.latest\n",
    "        # return debt / equity    \n",
    "        return art_fundamentals.DEBT.latest / art_fundamentals.EQUITY.latest\n",
    "\n",
    "    @staticmethod\n",
    "    def WorkingCapitalToAssets(mask):\n",
    "        \"\"\"Current Assets less Current liabilities (Working Capital) divided by Assets\"\"\"\n",
    "\n",
    "        # working_capital = Fundamentals.working_capital.latest\n",
    "        # assets = Fundamentals.total_assets.latest\n",
    "        # return working_capital / assets\n",
    "        return art_fundamentals.WORKINGCAPITAL.latest / art_fundamentals.ASSETS.latest\n",
    " \n",
    "    @staticmethod\n",
    "    def WorkingCapitalToSales(mask):\n",
    "        \"\"\"Current Assets less Current liabilities (Working Capital), divided by Sales\"\"\"\n",
    "\n",
    "        # working_capital = Fundamentals.working_capital.latest\n",
    "        # sales = AnnualizedData([Fundamentals.total_revenue_asof_date,\n",
    "        #                         Fundamentals.total_revenue], mask=mask)        \n",
    "        # return working_capital / sales          \n",
    "        return art_fundamentals.WORKINGCAPITAL.latest / art_fundamentals.REVENUE.latest\n",
    "       \n",
    "        \n",
    "    # class MertonsDD(CustomFactor):\n",
    "    #     \"\"\"Merton's Distance to Default \"\"\"\n",
    "        \n",
    "    #     inputs = [Fundamentals.total_assets,\n",
    "    #               Fundamentals.total_liabilities, \n",
    "    #               libor.value, \n",
    "    #               USEquityPricing.close]\n",
    "    #     window_length = 252\n",
    "\n",
    "    #     def compute(self, today, assets, out, tot_assets, tot_liabilities, r, close):\n",
    "    #         mertons = []\n",
    "\n",
    "    #         for col_assets, col_liabilities, col_r, col_close in zip(tot_assets.T, tot_liabilities.T,\n",
    "    #                                                                  r.T, close.T):\n",
    "    #             vol_1y = np.nanstd(col_close)\n",
    "    #             numerator = np.log(\n",
    "    #                     col_assets[-1] / col_liabilities[-1]) + ((252 * col_r[-1]) - ((vol_1y ** 2) / 2))\n",
    "    #             mertons.append(numerator / vol_1y)\n",
    "\n",
    "    #         out[:] = mertons            "
   ]
  },
  {
   "cell_type": "code",
   "execution_count": 28,
   "metadata": {
    "scrolled": true
   },
   "outputs": [],
   "source": [
    "QUALITY_FACTORS = {\n",
    "    'AssetToEquityRatio'    : QualityFactors.AssetToEquityRatio,\n",
    "    'AssetTurnover'         : QualityFactors.AssetTurnover,\n",
    "    'CurrentRatio'          : QualityFactors.CurrentRatio,\n",
    "    'DebtToAssetRatio'      : QualityFactors.DebtToAssetRatio,\n",
    "    'DebtToEquityRatio'     : QualityFactors.DebtToEquityRatio,\n",
    "    'InterestCoverage'      : QualityFactors.InterestCoverage,\n",
    "    # 'MertonsDD'             : QualityFactors.MertonsDD,\n",
    "    'WorkingCapitalToAssets': QualityFactors.WorkingCapitalToAssets,\n",
    "    'WorkingCapitalToSales' : QualityFactors.WorkingCapitalToSales,\n",
    "}\n",
    "    "
   ]
  },
  {
   "cell_type": "code",
   "execution_count": 29,
   "metadata": {},
   "outputs": [
    {
     "name": "stdout",
     "output_type": "stream",
     "text": [
      "Pipeline run time 39.97 secs\n",
      "<class 'pandas.core.frame.DataFrame'>\n",
      "MultiIndex: 92424 entries, (Timestamp('2023-07-20 00:00:00+0000', tz='UTC', freq='C'), Equity(FIBBG000C2V3D6 [A])) to (Timestamp('2023-09-20 00:00:00+0000', tz='UTC', freq='C'), Equity(FIBBG01BPHNXZ3 [BAM]))\n",
      "Data columns (total 8 columns):\n",
      " #   Column                  Non-Null Count  Dtype  \n",
      "---  ------                  --------------  -----  \n",
      " 0   AssetToEquityRatio      92424 non-null  float64\n",
      " 1   AssetTurnover           92424 non-null  float64\n",
      " 2   CurrentRatio            77666 non-null  float64\n",
      " 3   DebtToAssetRatio        92424 non-null  float64\n",
      " 4   DebtToEquityRatio       92424 non-null  float64\n",
      " 5   InterestCoverage        92424 non-null  float64\n",
      " 6   WorkingCapitalToAssets  77666 non-null  float64\n",
      " 7   WorkingCapitalToSales   77666 non-null  float64\n",
      "dtypes: float64(8)\n",
      "memory usage: 6.0+ MB\n"
     ]
    }
   ],
   "source": [
    "quality_result, t = factor_pipeline(QUALITY_FACTORS)\n",
    "print('Pipeline run time {:.2f} secs'.format(t))\n",
    "quality_result.info()"
   ]
  },
  {
   "cell_type": "markdown",
   "metadata": {},
   "source": [
    "### Payout"
   ]
  },
  {
   "cell_type": "code",
   "execution_count": 30,
   "metadata": {},
   "outputs": [],
   "source": [
    "class PayoutFactors:\n",
    "\n",
    "    @staticmethod\n",
    "    def DividendPayoutRatio(mask):\n",
    "        \"\"\"Dividends Per Share divided by Earnings Per Share\"\"\"\n",
    "\n",
    "        # dps = AnnualizedData(inputs = [Fundamentals.dividend_per_share_earnings_reports_asof_date,\n",
    "        #                                 Fundamentals.dividend_per_share_earnings_reports], mask=mask)  \n",
    "        \n",
    "        # eps = AnnualizedData(inputs = [Fundamentals.basic_eps_earnings_reports_asof_date,\n",
    "        #                                 Fundamentals.basic_eps_earnings_reports], mask=mask)\n",
    "        # return dps / eps\n",
    "        return art_fundamentals.DIVYIELD.latest / art_fundamentals.EPS.latest\n",
    "    \n",
    "    # @staticmethod\n",
    "    # def DividendGrowth(**kwargs):\n",
    "    #     \"\"\"Annualized percentage DPS change\"\"\"        \n",
    "    #     # return Fundamentals.dps_growth.latest    \n",
    "    #     return art_fundamentals.DIVGROWTH.latest"
   ]
  },
  {
   "cell_type": "code",
   "execution_count": 31,
   "metadata": {},
   "outputs": [],
   "source": [
    "PAYOUT_FACTORS = {\n",
    "    'Dividend Payout Ratio': PayoutFactors.DividendPayoutRatio,\n",
    "    # 'Dividend Growth': PayoutFactors.DividendGrowth\n",
    "}"
   ]
  },
  {
   "cell_type": "code",
   "execution_count": 32,
   "metadata": {},
   "outputs": [
    {
     "name": "stdout",
     "output_type": "stream",
     "text": [
      "Pipeline run time 33.98 secs\n",
      "<class 'pandas.core.frame.DataFrame'>\n",
      "MultiIndex: 92424 entries, (Timestamp('2023-07-20 00:00:00+0000', tz='UTC', freq='C'), Equity(FIBBG000C2V3D6 [A])) to (Timestamp('2023-09-20 00:00:00+0000', tz='UTC', freq='C'), Equity(FIBBG01BPHNXZ3 [BAM]))\n",
      "Data columns (total 1 columns):\n",
      " #   Column                 Non-Null Count  Dtype  \n",
      "---  ------                 --------------  -----  \n",
      " 0   Dividend Payout Ratio  92258 non-null  float64\n",
      "dtypes: float64(1)\n",
      "memory usage: 1.1+ MB\n"
     ]
    }
   ],
   "source": [
    "payout_result, t = factor_pipeline(PAYOUT_FACTORS)\n",
    "print('Pipeline run time {:.2f} secs'.format(t))\n",
    "payout_result.info()"
   ]
  },
  {
   "cell_type": "markdown",
   "metadata": {},
   "source": [
    "### Profitability"
   ]
  },
  {
   "cell_type": "code",
   "execution_count": 33,
   "metadata": {},
   "outputs": [],
   "source": [
    "class ProfitabilityFactors:\n",
    "    \n",
    "    @staticmethod\n",
    "    def GrossProfitMargin(mask):\n",
    "        \"\"\"Gross Profit divided by Net Sales\"\"\"\n",
    "\n",
    "        # gross_profit = AnnualizedData([Fundamentals.gross_profit_asof_date,\n",
    "        #                       Fundamentals.gross_profit], mask=mask)  \n",
    "        # sales = AnnualizedData([Fundamentals.total_revenue_asof_date,\n",
    "        #                         Fundamentals.total_revenue], mask=mask)\n",
    "        # return gross_profit / sales   \n",
    "        return art_fundamentals.GROSSMARGIN.latest\n",
    "    \n",
    "    @staticmethod\n",
    "    def NetIncomeMargin(mask):\n",
    "        \"\"\"Net income divided by Net Sales\"\"\"\n",
    "\n",
    "        # net_income = AnnualizedData([Fundamentals.net_income_income_statement_asof_date,\n",
    "        #                       Fundamentals.net_income_income_statement], mask=mask)  \n",
    "        # sales = AnnualizedData([Fundamentals.total_revenue_asof_date,\n",
    "        #                         Fundamentals.total_revenue], mask=mask)\n",
    "        # return net_income / sales   \n",
    "        return  art_fundamentals.NETMARGIN.latest"
   ]
  },
  {
   "cell_type": "code",
   "execution_count": 34,
   "metadata": {},
   "outputs": [],
   "source": [
    "PROFITABIILTY_FACTORS = {\n",
    "    'Gross Profit Margin': ProfitabilityFactors.GrossProfitMargin,\n",
    "    'Net Income Margin': ProfitabilityFactors.NetIncomeMargin,\n",
    "    'Return on Equity': art_fundamentals.ROE.latest,\n",
    "    'Return on Assets': art_fundamentals.ROA.latest,\n",
    "    'Return on Invested Capital': art_fundamentals.ROIC.latest\n",
    "}"
   ]
  },
  {
   "cell_type": "code",
   "execution_count": 35,
   "metadata": {},
   "outputs": [
    {
     "name": "stdout",
     "output_type": "stream",
     "text": [
      "Pipeline run time 31.37 secs\n",
      "<class 'pandas.core.frame.DataFrame'>\n",
      "MultiIndex: 92424 entries, (Timestamp('2023-07-20 00:00:00+0000', tz='UTC', freq='C'), Equity(FIBBG000C2V3D6 [A])) to (Timestamp('2023-09-20 00:00:00+0000', tz='UTC', freq='C'), Equity(FIBBG01BPHNXZ3 [BAM]))\n",
      "Data columns (total 1 columns):\n",
      " #   Column                 Non-Null Count  Dtype  \n",
      "---  ------                 --------------  -----  \n",
      " 0   Dividend Payout Ratio  92258 non-null  float64\n",
      "dtypes: float64(1)\n",
      "memory usage: 1.1+ MB\n"
     ]
    }
   ],
   "source": [
    "profitability_result, t = factor_pipeline(PAYOUT_FACTORS)\n",
    "print('Pipeline run time {:.2f} secs'.format(t))\n",
    "payout_result.info()"
   ]
  },
  {
   "cell_type": "code",
   "execution_count": 36,
   "metadata": {},
   "outputs": [],
   "source": [
    "# profitability_pipeline().show_graph(format='png')"
   ]
  },
  {
   "cell_type": "markdown",
   "metadata": {},
   "source": [
    "### Build Dataset"
   ]
  },
  {
   "cell_type": "markdown",
   "metadata": {},
   "source": [
    "#### Get Returns"
   ]
  },
  {
   "cell_type": "code",
   "execution_count": 37,
   "metadata": {},
   "outputs": [
    {
     "name": "stdout",
     "output_type": "stream",
     "text": [
      "<class 'pandas.core.frame.DataFrame'>\n",
      "MultiIndex: 92424 entries, (Timestamp('2023-07-20 00:00:00+0000', tz='UTC', freq='C'), Equity(FIBBG000C2V3D6 [A])) to (Timestamp('2023-09-20 00:00:00+0000', tz='UTC', freq='C'), Equity(FIBBG01BPHNXZ3 [BAM]))\n",
      "Data columns (total 4 columns):\n",
      " #   Column      Non-Null Count  Dtype  \n",
      "---  ------      --------------  -----  \n",
      " 0   Returns1D   92424 non-null  float64\n",
      " 1   Returns5D   92424 non-null  float64\n",
      " 2   Returns10D  92424 non-null  float64\n",
      " 3   Returns20D  92424 non-null  float64\n",
      "dtypes: float64(4)\n",
      "memory usage: 3.2+ MB\n"
     ]
    }
   ],
   "source": [
    "lookahead = [1, 5, 10, 20]\n",
    "returns = run_pipeline(Pipeline({'Returns{}D'.format(i): Returns(inputs=[EquityPricing.close], \n",
    "                                          window_length=i+1, mask=UNIVERSE) for i in lookahead},\n",
    "                                screen=UNIVERSE),\n",
    "                       start_date=START, \n",
    "                       end_date=END)\n",
    "return_cols = ['Returns{}D'.format(i) for i in lookahead]\n",
    "returns.info()"
   ]
  },
  {
   "cell_type": "code",
   "execution_count": 38,
   "metadata": {},
   "outputs": [],
   "source": [
    "data = pd.concat([returns,\n",
    "                 value_result,\n",
    "                 momentum_result,\n",
    "                 quality_result,\n",
    "                 payout_result,\n",
    "                 growth_result,\n",
    "                 efficiency_result,\n",
    "                 risk_result], axis=1).sort_index()\n",
    "data.index.names = ['date', 'asset']"
   ]
  },
  {
   "cell_type": "code",
   "execution_count": 39,
   "metadata": {},
   "outputs": [],
   "source": [
    "data['stock'] = data.index.get_level_values('asset').map(lambda x: x.asset_name)"
   ]
  },
  {
   "cell_type": "markdown",
   "metadata": {},
   "source": [
    "#### Remove columns and rows with less than 80% of data availability"
   ]
  },
  {
   "cell_type": "code",
   "execution_count": 40,
   "metadata": {},
   "outputs": [
    {
     "name": "stdout",
     "output_type": "stream",
     "text": [
      "44 rows and 0 columns dropped\n"
     ]
    },
    {
     "name": "stderr",
     "output_type": "stream",
     "text": [
      "/tmp/ipykernel_587293/3846887705.py:5: FutureWarning: Dropping of nuisance columns in DataFrame reductions (with 'numeric_only=None') is deprecated; in a future version this will raise TypeError.  Select only valid columns before calling the reduction.\n",
      "  data = data.fillna(data.median())\n"
     ]
    }
   ],
   "source": [
    "rows_before, cols_before = data.shape\n",
    "data = (data\n",
    "        .dropna(axis=1, thresh=int(len(data)*.8))\n",
    "        .dropna(thresh=int(len(data.columns) * .8)))\n",
    "data = data.fillna(data.median())\n",
    "rows_after, cols_after = data.shape\n",
    "print('{:,d} rows and {:,d} columns dropped'.format(rows_before-rows_after, cols_before-cols_after))"
   ]
  },
  {
   "cell_type": "code",
   "execution_count": 41,
   "metadata": {},
   "outputs": [
    {
     "name": "stderr",
     "output_type": "stream",
     "text": [
      "/tmp/ipykernel_587293/2628270095.py:1: FutureWarning: In a future version of pandas all arguments of DataFrame.sort_index will be keyword-only\n",
      "  data.sort_index(1).info()\n"
     ]
    },
    {
     "name": "stdout",
     "output_type": "stream",
     "text": [
      "<class 'pandas.core.frame.DataFrame'>\n",
      "MultiIndex: 92380 entries, (Timestamp('2023-07-20 00:00:00+0000', tz='UTC', freq='C'), Equity(FIBBG000C2V3D6 [A])) to (Timestamp('2023-09-20 00:00:00+0000', tz='UTC', freq='C'), Equity(FIBBG01BPHNXZ3 [BAM]))\n",
      "Data columns (total 53 columns):\n",
      " #   Column                       Non-Null Count  Dtype  \n",
      "---  ------                       --------------  -----  \n",
      " 0   AssetToEquityRatio           92380 non-null  float64\n",
      " 1   AssetTurnover                92380 non-null  float64\n",
      " 2   CFO To Assets                92380 non-null  float64\n",
      " 3   Capex To Assets              92380 non-null  float64\n",
      " 4   Capex To FCF                 92380 non-null  float64\n",
      " 5   Capex To Sales               92380 non-null  float64\n",
      " 6   CurrentRatio                 92380 non-null  float64\n",
      " 7   DebtToAssetRatio             92380 non-null  float64\n",
      " 8   DebtToEquityRatio            92380 non-null  float64\n",
      " 9   Directional Movement Index   92380 non-null  float64\n",
      " 10  Dividend Payout Ratio        92380 non-null  float64\n",
      " 11  DividendYield                92380 non-null  float64\n",
      " 12  Downside Risk                92380 non-null  float64\n",
      " 13  EBIT To Assets               92380 non-null  float64\n",
      " 14  EBITDAYield                  92380 non-null  float64\n",
      " 15  EPS                          92380 non-null  float64\n",
      " 16  EPS Growth 12M               92380 non-null  float64\n",
      " 17  EPS Growth 3M                92380 non-null  float64\n",
      " 18  EVToEBITDA                   92380 non-null  float64\n",
      " 19  EVToFCF                      92380 non-null  float64\n",
      " 20  Index Beta                   92380 non-null  float64\n",
      " 21  InterestCoverage             92380 non-null  float64\n",
      " 22  Log Market Cap               92380 non-null  float64\n",
      " 23  Money Flow Index             92380 non-null  float64\n",
      " 24  Net Debt                     92380 non-null  float64\n",
      " 25  Net Debt Growth 12M          92380 non-null  float64\n",
      " 26  Net Debt Growth 3M           92380 non-null  float64\n",
      " 27  Percent Above Low            92380 non-null  float64\n",
      " 28  Percent Below High           92380 non-null  float64\n",
      " 29  Price Oscillator             92380 non-null  float64\n",
      " 30  PriceToBook                  92380 non-null  float64\n",
      " 31  PriceToDilutedEarningsTTM    92380 non-null  float64\n",
      " 32  PriceToEarningsTTM           92380 non-null  float64\n",
      " 33  PriceToFCF                   92380 non-null  float64\n",
      " 34  PriceToOperatingCashflow     92380 non-null  float64\n",
      " 35  PriceToSalesTTM              92380 non-null  float64\n",
      " 36  RSI                          92380 non-null  float64\n",
      " 37  Retained Earnings To Assets  92380 non-null  float64\n",
      " 38  Returns10D                   92380 non-null  float64\n",
      " 39  Returns1D                    92380 non-null  float64\n",
      " 40  Returns20D                   92380 non-null  float64\n",
      " 41  Returns5D                    92380 non-null  float64\n",
      " 42  Sales                        92380 non-null  float64\n",
      " 43  Sales Growth 12M             92380 non-null  float64\n",
      " 44  Sales Growth 3M              92380 non-null  float64\n",
      " 45  Total Assets                 92380 non-null  float64\n",
      " 46  Total Assets Growth 12M      92380 non-null  float64\n",
      " 47  Total Assets Growth 3M       92380 non-null  float64\n",
      " 48  Trendline                    92380 non-null  float64\n",
      " 49  Volatility 3M                92380 non-null  float64\n",
      " 50  WorkingCapitalToAssets       92380 non-null  float64\n",
      " 51  WorkingCapitalToSales        92380 non-null  float64\n",
      " 52  stock                        92380 non-null  object \n",
      "dtypes: float64(52), object(1)\n",
      "memory usage: 37.7+ MB\n"
     ]
    }
   ],
   "source": [
    "data.sort_index(1).info()"
   ]
  },
  {
   "cell_type": "code",
   "execution_count": 42,
   "metadata": {},
   "outputs": [
    {
     "data": {
      "image/png": "[encoded data removed]",
      "text/plain": [
       "<Figure size 1008x1008 with 4 Axes>"
      ]
     },
     "metadata": {},
     "output_type": "display_data"
    }
   ],
   "source": [
    "g = sns.clustermap(data.drop(['stock'] + return_cols, axis=1).corr())\n",
    "plt.gcf().set_size_inches((14,14));"
   ]
  },
  {
   "cell_type": "markdown",
   "metadata": {},
   "source": [
    "#### Prepare Features"
   ]
  },
  {
   "cell_type": "code",
   "execution_count": 43,
   "metadata": {},
   "outputs": [
    {
     "name": "stdout",
     "output_type": "stream",
     "text": [
      "<class 'pandas.core.frame.DataFrame'>\n",
      "MultiIndex: 92380 entries, (Timestamp('2023-07-20 00:00:00+0000', tz='UTC', freq='C'), Equity(FIBBG000C2V3D6 [A])) to (Timestamp('2023-09-20 00:00:00+0000', tz='UTC', freq='C'), Equity(FIBBG01BPHNXZ3 [BAM]))\n",
      "Columns: 2222 entries, DividendYield to stock_ZURN WATER SOLUTIONS CORP\n",
      "dtypes: float64(48), uint8(2174)\n",
      "memory usage: 225.7+ MB\n"
     ]
    }
   ],
   "source": [
    "X = pd.get_dummies(data.drop(return_cols, axis=1), drop_first=True)\n",
    "X.info()"
   ]
  },
  {
   "cell_type": "markdown",
   "metadata": {},
   "source": [
    "#### Shifted Returns"
   ]
  },
  {
   "cell_type": "code",
   "execution_count": 44,
   "metadata": {
    "scrolled": true
   },
   "outputs": [
    {
     "name": "stdout",
     "output_type": "stream",
     "text": [
      "<class 'pandas.core.frame.DataFrame'>\n",
      "MultiIndex: 92380 entries, (Timestamp('2023-07-20 00:00:00+0000', tz='UTC', freq='C'), Equity(FIBBG000C2V3D6 [A])) to (Timestamp('2023-09-20 00:00:00+0000', tz='UTC', freq='C'), Equity(FIBBG01BPHNXZ3 [BAM]))\n",
      "Data columns (total 4 columns):\n",
      " #   Column      Non-Null Count  Dtype  \n",
      "---  ------      --------------  -----  \n",
      " 0   Returns1D   90205 non-null  float64\n",
      " 1   Returns5D   81530 non-null  float64\n",
      " 2   Returns10D  70746 non-null  float64\n",
      " 3   Returns20D  49508 non-null  float64\n",
      "dtypes: float64(4)\n",
      "memory usage: 3.2+ MB\n"
     ]
    }
   ],
   "source": [
    "y = data.loc[:, return_cols]\n",
    "shifted_y = []\n",
    "for col in y.columns:\n",
    "    t = int(re.search(r'\\d+', col).group(0))\n",
    "    # print(t)\n",
    "    shifted_y.append(y.groupby(level='asset')['Returns{}D'.format(t)].shift(-t).to_frame(col))\n",
    "y = pd.concat(shifted_y, axis=1)\n",
    "y.info()"
   ]
  },
  {
   "cell_type": "code",
   "execution_count": 45,
   "metadata": {},
   "outputs": [
    {
     "data": {
      "image/png": "[encoded data removed]",
      "text/plain": [
       "<Figure size 1152x432 with 1 Axes>"
      ]
     },
     "metadata": {},
     "output_type": "display_data"
    }
   ],
   "source": [
    "ax = sns.boxplot(data=y[return_cols])\n",
    "ax.set_title('Return Distriubtions');"
   ]
  },
  {
   "cell_type": "markdown",
   "metadata": {},
   "source": [
    "### Linear Regression"
   ]
  },
  {
   "cell_type": "markdown",
   "metadata": {},
   "source": [
    "#### Statsmodels"
   ]
  },
  {
   "cell_type": "code",
   "execution_count": null,
   "metadata": {},
   "outputs": [],
   "source": [
    "target = 'Returns1D'\n",
    "model_data = pd.concat([y[[target]], X], axis=1).dropna()\n",
    "model_data = model_data[model_data[target].between(model_data[target].quantile(.025), \n",
    "                                                   model_data[target].quantile(.975))]\n",
    "\n",
    "model = OLS(endog=model_data[target], exog=model_data.drop(target, axis=1))\n",
    "trained_model = model.fit()\n",
    "trained_model.summary()"
   ]
  },
  {
   "cell_type": "code",
   "execution_count": null,
   "metadata": {},
   "outputs": [],
   "source": [
    "target = 'Returns5D'\n",
    "model_data = pd.concat([y[[target]], X], axis=1).dropna()\n",
    "model_data = model_data[model_data[target].between(model_data[target].quantile(.025), \n",
    "                                                   model_data[target].quantile(.975))]\n",
    "\n",
    "model = OLS(endog=model_data[target], exog=model_data.drop(target, axis=1))\n",
    "trained_model = model.fit()\n",
    "trained_model.summary()"
   ]
  },
  {
   "cell_type": "code",
   "execution_count": null,
   "metadata": {},
   "outputs": [],
   "source": [
    "target = 'Returns10D'\n",
    "model_data = pd.concat([y[[target]], X], axis=1).dropna()\n",
    "model_data = model_data[model_data[target].between(model_data[target].quantile(.025), \n",
    "                                                   model_data[target].quantile(.975))]\n",
    "\n",
    "model = OLS(endog=model_data[target], exog=model_data.drop(target, axis=1))\n",
    "trained_model = model.fit()\n",
    "trained_model.summary()"
   ]
  },
  {
   "cell_type": "code",
   "execution_count": null,
   "metadata": {},
   "outputs": [],
   "source": [
    "target = 'Returns20D'\n",
    "model_data = pd.concat([y[[target]], X], axis=1).dropna()\n",
    "model_data = model_data[model_data[target].between(model_data[target].quantile(.025), \n",
    "                                                   model_data[target].quantile(.975))]\n",
    "\n",
    "model = OLS(endog=model_data[target], exog=model_data.drop(target, axis=1))\n",
    "trained_model = model.fit()\n",
    "trained_model.summary()"
   ]
  },
  {
   "cell_type": "markdown",
   "metadata": {},
   "source": [
    "#### sklearn"
   ]
  },
  {
   "cell_type": "code",
   "execution_count": 50,
   "metadata": {},
   "outputs": [],
   "source": [
    "def time_series_split(d, nfolds=5, min_train=21):\n",
    "    \"\"\"Generate train/test dates for nfolds \n",
    "    with at least min_train train obs\n",
    "    \"\"\"\n",
    "    train_dates = d[:min_train].tolist()\n",
    "    n = int(len(dates)/(nfolds + 1)) + 1\n",
    "    test_folds = [d[i:i + n] for i in range(min_train, len(d), n)]\n",
    "    for test_dates in test_folds:\n",
    "        if len(train_dates) > min_train:\n",
    "            yield train_dates, test_dates\n",
    "        train_dates.extend(test_dates)"
   ]
  },
  {
   "cell_type": "code",
   "execution_count": 51,
   "metadata": {},
   "outputs": [
    {
     "name": "stdout",
     "output_type": "stream",
     "text": [
      "<class 'pandas.core.frame.DataFrame'>\n",
      "DatetimeIndex: 69330 entries, 2023-07-20 00:00:00+00:00 to 2023-09-06 00:00:00+00:00\n",
      "Columns: 2223 entries, Returns10D to stock_ZURN WATER SOLUTIONS CORP\n",
      "dtypes: float64(49), uint8(2174)\n",
      "memory usage: 172.2 MB\n",
      "None\n"
     ]
    }
   ],
   "source": [
    "target = 'Returns10D'\n",
    "outliers = .01\n",
    "model_data = pd.concat([y[[target]], X], axis=1).dropna().reset_index('asset', drop=True)\n",
    "model_data = model_data[model_data[target].between(*model_data[target].quantile([outliers, 1-outliers]).values)] \n",
    "\n",
    "model_data[target] = np.log1p(model_data[target])\n",
    "features = model_data.drop(target, axis=1).columns\n",
    "dates = model_data.index.unique()\n",
    "\n",
    "print(model_data.info())"
   ]
  },
  {
   "cell_type": "code",
   "execution_count": 53,
   "metadata": {},
   "outputs": [
    {
     "data": {
      "text/plain": [
       "count    69330.000000\n",
       "mean        -0.018138\n",
       "std          0.063877\n",
       "min         -0.265142\n",
       "25%         -0.052484\n",
       "50%         -0.014508\n",
       "75%          0.019778\n",
       "max          0.175770\n",
       "Name: Returns10D, dtype: float64"
      ]
     },
     "execution_count": 53,
     "metadata": {},
     "output_type": "execute_result"
    }
   ],
   "source": [
    "model_data[target].describe()"
   ]
  },
  {
   "cell_type": "code",
   "execution_count": 54,
   "metadata": {},
   "outputs": [],
   "source": [
    "idx = pd.IndexSlice"
   ]
  },
  {
   "cell_type": "code",
   "execution_count": 56,
   "metadata": {},
   "outputs": [],
   "source": [
    "nfolds = 250\n",
    "lr = LinearRegression()\n",
    "\n",
    "test_results, result_idx, preds = [], [], pd.DataFrame()\n",
    "for train_dates, test_dates in time_series_split(dates, nfolds=nfolds):\n",
    "    \n",
    "    X_train = model_data.loc[idx[train_dates], features]\n",
    "    y_train = model_data.loc[idx[train_dates], target]\n",
    "    lr.fit(X=X_train, y=y_train)\n",
    "    \n",
    "    X_test = model_data.loc[idx[test_dates], features]\n",
    "    y_test = model_data.loc[idx[test_dates], target]\n",
    "    y_pred = lr.predict(X_test)\n",
    "    \n",
    "    rmse = np.sqrt(mean_squared_error(y_pred=y_pred, y_true=y_test))\n",
    "    ic, pval = spearmanr(y_pred, y_test)\n",
    "    \n",
    "    test_results.append([rmse, ic, pval])\n",
    "    preds = preds.append(y_test.to_frame('actuals').assign(predicted=y_pred))\n",
    "    result_idx.append(train_dates[-1])"
   ]
  },
  {
   "cell_type": "code",
   "execution_count": 57,
   "metadata": {},
   "outputs": [],
   "source": [
    "test_result = pd.DataFrame(test_results, columns=['rmse', 'ic', 'pval'], index=result_idx)"
   ]
  },
  {
   "cell_type": "code",
   "execution_count": 64,
   "metadata": {},
   "outputs": [
    {
     "data": {
      "image/png": "[encoded data removed]",
      "text/plain": [
       "<Figure size 1152x432 with 2 Axes>"
      ]
     },
     "metadata": {},
     "output_type": "display_data"
    }
   ],
   "source": [
    "fig, axes = plt.subplots(nrows=2)\n",
    "rolling_result = test_result.rolling(21).mean()\n",
    "rolling_result[['ic', 'pval']].plot(ax=axes[0], title='Information Coefficient')\n",
    "axes[0].axhline(test_result.ic.mean(), lw=1, ls='--', color='k')\n",
    "rolling_result[['rmse']].plot(ax=axes[1], title='Root Mean Squared Error')\n",
    "axes[1].axhline(test_result.rmse.mean(), lw=1, ls='--', color='k')\n",
    "plt.tight_layout();"
   ]
  },
  {
   "cell_type": "code",
   "execution_count": 68,
   "metadata": {},
   "outputs": [
    {
     "ename": "KeyboardInterrupt",
     "evalue": "",
     "output_type": "error",
     "traceback": [
      "\u001b[0;31m---------------------------------------------------------------------------\u001b[0m",
      "\u001b[0;31mKeyboardInterrupt\u001b[0m                         Traceback (most recent call last)",
      "\u001b[1;32m/codeload/Hands-On-Machine-Learning-for-Algorithmic-Trading/Chapter04/02_alpha_factor_library/factor_library_qr.ipynb Cell 78\u001b[0m line \u001b[0;36m<cell line: 2>\u001b[0;34m()\u001b[0m\n\u001b[1;32m      <a href='vscode-notebook-cell://attached-container%2B7b22636f6e7461696e65724e616d65223a222f7175616e74726f636b65742d6a7570797465722d31227d/codeload/Hands-On-Machine-Learning-for-Algorithmic-Trading/Chapter04/02_alpha_factor_library/factor_library_qr.ipynb#Y140sdnNjb2RlLXJlbW90ZQ%3D%3D?line=0'>1</a>\u001b[0m preds_cleaned \u001b[39m=\u001b[39m preds[(preds\u001b[39m.\u001b[39mpredicted\u001b[39m.\u001b[39mbetween(\u001b[39m*\u001b[39mpreds\u001b[39m.\u001b[39mpredicted\u001b[39m.\u001b[39mquantile([\u001b[39m.001\u001b[39m, \u001b[39m.999\u001b[39m])\u001b[39m.\u001b[39mvalues))]\n\u001b[0;32m----> <a href='vscode-notebook-cell://attached-container%2B7b22636f6e7461696e65724e616d65223a222f7175616e74726f636b65742d6a7570797465722d31227d/codeload/Hands-On-Machine-Learning-for-Algorithmic-Trading/Chapter04/02_alpha_factor_library/factor_library_qr.ipynb#Y140sdnNjb2RlLXJlbW90ZQ%3D%3D?line=1'>2</a>\u001b[0m g \u001b[39m=\u001b[39m sns\u001b[39m.\u001b[39;49mjointplot(x\u001b[39m=\u001b[39;49m\u001b[39m'\u001b[39;49m\u001b[39mactuals\u001b[39;49m\u001b[39m'\u001b[39;49m, y\u001b[39m=\u001b[39;49m\u001b[39m'\u001b[39;49m\u001b[39mpredicted\u001b[39;49m\u001b[39m'\u001b[39;49m, data\u001b[39m=\u001b[39;49mpreds_cleaned)\n\u001b[1;32m      <a href='vscode-notebook-cell://attached-container%2B7b22636f6e7461696e65724e616d65223a222f7175616e74726f636b65742d6a7570797465722d31227d/codeload/Hands-On-Machine-Learning-for-Algorithmic-Trading/Chapter04/02_alpha_factor_library/factor_library_qr.ipynb#Y140sdnNjb2RlLXJlbW90ZQ%3D%3D?line=3'>4</a>\u001b[0m \u001b[39m# Compute Spearman correlation\u001b[39;00m\n\u001b[1;32m      <a href='vscode-notebook-cell://attached-container%2B7b22636f6e7461696e65724e616d65223a222f7175616e74726f636b65742d6a7570797465722d31227d/codeload/Hands-On-Machine-Learning-for-Algorithmic-Trading/Chapter04/02_alpha_factor_library/factor_library_qr.ipynb#Y140sdnNjb2RlLXJlbW90ZQ%3D%3D?line=4'>5</a>\u001b[0m corr_value, _ \u001b[39m=\u001b[39m spearmanr(preds_cleaned[\u001b[39m'\u001b[39m\u001b[39mactuals\u001b[39m\u001b[39m'\u001b[39m], preds_cleaned[\u001b[39m'\u001b[39m\u001b[39mpredicted\u001b[39m\u001b[39m'\u001b[39m])\n",
      "File \u001b[0;32m/opt/conda/lib/python3.9/site-packages/seaborn/_decorators.py:46\u001b[0m, in \u001b[0;36m_deprecate_positional_args.<locals>.inner_f\u001b[0;34m(*args, **kwargs)\u001b[0m\n\u001b[1;32m     36\u001b[0m     warnings\u001b[39m.\u001b[39mwarn(\n\u001b[1;32m     37\u001b[0m         \u001b[39m\"\u001b[39m\u001b[39mPass the following variable\u001b[39m\u001b[39m{}\u001b[39;00m\u001b[39m as \u001b[39m\u001b[39m{}\u001b[39;00m\u001b[39mkeyword arg\u001b[39m\u001b[39m{}\u001b[39;00m\u001b[39m: \u001b[39m\u001b[39m{}\u001b[39;00m\u001b[39m. \u001b[39m\u001b[39m\"\u001b[39m\n\u001b[1;32m     38\u001b[0m         \u001b[39m\"\u001b[39m\u001b[39mFrom version 0.12, the only valid positional argument \u001b[39m\u001b[39m\"\u001b[39m\n\u001b[0;32m   (...)\u001b[0m\n\u001b[1;32m     43\u001b[0m         \u001b[39mFutureWarning\u001b[39;00m\n\u001b[1;32m     44\u001b[0m     )\n\u001b[1;32m     45\u001b[0m kwargs\u001b[39m.\u001b[39mupdate({k: arg \u001b[39mfor\u001b[39;00m k, arg \u001b[39min\u001b[39;00m \u001b[39mzip\u001b[39m(sig\u001b[39m.\u001b[39mparameters, args)})\n\u001b[0;32m---> 46\u001b[0m \u001b[39mreturn\u001b[39;00m f(\u001b[39m*\u001b[39;49m\u001b[39m*\u001b[39;49mkwargs)\n",
      "File \u001b[0;32m/opt/conda/lib/python3.9/site-packages/seaborn/axisgrid.py:2254\u001b[0m, in \u001b[0;36mjointplot\u001b[0;34m(x, y, data, kind, color, height, ratio, space, dropna, xlim, ylim, marginal_ticks, joint_kws, marginal_kws, hue, palette, hue_order, hue_norm, **kwargs)\u001b[0m\n\u001b[1;32m   2251\u001b[0m         marginal_kws\u001b[39m.\u001b[39msetdefault(\u001b[39m\"\u001b[39m\u001b[39mfill\u001b[39m\u001b[39m\"\u001b[39m, \u001b[39mTrue\u001b[39;00m)\n\u001b[1;32m   2253\u001b[0m     marginal_kws\u001b[39m.\u001b[39msetdefault(\u001b[39m\"\u001b[39m\u001b[39mcolor\u001b[39m\u001b[39m\"\u001b[39m, color)\n\u001b[0;32m-> 2254\u001b[0m     grid\u001b[39m.\u001b[39;49mplot_marginals(marg_func, \u001b[39m*\u001b[39;49m\u001b[39m*\u001b[39;49mmarginal_kws)\n\u001b[1;32m   2256\u001b[0m \u001b[39melif\u001b[39;00m kind\u001b[39m.\u001b[39mstartswith(\u001b[39m\"\u001b[39m\u001b[39mhist\u001b[39m\u001b[39m\"\u001b[39m):\n\u001b[1;32m   2257\u001b[0m \n\u001b[1;32m   2258\u001b[0m     \u001b[39m# TODO process pair parameters for bins, etc. and pass\u001b[39;00m\n\u001b[1;32m   2259\u001b[0m     \u001b[39m# to both jount and marginal plots\u001b[39;00m\n\u001b[1;32m   2261\u001b[0m     joint_kws\u001b[39m.\u001b[39msetdefault(\u001b[39m\"\u001b[39m\u001b[39mcolor\u001b[39m\u001b[39m\"\u001b[39m, color)\n",
      "File \u001b[0;32m/opt/conda/lib/python3.9/site-packages/seaborn/axisgrid.py:1857\u001b[0m, in \u001b[0;36mJointGrid.plot_marginals\u001b[0;34m(self, func, **kwargs)\u001b[0m\n\u001b[1;32m   1854\u001b[0m     orient_kw_y \u001b[39m=\u001b[39m {\u001b[39m\"\u001b[39m\u001b[39mvertical\u001b[39m\u001b[39m\"\u001b[39m: \u001b[39mTrue\u001b[39;00m}\n\u001b[1;32m   1856\u001b[0m \u001b[39mif\u001b[39;00m seaborn_func:\n\u001b[0;32m-> 1857\u001b[0m     func(x\u001b[39m=\u001b[39;49m\u001b[39mself\u001b[39;49m\u001b[39m.\u001b[39;49mx, ax\u001b[39m=\u001b[39;49m\u001b[39mself\u001b[39;49m\u001b[39m.\u001b[39;49max_marg_x, \u001b[39m*\u001b[39;49m\u001b[39m*\u001b[39;49mkwargs)\n\u001b[1;32m   1858\u001b[0m \u001b[39melse\u001b[39;00m:\n\u001b[1;32m   1859\u001b[0m     plt\u001b[39m.\u001b[39msca(\u001b[39mself\u001b[39m\u001b[39m.\u001b[39max_marg_x)\n",
      "File \u001b[0;32m/opt/conda/lib/python3.9/site-packages/seaborn/distributions.py:1462\u001b[0m, in \u001b[0;36mhistplot\u001b[0;34m(data, x, y, hue, weights, stat, bins, binwidth, binrange, discrete, cumulative, common_bins, common_norm, multiple, element, fill, shrink, kde, kde_kws, line_kws, thresh, pthresh, pmax, cbar, cbar_ax, cbar_kws, palette, hue_order, hue_norm, color, log_scale, legend, ax, **kwargs)\u001b[0m\n\u001b[1;32m   1451\u001b[0m estimate_kws \u001b[39m=\u001b[39m \u001b[39mdict\u001b[39m(\n\u001b[1;32m   1452\u001b[0m     stat\u001b[39m=\u001b[39mstat,\n\u001b[1;32m   1453\u001b[0m     bins\u001b[39m=\u001b[39mbins,\n\u001b[0;32m   (...)\u001b[0m\n\u001b[1;32m   1457\u001b[0m     cumulative\u001b[39m=\u001b[39mcumulative,\n\u001b[1;32m   1458\u001b[0m )\n\u001b[1;32m   1460\u001b[0m \u001b[39mif\u001b[39;00m p\u001b[39m.\u001b[39munivariate:\n\u001b[0;32m-> 1462\u001b[0m     p\u001b[39m.\u001b[39;49mplot_univariate_histogram(\n\u001b[1;32m   1463\u001b[0m         multiple\u001b[39m=\u001b[39;49mmultiple,\n\u001b[1;32m   1464\u001b[0m         element\u001b[39m=\u001b[39;49melement,\n\u001b[1;32m   1465\u001b[0m         fill\u001b[39m=\u001b[39;49mfill,\n\u001b[1;32m   1466\u001b[0m         shrink\u001b[39m=\u001b[39;49mshrink,\n\u001b[1;32m   1467\u001b[0m         common_norm\u001b[39m=\u001b[39;49mcommon_norm,\n\u001b[1;32m   1468\u001b[0m         common_bins\u001b[39m=\u001b[39;49mcommon_bins,\n\u001b[1;32m   1469\u001b[0m         kde\u001b[39m=\u001b[39;49mkde,\n\u001b[1;32m   1470\u001b[0m         kde_kws\u001b[39m=\u001b[39;49mkde_kws,\n\u001b[1;32m   1471\u001b[0m         color\u001b[39m=\u001b[39;49mcolor,\n\u001b[1;32m   1472\u001b[0m         legend\u001b[39m=\u001b[39;49mlegend,\n\u001b[1;32m   1473\u001b[0m         estimate_kws\u001b[39m=\u001b[39;49mestimate_kws,\n\u001b[1;32m   1474\u001b[0m         line_kws\u001b[39m=\u001b[39;49mline_kws,\n\u001b[1;32m   1475\u001b[0m         \u001b[39m*\u001b[39;49m\u001b[39m*\u001b[39;49mkwargs,\n\u001b[1;32m   1476\u001b[0m     )\n\u001b[1;32m   1478\u001b[0m \u001b[39melse\u001b[39;00m:\n\u001b[1;32m   1480\u001b[0m     p\u001b[39m.\u001b[39mplot_bivariate_histogram(\n\u001b[1;32m   1481\u001b[0m         common_bins\u001b[39m=\u001b[39mcommon_bins,\n\u001b[1;32m   1482\u001b[0m         common_norm\u001b[39m=\u001b[39mcommon_norm,\n\u001b[0;32m   (...)\u001b[0m\n\u001b[1;32m   1492\u001b[0m         \u001b[39m*\u001b[39m\u001b[39m*\u001b[39mkwargs,\n\u001b[1;32m   1493\u001b[0m     )\n",
      "File \u001b[0;32m/opt/conda/lib/python3.9/site-packages/seaborn/distributions.py:428\u001b[0m, in \u001b[0;36m_DistributionPlotter.plot_univariate_histogram\u001b[0;34m(self, multiple, element, fill, common_norm, common_bins, shrink, kde, kde_kws, color, legend, line_kws, estimate_kws, **plot_kws)\u001b[0m\n\u001b[1;32m    418\u001b[0m     densities \u001b[39m=\u001b[39m \u001b[39mself\u001b[39m\u001b[39m.\u001b[39m_compute_univariate_density(\n\u001b[1;32m    419\u001b[0m         \u001b[39mself\u001b[39m\u001b[39m.\u001b[39mdata_variable,\n\u001b[1;32m    420\u001b[0m         common_norm,\n\u001b[0;32m   (...)\u001b[0m\n\u001b[1;32m    424\u001b[0m         warn_singular\u001b[39m=\u001b[39m\u001b[39mFalse\u001b[39;00m,\n\u001b[1;32m    425\u001b[0m     )\n\u001b[1;32m    427\u001b[0m \u001b[39m# First pass through the data to compute the histograms\u001b[39;00m\n\u001b[0;32m--> 428\u001b[0m \u001b[39mfor\u001b[39;00m sub_vars, sub_data \u001b[39min\u001b[39;00m \u001b[39mself\u001b[39m\u001b[39m.\u001b[39miter_data(\u001b[39m\"\u001b[39m\u001b[39mhue\u001b[39m\u001b[39m\"\u001b[39m, from_comp_data\u001b[39m=\u001b[39m\u001b[39mTrue\u001b[39;00m):\n\u001b[1;32m    429\u001b[0m \n\u001b[1;32m    430\u001b[0m     \u001b[39m# Prepare the relevant data\u001b[39;00m\n\u001b[1;32m    431\u001b[0m     key \u001b[39m=\u001b[39m \u001b[39mtuple\u001b[39m(sub_vars\u001b[39m.\u001b[39mitems())\n\u001b[1;32m    432\u001b[0m     sub_data \u001b[39m=\u001b[39m sub_data\u001b[39m.\u001b[39mdropna()\n",
      "File \u001b[0;32m/opt/conda/lib/python3.9/site-packages/seaborn/_core.py:983\u001b[0m, in \u001b[0;36mVectorPlotter.iter_data\u001b[0;34m(self, grouping_vars, reverse, from_comp_data)\u001b[0m\n\u001b[1;32m    978\u001b[0m grouping_vars \u001b[39m=\u001b[39m [\n\u001b[1;32m    979\u001b[0m     var \u001b[39mfor\u001b[39;00m var \u001b[39min\u001b[39;00m grouping_vars \u001b[39mif\u001b[39;00m var \u001b[39min\u001b[39;00m \u001b[39mself\u001b[39m\u001b[39m.\u001b[39mvariables\n\u001b[1;32m    980\u001b[0m ]\n\u001b[1;32m    982\u001b[0m \u001b[39mif\u001b[39;00m from_comp_data:\n\u001b[0;32m--> 983\u001b[0m     data \u001b[39m=\u001b[39m \u001b[39mself\u001b[39;49m\u001b[39m.\u001b[39;49mcomp_data\n\u001b[1;32m    984\u001b[0m \u001b[39melse\u001b[39;00m:\n\u001b[1;32m    985\u001b[0m     data \u001b[39m=\u001b[39m \u001b[39mself\u001b[39m\u001b[39m.\u001b[39mplot_data\n",
      "File \u001b[0;32m/opt/conda/lib/python3.9/site-packages/seaborn/_core.py:1057\u001b[0m, in \u001b[0;36mVectorPlotter.comp_data\u001b[0;34m(self)\u001b[0m\n\u001b[1;32m   1055\u001b[0m     orig \u001b[39m=\u001b[39m \u001b[39mself\u001b[39m\u001b[39m.\u001b[39mplot_data[var]\u001b[39m.\u001b[39mdropna()\n\u001b[1;32m   1056\u001b[0m comp_col \u001b[39m=\u001b[39m pd\u001b[39m.\u001b[39mSeries(index\u001b[39m=\u001b[39morig\u001b[39m.\u001b[39mindex, dtype\u001b[39m=\u001b[39m\u001b[39mfloat\u001b[39m, name\u001b[39m=\u001b[39mvar)\n\u001b[0;32m-> 1057\u001b[0m comp_col\u001b[39m.\u001b[39;49mloc[orig\u001b[39m.\u001b[39;49mindex] \u001b[39m=\u001b[39m pd\u001b[39m.\u001b[39mto_numeric(axis\u001b[39m.\u001b[39mconvert_units(orig))\n\u001b[1;32m   1059\u001b[0m \u001b[39mif\u001b[39;00m axis\u001b[39m.\u001b[39mget_scale() \u001b[39m==\u001b[39m \u001b[39m\"\u001b[39m\u001b[39mlog\u001b[39m\u001b[39m\"\u001b[39m:\n\u001b[1;32m   1060\u001b[0m     comp_col \u001b[39m=\u001b[39m np\u001b[39m.\u001b[39mlog10(comp_col)\n",
      "File \u001b[0;32m/opt/conda/lib/python3.9/site-packages/pandas/core/indexing.py:723\u001b[0m, in \u001b[0;36m_LocationIndexer.__setitem__\u001b[0;34m(self, key, value)\u001b[0m\n\u001b[1;32m    720\u001b[0m \u001b[39mself\u001b[39m\u001b[39m.\u001b[39m_has_valid_setitem_indexer(key)\n\u001b[1;32m    722\u001b[0m iloc \u001b[39m=\u001b[39m \u001b[39mself\u001b[39m \u001b[39mif\u001b[39;00m \u001b[39mself\u001b[39m\u001b[39m.\u001b[39mname \u001b[39m==\u001b[39m \u001b[39m\"\u001b[39m\u001b[39miloc\u001b[39m\u001b[39m\"\u001b[39m \u001b[39melse\u001b[39;00m \u001b[39mself\u001b[39m\u001b[39m.\u001b[39mobj\u001b[39m.\u001b[39miloc\n\u001b[0;32m--> 723\u001b[0m iloc\u001b[39m.\u001b[39;49m_setitem_with_indexer(indexer, value, \u001b[39mself\u001b[39;49m\u001b[39m.\u001b[39;49mname)\n",
      "File \u001b[0;32m/opt/conda/lib/python3.9/site-packages/pandas/core/indexing.py:1732\u001b[0m, in \u001b[0;36m_iLocIndexer._setitem_with_indexer\u001b[0;34m(self, indexer, value, name)\u001b[0m\n\u001b[1;32m   1730\u001b[0m     \u001b[39mself\u001b[39m\u001b[39m.\u001b[39m_setitem_with_indexer_split_path(indexer, value, name)\n\u001b[1;32m   1731\u001b[0m \u001b[39melse\u001b[39;00m:\n\u001b[0;32m-> 1732\u001b[0m     \u001b[39mself\u001b[39;49m\u001b[39m.\u001b[39;49m_setitem_single_block(indexer, value, name)\n",
      "File \u001b[0;32m/opt/conda/lib/python3.9/site-packages/pandas/core/indexing.py:1959\u001b[0m, in \u001b[0;36m_iLocIndexer._setitem_single_block\u001b[0;34m(self, indexer, value, name)\u001b[0m\n\u001b[1;32m   1954\u001b[0m     indexer \u001b[39m=\u001b[39m maybe_convert_ix(\u001b[39m*\u001b[39mindexer)\n\u001b[1;32m   1955\u001b[0m \u001b[39mif\u001b[39;00m (\u001b[39misinstance\u001b[39m(value, ABCSeries) \u001b[39mand\u001b[39;00m name \u001b[39m!=\u001b[39m \u001b[39m\"\u001b[39m\u001b[39miloc\u001b[39m\u001b[39m\"\u001b[39m) \u001b[39mor\u001b[39;00m \u001b[39misinstance\u001b[39m(value, \u001b[39mdict\u001b[39m):\n\u001b[1;32m   1956\u001b[0m     \u001b[39m# TODO(EA): ExtensionBlock.setitem this causes issues with\u001b[39;00m\n\u001b[1;32m   1957\u001b[0m     \u001b[39m# setting for extensionarrays that store dicts. Need to decide\u001b[39;00m\n\u001b[1;32m   1958\u001b[0m     \u001b[39m# if it's worth supporting that.\u001b[39;00m\n\u001b[0;32m-> 1959\u001b[0m     value \u001b[39m=\u001b[39m \u001b[39mself\u001b[39;49m\u001b[39m.\u001b[39;49m_align_series(indexer, Series(value))\n\u001b[1;32m   1961\u001b[0m \u001b[39melif\u001b[39;00m \u001b[39misinstance\u001b[39m(value, ABCDataFrame) \u001b[39mand\u001b[39;00m name \u001b[39m!=\u001b[39m \u001b[39m\"\u001b[39m\u001b[39miloc\u001b[39m\u001b[39m\"\u001b[39m:\n\u001b[1;32m   1962\u001b[0m     value \u001b[39m=\u001b[39m \u001b[39mself\u001b[39m\u001b[39m.\u001b[39m_align_frame(indexer, value)\n",
      "File \u001b[0;32m/opt/conda/lib/python3.9/site-packages/pandas/core/indexing.py:2096\u001b[0m, in \u001b[0;36m_iLocIndexer._align_series\u001b[0;34m(self, indexer, ser, multiindex_indexer)\u001b[0m\n\u001b[1;32m   2093\u001b[0m \u001b[39m# we have a frame, with multiple indexers on both axes; and a\u001b[39;00m\n\u001b[1;32m   2094\u001b[0m \u001b[39m# series, so need to broadcast (see GH5206)\u001b[39;00m\n\u001b[1;32m   2095\u001b[0m \u001b[39mif\u001b[39;00m sum_aligners \u001b[39m==\u001b[39m \u001b[39mself\u001b[39m\u001b[39m.\u001b[39mndim \u001b[39mand\u001b[39;00m \u001b[39mall\u001b[39m(is_sequence(_) \u001b[39mfor\u001b[39;00m _ \u001b[39min\u001b[39;00m indexer):\n\u001b[0;32m-> 2096\u001b[0m     ser \u001b[39m=\u001b[39m ser\u001b[39m.\u001b[39;49mreindex(obj\u001b[39m.\u001b[39;49maxes[\u001b[39m0\u001b[39;49m][indexer[\u001b[39m0\u001b[39;49m]], copy\u001b[39m=\u001b[39;49m\u001b[39mTrue\u001b[39;49;00m)\u001b[39m.\u001b[39m_values\n\u001b[1;32m   2098\u001b[0m     \u001b[39m# single indexer\u001b[39;00m\n\u001b[1;32m   2099\u001b[0m     \u001b[39mif\u001b[39;00m \u001b[39mlen\u001b[39m(indexer) \u001b[39m>\u001b[39m \u001b[39m1\u001b[39m \u001b[39mand\u001b[39;00m \u001b[39mnot\u001b[39;00m multiindex_indexer:\n",
      "File \u001b[0;32m/opt/conda/lib/python3.9/site-packages/pandas/core/series.py:4580\u001b[0m, in \u001b[0;36mSeries.reindex\u001b[0;34m(self, index, **kwargs)\u001b[0m\n\u001b[1;32m   4572\u001b[0m \u001b[39m@doc\u001b[39m(\n\u001b[1;32m   4573\u001b[0m     NDFrame\u001b[39m.\u001b[39mreindex,  \u001b[39m# type: ignore[has-type]\u001b[39;00m\n\u001b[1;32m   4574\u001b[0m     klass\u001b[39m=\u001b[39m_shared_doc_kwargs[\u001b[39m\"\u001b[39m\u001b[39mklass\u001b[39m\u001b[39m\"\u001b[39m],\n\u001b[0;32m   (...)\u001b[0m\n\u001b[1;32m   4578\u001b[0m )\n\u001b[1;32m   4579\u001b[0m \u001b[39mdef\u001b[39;00m \u001b[39mreindex\u001b[39m(\u001b[39mself\u001b[39m, index\u001b[39m=\u001b[39m\u001b[39mNone\u001b[39;00m, \u001b[39m*\u001b[39m\u001b[39m*\u001b[39mkwargs):\n\u001b[0;32m-> 4580\u001b[0m     \u001b[39mreturn\u001b[39;00m \u001b[39msuper\u001b[39;49m()\u001b[39m.\u001b[39;49mreindex(index\u001b[39m=\u001b[39;49mindex, \u001b[39m*\u001b[39;49m\u001b[39m*\u001b[39;49mkwargs)\n",
      "File \u001b[0;32m/opt/conda/lib/python3.9/site-packages/pandas/core/generic.py:4818\u001b[0m, in \u001b[0;36mNDFrame.reindex\u001b[0;34m(self, *args, **kwargs)\u001b[0m\n\u001b[1;32m   4815\u001b[0m     \u001b[39mreturn\u001b[39;00m \u001b[39mself\u001b[39m\u001b[39m.\u001b[39m_reindex_multi(axes, copy, fill_value)\n\u001b[1;32m   4817\u001b[0m \u001b[39m# perform the reindex on the axes\u001b[39;00m\n\u001b[0;32m-> 4818\u001b[0m \u001b[39mreturn\u001b[39;00m \u001b[39mself\u001b[39;49m\u001b[39m.\u001b[39;49m_reindex_axes(\n\u001b[1;32m   4819\u001b[0m     axes, level, limit, tolerance, method, fill_value, copy\n\u001b[1;32m   4820\u001b[0m )\u001b[39m.\u001b[39m__finalize__(\u001b[39mself\u001b[39m, method\u001b[39m=\u001b[39m\u001b[39m\"\u001b[39m\u001b[39mreindex\u001b[39m\u001b[39m\"\u001b[39m)\n",
      "File \u001b[0;32m/opt/conda/lib/python3.9/site-packages/pandas/core/generic.py:4834\u001b[0m, in \u001b[0;36mNDFrame._reindex_axes\u001b[0;34m(self, axes, level, limit, tolerance, method, fill_value, copy)\u001b[0m\n\u001b[1;32m   4831\u001b[0m     \u001b[39mcontinue\u001b[39;00m\n\u001b[1;32m   4833\u001b[0m ax \u001b[39m=\u001b[39m \u001b[39mself\u001b[39m\u001b[39m.\u001b[39m_get_axis(a)\n\u001b[0;32m-> 4834\u001b[0m new_index, indexer \u001b[39m=\u001b[39m ax\u001b[39m.\u001b[39;49mreindex(\n\u001b[1;32m   4835\u001b[0m     labels, level\u001b[39m=\u001b[39;49mlevel, limit\u001b[39m=\u001b[39;49mlimit, tolerance\u001b[39m=\u001b[39;49mtolerance, method\u001b[39m=\u001b[39;49mmethod\n\u001b[1;32m   4836\u001b[0m )\n\u001b[1;32m   4838\u001b[0m axis \u001b[39m=\u001b[39m \u001b[39mself\u001b[39m\u001b[39m.\u001b[39m_get_axis_number(a)\n\u001b[1;32m   4839\u001b[0m obj \u001b[39m=\u001b[39m obj\u001b[39m.\u001b[39m_reindex_with_indexers(\n\u001b[1;32m   4840\u001b[0m     {axis: [new_index, indexer]},\n\u001b[1;32m   4841\u001b[0m     fill_value\u001b[39m=\u001b[39mfill_value,\n\u001b[1;32m   4842\u001b[0m     copy\u001b[39m=\u001b[39mcopy,\n\u001b[1;32m   4843\u001b[0m     allow_dups\u001b[39m=\u001b[39m\u001b[39mFalse\u001b[39;00m,\n\u001b[1;32m   4844\u001b[0m )\n",
      "File \u001b[0;32m/opt/conda/lib/python3.9/site-packages/pandas/core/indexes/base.py:3834\u001b[0m, in \u001b[0;36mIndex.reindex\u001b[0;34m(self, target, method, level, limit, tolerance)\u001b[0m\n\u001b[1;32m   3829\u001b[0m             \u001b[39mif\u001b[39;00m method \u001b[39mis\u001b[39;00m \u001b[39mnot\u001b[39;00m \u001b[39mNone\u001b[39;00m \u001b[39mor\u001b[39;00m limit \u001b[39mis\u001b[39;00m \u001b[39mnot\u001b[39;00m \u001b[39mNone\u001b[39;00m:\n\u001b[1;32m   3830\u001b[0m                 \u001b[39mraise\u001b[39;00m \u001b[39mValueError\u001b[39;00m(\n\u001b[1;32m   3831\u001b[0m                     \u001b[39m\"\u001b[39m\u001b[39mcannot reindex a non-unique index \u001b[39m\u001b[39m\"\u001b[39m\n\u001b[1;32m   3832\u001b[0m                     \u001b[39m\"\u001b[39m\u001b[39mwith a method or limit\u001b[39m\u001b[39m\"\u001b[39m\n\u001b[1;32m   3833\u001b[0m                 )\n\u001b[0;32m-> 3834\u001b[0m             indexer, _ \u001b[39m=\u001b[39m \u001b[39mself\u001b[39;49m\u001b[39m.\u001b[39;49mget_indexer_non_unique(target)\n\u001b[1;32m   3836\u001b[0m \u001b[39mif\u001b[39;00m preserve_names \u001b[39mand\u001b[39;00m target\u001b[39m.\u001b[39mnlevels \u001b[39m==\u001b[39m \u001b[39m1\u001b[39m \u001b[39mand\u001b[39;00m target\u001b[39m.\u001b[39mname \u001b[39m!=\u001b[39m \u001b[39mself\u001b[39m\u001b[39m.\u001b[39mname:\n\u001b[1;32m   3837\u001b[0m     target \u001b[39m=\u001b[39m target\u001b[39m.\u001b[39mcopy()\n",
      "File \u001b[0;32m/opt/conda/lib/python3.9/site-packages/pandas/core/indexes/base.py:5258\u001b[0m, in \u001b[0;36mIndex.get_indexer_non_unique\u001b[0;34m(self, target)\u001b[0m\n\u001b[1;32m   5254\u001b[0m     \u001b[39mreturn\u001b[39;00m this\u001b[39m.\u001b[39mget_indexer_non_unique(that)\n\u001b[1;32m   5256\u001b[0m tgt_values \u001b[39m=\u001b[39m target\u001b[39m.\u001b[39m_get_engine_target()\n\u001b[0;32m-> 5258\u001b[0m indexer, missing \u001b[39m=\u001b[39m \u001b[39mself\u001b[39;49m\u001b[39m.\u001b[39;49m_engine\u001b[39m.\u001b[39;49mget_indexer_non_unique(tgt_values)\n\u001b[1;32m   5259\u001b[0m \u001b[39mreturn\u001b[39;00m ensure_platform_int(indexer), ensure_platform_int(missing)\n",
      "File \u001b[0;32m/opt/conda/lib/python3.9/site-packages/pandas/_libs/index.pyx:466\u001b[0m, in \u001b[0;36mpandas._libs.index.DatetimeEngine.get_indexer_non_unique\u001b[0;34m()\u001b[0m\n",
      "File \u001b[0;32m/opt/conda/lib/python3.9/site-packages/pandas/_libs/index.pyx:341\u001b[0m, in \u001b[0;36mpandas._libs.index.IndexEngine.get_indexer_non_unique\u001b[0;34m()\u001b[0m\n",
      "File \u001b[0;32m<__array_function__ internals>:5\u001b[0m, in \u001b[0;36mresize\u001b[0;34m(*args, **kwargs)\u001b[0m\n",
      "File \u001b[0;32m/opt/conda/lib/python3.9/site-packages/numpy/core/fromnumeric.py:1432\u001b[0m, in \u001b[0;36mresize\u001b[0;34m(a, new_shape)\u001b[0m\n\u001b[1;32m   1429\u001b[0m     \u001b[39mreturn\u001b[39;00m np\u001b[39m.\u001b[39mzeros_like(a, shape\u001b[39m=\u001b[39mnew_shape)\n\u001b[1;32m   1431\u001b[0m repeats \u001b[39m=\u001b[39m \u001b[39m-\u001b[39m(\u001b[39m-\u001b[39mnew_size \u001b[39m/\u001b[39m\u001b[39m/\u001b[39m a\u001b[39m.\u001b[39msize)  \u001b[39m# ceil division\u001b[39;00m\n\u001b[0;32m-> 1432\u001b[0m a \u001b[39m=\u001b[39m concatenate((a,) \u001b[39m*\u001b[39;49m repeats)[:new_size]\n\u001b[1;32m   1434\u001b[0m \u001b[39mreturn\u001b[39;00m reshape(a, new_shape)\n",
      "File \u001b[0;32m<__array_function__ internals>:5\u001b[0m, in \u001b[0;36mconcatenate\u001b[0;34m(*args, **kwargs)\u001b[0m\n",
      "\u001b[0;31mKeyboardInterrupt\u001b[0m: "
     ]
    },
    {
     "data": {
      "image/png": "[encoded data removed]",
      "text/plain": [
       "<Figure size 432x432 with 3 Axes>"
      ]
     },
     "metadata": {},
     "output_type": "display_data"
    }
   ],
   "source": [
    "preds_cleaned = preds[(preds.predicted.between(*preds.predicted.quantile([.001, .999]).values))]\n",
    "g = sns.jointplot(x='actuals', y='predicted', data=preds_cleaned)\n",
    "\n",
    "# Compute Spearman correlation\n",
    "corr_value, _ = spearmanr(preds_cleaned['actuals'], preds_cleaned['predicted'])\n",
    "\n",
    "# Annotate the figure with the computed Spearman correlation\n",
    "g.ax_joint.annotate(f\"Spearman: {corr_value:.2f}\", \n",
    "                    xy=(0.1, 0.9), \n",
    "                    xycoords='axes fraction', \n",
    "                    fontsize=12)\n",
    "\n",
    "plt.show()\n",
    "# sns.jointplot(x='actuals', y='predicted', data=preds_cleaned, stat_func=spearmanr);"
   ]
  },
  {
   "cell_type": "markdown",
   "metadata": {},
   "source": [
    "### Ridge Regression: Regularization"
   ]
  },
  {
   "cell_type": "code",
   "execution_count": 69,
   "metadata": {},
   "outputs": [
    {
     "name": "stderr",
     "output_type": "stream",
     "text": [
      "/opt/conda/lib/python3.9/site-packages/sklearn/linear_model/_ridge.py:157: LinAlgWarning: Ill-conditioned matrix (rcond=4.40677e-17): result may not be accurate.\n",
      "  return linalg.solve(A, Xy, sym_pos=True, overwrite_a=True).T\n",
      "/opt/conda/lib/python3.9/site-packages/sklearn/linear_model/_ridge.py:157: LinAlgWarning: Ill-conditioned matrix (rcond=4.21206e-17): result may not be accurate.\n",
      "  return linalg.solve(A, Xy, sym_pos=True, overwrite_a=True).T\n",
      "/opt/conda/lib/python3.9/site-packages/sklearn/linear_model/_ridge.py:157: LinAlgWarning: Ill-conditioned matrix (rcond=4.03321e-17): result may not be accurate.\n",
      "  return linalg.solve(A, Xy, sym_pos=True, overwrite_a=True).T\n",
      "/opt/conda/lib/python3.9/site-packages/sklearn/linear_model/_ridge.py:157: LinAlgWarning: Ill-conditioned matrix (rcond=3.86939e-17): result may not be accurate.\n",
      "  return linalg.solve(A, Xy, sym_pos=True, overwrite_a=True).T\n",
      "/opt/conda/lib/python3.9/site-packages/sklearn/linear_model/_ridge.py:157: LinAlgWarning: Ill-conditioned matrix (rcond=3.71777e-17): result may not be accurate.\n",
      "  return linalg.solve(A, Xy, sym_pos=True, overwrite_a=True).T\n",
      "/opt/conda/lib/python3.9/site-packages/sklearn/linear_model/_ridge.py:157: LinAlgWarning: Ill-conditioned matrix (rcond=3.57757e-17): result may not be accurate.\n",
      "  return linalg.solve(A, Xy, sym_pos=True, overwrite_a=True).T\n",
      "/opt/conda/lib/python3.9/site-packages/sklearn/linear_model/_ridge.py:157: LinAlgWarning: Ill-conditioned matrix (rcond=3.44809e-17): result may not be accurate.\n",
      "  return linalg.solve(A, Xy, sym_pos=True, overwrite_a=True).T\n",
      "/opt/conda/lib/python3.9/site-packages/sklearn/linear_model/_ridge.py:157: LinAlgWarning: Ill-conditioned matrix (rcond=3.32692e-17): result may not be accurate.\n",
      "  return linalg.solve(A, Xy, sym_pos=True, overwrite_a=True).T\n",
      "/opt/conda/lib/python3.9/site-packages/sklearn/linear_model/_ridge.py:157: LinAlgWarning: Ill-conditioned matrix (rcond=3.20872e-17): result may not be accurate.\n",
      "  return linalg.solve(A, Xy, sym_pos=True, overwrite_a=True).T\n",
      "/opt/conda/lib/python3.9/site-packages/sklearn/linear_model/_ridge.py:157: LinAlgWarning: Ill-conditioned matrix (rcond=3.10139e-17): result may not be accurate.\n",
      "  return linalg.solve(A, Xy, sym_pos=True, overwrite_a=True).T\n",
      "/opt/conda/lib/python3.9/site-packages/sklearn/linear_model/_ridge.py:157: LinAlgWarning: Ill-conditioned matrix (rcond=3.00112e-17): result may not be accurate.\n",
      "  return linalg.solve(A, Xy, sym_pos=True, overwrite_a=True).T\n",
      "/opt/conda/lib/python3.9/site-packages/sklearn/linear_model/_ridge.py:157: LinAlgWarning: Ill-conditioned matrix (rcond=2.90765e-17): result may not be accurate.\n",
      "  return linalg.solve(A, Xy, sym_pos=True, overwrite_a=True).T\n"
     ]
    },
    {
     "ename": "KeyboardInterrupt",
     "evalue": "",
     "output_type": "error",
     "traceback": [
      "\u001b[0;31m---------------------------------------------------------------------------\u001b[0m",
      "\u001b[0;31mKeyboardInterrupt\u001b[0m                         Traceback (most recent call last)",
      "\u001b[1;32m/codeload/Hands-On-Machine-Learning-for-Algorithmic-Trading/Chapter04/02_alpha_factor_library/factor_library_qr.ipynb Cell 80\u001b[0m line \u001b[0;36m<cell line: 6>\u001b[0;34m()\u001b[0m\n\u001b[1;32m     <a href='vscode-notebook-cell://attached-container%2B7b22636f6e7461696e65724e616d65223a222f7175616e74726f636b65742d6a7570797465722d31227d/codeload/Hands-On-Machine-Learning-for-Algorithmic-Trading/Chapter04/02_alpha_factor_library/factor_library_qr.ipynb#Y142sdnNjb2RlLXJlbW90ZQ%3D%3D?line=10'>11</a>\u001b[0m X_train \u001b[39m=\u001b[39m model_data\u001b[39m.\u001b[39mloc[idx[train_dates], features]\n\u001b[1;32m     <a href='vscode-notebook-cell://attached-container%2B7b22636f6e7461696e65724e616d65223a222f7175616e74726f636b65742d6a7570797465722d31227d/codeload/Hands-On-Machine-Learning-for-Algorithmic-Trading/Chapter04/02_alpha_factor_library/factor_library_qr.ipynb#Y142sdnNjb2RlLXJlbW90ZQ%3D%3D?line=11'>12</a>\u001b[0m y_train \u001b[39m=\u001b[39m model_data\u001b[39m.\u001b[39mloc[idx[train_dates], target]\n\u001b[0;32m---> <a href='vscode-notebook-cell://attached-container%2B7b22636f6e7461696e65724e616d65223a222f7175616e74726f636b65742d6a7570797465722d31227d/codeload/Hands-On-Machine-Learning-for-Algorithmic-Trading/Chapter04/02_alpha_factor_library/factor_library_qr.ipynb#Y142sdnNjb2RlLXJlbW90ZQ%3D%3D?line=12'>13</a>\u001b[0m lr_ridge\u001b[39m.\u001b[39mfit(X\u001b[39m=\u001b[39mscaler\u001b[39m.\u001b[39;49mfit_transform(X_train), y\u001b[39m=\u001b[39my_train)\n\u001b[1;32m     <a href='vscode-notebook-cell://attached-container%2B7b22636f6e7461696e65724e616d65223a222f7175616e74726f636b65742d6a7570797465722d31227d/codeload/Hands-On-Machine-Learning-for-Algorithmic-Trading/Chapter04/02_alpha_factor_library/factor_library_qr.ipynb#Y142sdnNjb2RlLXJlbW90ZQ%3D%3D?line=14'>15</a>\u001b[0m X_test \u001b[39m=\u001b[39m model_data\u001b[39m.\u001b[39mloc[idx[test_dates], features]\n\u001b[1;32m     <a href='vscode-notebook-cell://attached-container%2B7b22636f6e7461696e65724e616d65223a222f7175616e74726f636b65742d6a7570797465722d31227d/codeload/Hands-On-Machine-Learning-for-Algorithmic-Trading/Chapter04/02_alpha_factor_library/factor_library_qr.ipynb#Y142sdnNjb2RlLXJlbW90ZQ%3D%3D?line=15'>16</a>\u001b[0m y_test \u001b[39m=\u001b[39m model_data\u001b[39m.\u001b[39mloc[idx[test_dates], target]\n",
      "File \u001b[0;32m/opt/conda/lib/python3.9/site-packages/sklearn/base.py:852\u001b[0m, in \u001b[0;36mTransformerMixin.fit_transform\u001b[0;34m(self, X, y, **fit_params)\u001b[0m\n\u001b[1;32m    848\u001b[0m \u001b[39m# non-optimized default implementation; override when a better\u001b[39;00m\n\u001b[1;32m    849\u001b[0m \u001b[39m# method is possible for a given clustering algorithm\u001b[39;00m\n\u001b[1;32m    850\u001b[0m \u001b[39mif\u001b[39;00m y \u001b[39mis\u001b[39;00m \u001b[39mNone\u001b[39;00m:\n\u001b[1;32m    851\u001b[0m     \u001b[39m# fit method of arity 1 (unsupervised transformation)\u001b[39;00m\n\u001b[0;32m--> 852\u001b[0m     \u001b[39mreturn\u001b[39;00m \u001b[39mself\u001b[39;49m\u001b[39m.\u001b[39;49mfit(X, \u001b[39m*\u001b[39;49m\u001b[39m*\u001b[39;49mfit_params)\u001b[39m.\u001b[39mtransform(X)\n\u001b[1;32m    853\u001b[0m \u001b[39melse\u001b[39;00m:\n\u001b[1;32m    854\u001b[0m     \u001b[39m# fit method of arity 2 (supervised transformation)\u001b[39;00m\n\u001b[1;32m    855\u001b[0m     \u001b[39mreturn\u001b[39;00m \u001b[39mself\u001b[39m\u001b[39m.\u001b[39mfit(X, y, \u001b[39m*\u001b[39m\u001b[39m*\u001b[39mfit_params)\u001b[39m.\u001b[39mtransform(X)\n",
      "File \u001b[0;32m/opt/conda/lib/python3.9/site-packages/sklearn/preprocessing/_data.py:806\u001b[0m, in \u001b[0;36mStandardScaler.fit\u001b[0;34m(self, X, y, sample_weight)\u001b[0m\n\u001b[1;32m    804\u001b[0m \u001b[39m# Reset internal state before fitting\u001b[39;00m\n\u001b[1;32m    805\u001b[0m \u001b[39mself\u001b[39m\u001b[39m.\u001b[39m_reset()\n\u001b[0;32m--> 806\u001b[0m \u001b[39mreturn\u001b[39;00m \u001b[39mself\u001b[39;49m\u001b[39m.\u001b[39;49mpartial_fit(X, y, sample_weight)\n",
      "File \u001b[0;32m/opt/conda/lib/python3.9/site-packages/sklearn/preprocessing/_data.py:927\u001b[0m, in \u001b[0;36mStandardScaler.partial_fit\u001b[0;34m(self, X, y, sample_weight)\u001b[0m\n\u001b[1;32m    924\u001b[0m         \u001b[39mself\u001b[39m\u001b[39m.\u001b[39mn_samples_seen_ \u001b[39m+\u001b[39m\u001b[39m=\u001b[39m X\u001b[39m.\u001b[39mshape[\u001b[39m0\u001b[39m] \u001b[39m-\u001b[39m np\u001b[39m.\u001b[39misnan(X)\u001b[39m.\u001b[39msum(axis\u001b[39m=\u001b[39m\u001b[39m0\u001b[39m)\n\u001b[1;32m    926\u001b[0m     \u001b[39melse\u001b[39;00m:\n\u001b[0;32m--> 927\u001b[0m         \u001b[39mself\u001b[39m\u001b[39m.\u001b[39mmean_, \u001b[39mself\u001b[39m\u001b[39m.\u001b[39mvar_, \u001b[39mself\u001b[39m\u001b[39m.\u001b[39mn_samples_seen_ \u001b[39m=\u001b[39m _incremental_mean_and_var(\n\u001b[1;32m    928\u001b[0m             X,\n\u001b[1;32m    929\u001b[0m             \u001b[39mself\u001b[39;49m\u001b[39m.\u001b[39;49mmean_,\n\u001b[1;32m    930\u001b[0m             \u001b[39mself\u001b[39;49m\u001b[39m.\u001b[39;49mvar_,\n\u001b[1;32m    931\u001b[0m             \u001b[39mself\u001b[39;49m\u001b[39m.\u001b[39;49mn_samples_seen_,\n\u001b[1;32m    932\u001b[0m             sample_weight\u001b[39m=\u001b[39;49msample_weight,\n\u001b[1;32m    933\u001b[0m         )\n\u001b[1;32m    935\u001b[0m \u001b[39m# for backward-compatibility, reduce n_samples_seen_ to an integer\u001b[39;00m\n\u001b[1;32m    936\u001b[0m \u001b[39m# if the number of samples is the same for each feature (i.e. no\u001b[39;00m\n\u001b[1;32m    937\u001b[0m \u001b[39m# missing values)\u001b[39;00m\n\u001b[1;32m    938\u001b[0m \u001b[39mif\u001b[39;00m np\u001b[39m.\u001b[39mptp(\u001b[39mself\u001b[39m\u001b[39m.\u001b[39mn_samples_seen_) \u001b[39m==\u001b[39m \u001b[39m0\u001b[39m:\n",
      "File \u001b[0;32m/opt/conda/lib/python3.9/site-packages/sklearn/utils/extmath.py:991\u001b[0m, in \u001b[0;36m_incremental_mean_and_var\u001b[0;34m(X, last_mean, last_variance, last_sample_count, sample_weight)\u001b[0m\n\u001b[1;32m    989\u001b[0m \u001b[39melse\u001b[39;00m:\n\u001b[1;32m    990\u001b[0m     T \u001b[39m=\u001b[39m new_sum \u001b[39m/\u001b[39m new_sample_count\n\u001b[0;32m--> 991\u001b[0m     temp \u001b[39m=\u001b[39m X \u001b[39m-\u001b[39;49m T\n\u001b[1;32m    992\u001b[0m     \u001b[39mif\u001b[39;00m sample_weight \u001b[39mis\u001b[39;00m \u001b[39mnot\u001b[39;00m \u001b[39mNone\u001b[39;00m:\n\u001b[1;32m    993\u001b[0m         \u001b[39mif\u001b[39;00m np_version \u001b[39m>\u001b[39m\u001b[39m=\u001b[39m parse_version(\u001b[39m\"\u001b[39m\u001b[39m1.16.6\u001b[39m\u001b[39m\"\u001b[39m):\n\u001b[1;32m    994\u001b[0m             \u001b[39m# equivalent to np.nansum((X-T)**2 * sample_weight, axis=0)\u001b[39;00m\n\u001b[1;32m    995\u001b[0m             \u001b[39m# safer because np.float64(X*W) != np.float64(X)*np.float64(W)\u001b[39;00m\n\u001b[1;32m    996\u001b[0m             \u001b[39m# dtype arg of np.matmul only exists since version 1.16\u001b[39;00m\n",
      "\u001b[0;31mKeyboardInterrupt\u001b[0m: "
     ]
    }
   ],
   "source": [
    "nfolds = 250\n",
    "alphas = np.logspace(-10, 10, 21)\n",
    "scaler = StandardScaler()\n",
    "\n",
    "result = pd.DataFrame()\n",
    "for alpha in alphas:\n",
    "    test_results = []\n",
    "    lr_ridge = Ridge(alpha=alpha)\n",
    "    for train_dates, test_dates in time_series_split(dates, nfolds=nfolds):\n",
    "\n",
    "        X_train = model_data.loc[idx[train_dates], features]\n",
    "        y_train = model_data.loc[idx[train_dates], target]\n",
    "        lr_ridge.fit(X=scaler.fit_transform(X_train), y=y_train)\n",
    "\n",
    "        X_test = model_data.loc[idx[test_dates], features]\n",
    "        y_test = model_data.loc[idx[test_dates], target]\n",
    "        y_pred = lr_ridge.predict(scaler.transform(X_test))\n",
    "\n",
    "        rmse = np.sqrt(mean_squared_error(y_pred=y_pred, y_true=y_test))\n",
    "        ic, pval = spearmanr(y_pred, y_test)\n",
    "        \n",
    "        test_results.append([train_dates[-1], rmse, ic, pval, alpha])\n",
    "    result = result.append(pd.DataFrame(test_results, columns=['date', 'rmse', 'ic', 'pval', 'alpha']))"
   ]
  },
  {
   "cell_type": "code",
   "execution_count": null,
   "metadata": {},
   "outputs": [],
   "source": [
    "result.describe()"
   ]
  },
  {
   "cell_type": "code",
   "execution_count": null,
   "metadata": {},
   "outputs": [],
   "source": [
    "result.groupby('alpha').mean()"
   ]
  },
  {
   "cell_type": "code",
   "execution_count": null,
   "metadata": {},
   "outputs": [],
   "source": [
    "sns.boxplot(y='ic', x='alpha', data=result);"
   ]
  },
  {
   "cell_type": "code",
   "execution_count": null,
   "metadata": {},
   "outputs": [],
   "source": [
    "ax = result.groupby('alpha')['ic', 'rmse'].mean().plot(logx=True)\n",
    "ax.axhline(test_result.ic.mean())\n",
    "ax.axhline(test_result.rmse.mean());"
   ]
  },
  {
   "cell_type": "code",
   "execution_count": null,
   "metadata": {},
   "outputs": [],
   "source": [
    "nfolds = 250\n",
    "alphas = np.logspace(-5, 5, 11)\n",
    "scaler = StandardScaler()\n",
    "\n",
    "result2 = pd.DataFrame()\n",
    "for alpha in alphas:\n",
    "    test_results = []\n",
    "    print(alpha)\n",
    "    lr_lasso = Lasso(alpha=alpha)\n",
    "    for i, (train_dates, test_dates) in enumerate(time_series_split(dates, nfolds=nfolds)):\n",
    "        if i % 50 == 0:\n",
    "            print('\\t{}'.format(i))\n",
    "\n",
    "        X_train = model_data.loc[idx[train_dates], features]\n",
    "        y_train = model_data.loc[idx[train_dates], target]\n",
    "        lr_lasso.fit(X=scaler.fit_transform(X_train), y=y_train)\n",
    "\n",
    "        X_test = model_data.loc[idx[test_dates], features]\n",
    "        y_test = model_data.loc[idx[test_dates], target]\n",
    "        y_pred = lr_lasso.predict(scaler.transform(X_test))\n",
    "\n",
    "#         mse = mean_squared_error(y_pred=y_pred, y_true=y_test)\n",
    "        rmse = np.sqrt(np.sum((y_test-y_pred)**2))\n",
    "        ic, pval = spearmanr(y_pred, y_test)\n",
    "        \n",
    "        test_results.append([train_dates[-1], rmse, ic, pval, alpha])\n",
    "    result2 = result2.append(pd.DataFrame(test_results, columns=['date', 'rmse', 'ic', 'pval', 'alpha']))"
   ]
  },
  {
   "cell_type": "code",
   "execution_count": null,
   "metadata": {},
   "outputs": [],
   "source": [
    "result2.groupby('alpha').mean()"
   ]
  },
  {
   "cell_type": "markdown",
   "metadata": {},
   "source": [
    "### Logistic Regression: Classification"
   ]
  },
  {
   "cell_type": "code",
   "execution_count": null,
   "metadata": {},
   "outputs": [],
   "source": [
    "target = 'Returns10D'\n",
    "label = (y[target] > 0).astype(int).to_frame(target)\n",
    "model_data = pd.concat([label, X], axis=1).dropna().reset_index('asset', drop=True)\n",
    "\n",
    "features = model_data.drop(target, axis=1).columns\n",
    "dates = model_data.index.unique()\n",
    "\n",
    "print(model_data.info())"
   ]
  },
  {
   "cell_type": "code",
   "execution_count": null,
   "metadata": {},
   "outputs": [],
   "source": [
    "nfolds = 250\n",
    "Cs = np.logspace(-5, 5, 11)\n",
    "scaler = StandardScaler()\n",
    "\n",
    "# logistic_result = pd.DataFrame(columns=['date', 'rmse', 'ic', 'pval', 'C'])\n",
    "logistic_preds = pd.DataFrame(columns=['actuals', 'predicted', 'C'])\n",
    "for C in Cs:\n",
    "    result = []\n",
    "    print(C)\n",
    "    log_reg = LogisticRegression(C=C)\n",
    "    for i, (train_dates, test_dates) in enumerate(time_series_split(dates, nfolds=nfolds)):\n",
    "\n",
    "        X_train = model_data.loc[idx[train_dates], features]\n",
    "        y_train = model_data.loc[idx[train_dates], target]\n",
    "        log_reg.fit(X=scaler.fit_transform(X_train), y=y_train)\n",
    "\n",
    "        X_test = model_data.loc[idx[test_dates], features]\n",
    "        y_test = model_data.loc[idx[test_dates], target]\n",
    "        y_pred = log_reg.predict_proba(scaler.transform(X_test))[:, 1]\n",
    "        \n",
    "#         rmse = np.sqrt(mean_squared_error(y_pred=y_pred, y_true=y_test))\n",
    "#         ic, pval = spearmanr(y_pred, y_test)\n",
    "        logistic_preds = (logistic_preds\n",
    "                          .append(y_test\n",
    "                                  .to_frame('actuals')\n",
    "                                  .assign(predicted=y_pred, C=C)))\n",
    "        \n",
    "#         result.append([train_dates[-1], rmse, ic, pval, alpha])\n",
    "#     logistic_result = logistic_result.append(pd.DataFrame(result))"
   ]
  },
  {
   "cell_type": "code",
   "execution_count": null,
   "metadata": {
    "scrolled": true
   },
   "outputs": [],
   "source": [
    "logistic_preds.info()"
   ]
  },
  {
   "cell_type": "code",
   "execution_count": null,
   "metadata": {},
   "outputs": [],
   "source": [
    "from sklearn.metrics import roc_auc_score"
   ]
  },
  {
   "cell_type": "code",
   "execution_count": null,
   "metadata": {},
   "outputs": [],
   "source": [
    "auc = logistic_preds.groupby('C').apply(lambda x: roc_auc_score(y_true=x.actuals.astype(int), \n",
    "                                                          y_score=x.predicted))\n",
    "auc"
   ]
  },
  {
   "cell_type": "code",
   "execution_count": null,
   "metadata": {},
   "outputs": [],
   "source": [
    "auc.sort_index(ascending=False).plot(logx=True);"
   ]
  },
  {
   "cell_type": "code",
   "execution_count": null,
   "metadata": {},
   "outputs": [],
   "source": [
    "logistic_preds.info()"
   ]
  },
  {
   "cell_type": "markdown",
   "metadata": {},
   "source": [
    "### Ordinal Logit"
   ]
  },
  {
   "cell_type": "code",
   "execution_count": null,
   "metadata": {},
   "outputs": [],
   "source": [
    "target = 'Returns10D'\n",
    "label = (y[target] > 0).astype(int).to_frame(target)\n",
    "model_data = pd.concat([label, X], axis=1).dropna().reset_index('asset', drop=True)\n",
    "\n",
    "features = model_data.drop(target, axis=1).columns\n",
    "dates = model_data.index.unique()\n",
    "\n",
    "print(model_data.info())"
   ]
  },
  {
   "cell_type": "code",
   "execution_count": null,
   "metadata": {},
   "outputs": [],
   "source": []
  },
  {
   "cell_type": "code",
   "execution_count": null,
   "metadata": {},
   "outputs": [],
   "source": []
  },
  {
   "cell_type": "markdown",
   "metadata": {},
   "source": [
    "## TA-Lib"
   ]
  },
  {
   "cell_type": "code",
   "execution_count": null,
   "metadata": {},
   "outputs": [],
   "source": [
    "class Technical:\n",
    "    @staticmethod\n",
    "    def make_bbands(timeperiod=5, nbdevup=2, nbdevdn=2, matype=0):\n",
    "        class BBANDS(CustomFactor):\n",
    "            \"\"\"Lower, middle, and upper Bollinger Bands\"\"\"\n",
    "\n",
    "            inputs = [EquityPricing.close]\n",
    "            outputs = ['upper', 'middle', 'lower']\n",
    "            window_length = timeperiod\n",
    "\n",
    "            def compute(self, today, assets, out, close_prices):\n",
    "                bb = []\n",
    "                for close in close_prices.T:\n",
    "                    u, m, l = talib.BBANDS(close, timeperiod=timeperiod, \n",
    "                                nbdevup=nbdevup, nbdevdn=nbdevdn, \n",
    "                                matype=matype)\n",
    "                    bb.append((u[-1], m[-1], l[-1]))\n",
    "                out.upper[:], out.middle[:], out.lower[:] = list(zip(*bb))\n",
    "        return BBANDS\n",
    "    \n",
    "    @staticmethod\n",
    "    def make_ema(timeperiod=30):\n",
    "        class EMA(CustomFactor):\n",
    "            \"\"\"Double Exponential Moving Average\"\"\"\n",
    "            inputs = [EquityPricing.close]\n",
    "            window_length = timeperiod\n",
    "            \n",
    "            def compute(self, today, assets, out, close_prices):\n",
    "                out[:] = [talib.EMA(p, timeperiod=timeperiod)[-1] for p in close_prices.T]\n",
    "        return EMA \n",
    "    \n",
    "    @staticmethod\n",
    "    def make_dx(timeperiod=14):\n",
    "        class DX(CustomFactor):\n",
    "            \"\"\"Directional Movement Index\"\"\"\n",
    "            inputs = [EquityPricing.high, \n",
    "                      EquityPricing.low, \n",
    "                      EquityPricing.close]\n",
    "            window_length = timeperiod + 1\n",
    "            \n",
    "            def compute(self, today, assets, out, high, low, close):\n",
    "                out[:] = [talib.DX(high[:, i], \n",
    "                                   low[:, i], \n",
    "                                   close[:, i], \n",
    "                                   timeperiod=timeperiod)[-1] \n",
    "                          for i in range(len(assets))]\n",
    "        return DX  \n",
    "    \n",
    "    \n",
    "    @staticmethod\n",
    "    def make_mfi(timeperiod=14):\n",
    "        class MFI(CustomFactor):\n",
    "            \"\"\"Money Flow Index\"\"\"\n",
    "            inputs = [EquityPricing.high, \n",
    "                      EquityPricing.low, \n",
    "                      EquityPricing.close,\n",
    "                      EquityPricing.volume]\n",
    "            window_length = timeperiod + 1\n",
    "            \n",
    "            def compute(self, today, assets, out, high, low, close, vol):\n",
    "                out[:] = [talib.MFI(high[:, i], \n",
    "                                    low[:, i], \n",
    "                                    close[:, i],\n",
    "                                    vol[:, i],\n",
    "                                    timeperiod=timeperiod)[-1] \n",
    "                          for i in range(len(assets))]\n",
    "        return MFI     "
   ]
  },
  {
   "cell_type": "code",
   "execution_count": null,
   "metadata": {
    "ExecuteTime": {
     "end_time": "2018-09-10T03:19:05.197299Z",
     "start_time": "2018-09-10T03:19:05.193996Z"
    }
   },
   "outputs": [],
   "source": [
    "def test_pipeline():\n",
    "    stocks = StaticAssets(symbols(['MSFT', 'AAPL']))\n",
    "#     DX = Technical.make_dx()\n",
    "    MFI = Technical.make_mfi()\n",
    "    \n",
    "    ewma = EWMA(inputs=[EquityPricing.high],\n",
    "                        window_length=30, \n",
    "                        decay_rate=.2,\n",
    "                        mask=stocks)\n",
    "    bb = BollingerBands(window_length=30, k=2, mask=stocks)\n",
    "    return Pipeline({'adx': Technical.make_dx()(mask=stocks),\n",
    "                     'mfi': MFI(mask=stocks),\n",
    "                     'ewma': ewma,\n",
    "                     'lower': bb.lower,\n",
    "                     'mid': bb.middle,\n",
    "                     'up': bb.upper},\n",
    "                    screen=stocks)"
   ]
  },
  {
   "cell_type": "code",
   "execution_count": null,
   "metadata": {},
   "outputs": [],
   "source": [
    "start_timer = time()\n",
    "result = run_pipeline(test_pipeline(), \n",
    "                      start_date='2018-05-01',\n",
    "                      end_date='2018-07-31')\n",
    "print('Pipeline run time {:.2f} secs'.format(time() - start_timer))\n",
    "result.tail(10)"
   ]
  },
  {
   "cell_type": "code",
   "execution_count": null,
   "metadata": {},
   "outputs": [],
   "source": [
    "def momentum_pipeline_alt():\n",
    "    ewma = EWMA(inputs=[EquityPricing.high],\n",
    "                        window_length=30, \n",
    "                        decay_rate=.2,\n",
    "                        mask=UNIVERSE)\n",
    "    bb = BollingerBands(window_length=30, k=2, mask=UNIVERSE)\n",
    "    \n",
    "    STOCH = MomentumFactors.make_stochastic_oscillator()\n",
    "    spo = STOCH(mask=UNIVERSE)\n",
    "\n",
    "    columns = {'ewma': ewma,\n",
    "               'so_slowk': spo.slowk,\n",
    "               'so_slowd': spo.slowd,\n",
    "               'bb_lower': bb.lower,\n",
    "               'bb_mid': bb.middle,\n",
    "               'bb_up': bb.upper}\n",
    "    columns.update({k: v(mask=UNIVERSE) for k, v in MOMENTUM_FACTORS.items()})\n",
    "    \n",
    "    return Pipeline(columns,\n",
    "                    screen=UNIVERSE)"
   ]
  },
  {
   "cell_type": "code",
   "execution_count": null,
   "metadata": {},
   "outputs": [],
   "source": []
  }
 ],
 "metadata": {
  "kernelspec": {
   "display_name": "Python 3 (ipykernel)",
   "language": "python",
   "name": "python3"
  },
  "language_info": {
   "codemirror_mode": {
    "name": "ipython",
    "version": 3
   },
   "file_extension": ".py",
   "mimetype": "text/x-python",
   "name": "python",
   "nbconvert_exporter": "python",
   "pygments_lexer": "ipython3",
   "version": "3.9.12"
  },
  "toc": {
   "base_numbering": 1,
   "nav_menu": {},
   "number_sections": true,
   "sideBar": true,
   "skip_h1_title": false,
   "title_cell": "Table of Contents",
   "title_sidebar": "Contents",
   "toc_cell": false,
   "toc_position": {},
   "toc_section_display": true,
   "toc_window_display": true
  }
 },
 "nbformat": 4,
 "nbformat_minor": 4
}
